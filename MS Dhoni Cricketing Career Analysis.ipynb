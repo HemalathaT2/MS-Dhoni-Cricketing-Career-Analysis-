{
 "cells": [
  {
   "cell_type": "code",
   "execution_count": 2,
   "id": "c3a42c43",
   "metadata": {},
   "outputs": [],
   "source": [
    "import numpy as np\n",
    "import plotly.express as px\n",
    "import plotly.graph_objects as go\n",
    "import pandas as pd\n",
    "import seaborn as sns\n",
    "import matplotlib.pyplot as plt"
   ]
  },
  {
   "cell_type": "code",
   "execution_count": 3,
   "id": "cc5d45a3",
   "metadata": {},
   "outputs": [
    {
     "name": "stdout",
     "output_type": "stream",
     "text": [
      "   Sr. No.        Date      Versus                                   Ground  \\\n",
      "0      1.0  23/12/2004  Bangladesh                          MA Aziz Stadium   \n",
      "1      2.0  26/12/2004  Bangladesh             Bangabandhu National Stadium   \n",
      "2      3.0  27/12/2004  Bangladesh             Bangabandhu National Stadium   \n",
      "3      4.0  02/04/2005    Pakistan                    Nehru Stadium (Kochi)   \n",
      "4      5.0  05/04/2005    Pakistan  Dr YS Rajasekhara Reddy Cricket Stadium   \n",
      "\n",
      "              Coordinates  D/N                        How Dismissed Runs  B/F  \\\n",
      "0                  #NAME?   No                              run out    0    1   \n",
      "1  23.7282° N, 90.4133° E  Yes  c Habibul Bashar b Mashrafe Mortaza   12   11   \n",
      "2  23.7282° N, 90.4133° E  Yes                              not out    7    2   \n",
      "3   9.9973° N, 76.3007° E   No       c Naved-ul-Hasan b Arshad Khan    3    7   \n",
      "4  17.7977° N, 83.3523° E   No     c Shoaib Malik b Mohammad Hafeez  148  123   \n",
      "\n",
      "      S/R   Aggr    Avg   S/R.1  \n",
      "0       0    0.0   0.00    0.00  \n",
      "1  109.09   12.0   6.00  100.00  \n",
      "2     350   19.0   9.50  135.71  \n",
      "3   42.86   22.0   7.33  104.76  \n",
      "4  120.33  170.0  42.50  118.06  \n"
     ]
    }
   ],
   "source": [
    "data = pd.read_csv(\"mahi.csv\")\n",
    "print(data.head())"
   ]
  },
  {
   "cell_type": "code",
   "execution_count": 5,
   "id": "71af6771",
   "metadata": {},
   "outputs": [
    {
     "name": "stdout",
     "output_type": "stream",
     "text": [
      "<class 'pandas.core.frame.DataFrame'>\n",
      "RangeIndex: 351 entries, 0 to 350\n",
      "Data columns (total 13 columns):\n",
      " #   Column         Non-Null Count  Dtype  \n",
      "---  ------         --------------  -----  \n",
      " 0   Sr. No.        350 non-null    float64\n",
      " 1   Date           350 non-null    object \n",
      " 2   Versus         350 non-null    object \n",
      " 3   Ground         350 non-null    object \n",
      " 4   Coordinates    350 non-null    object \n",
      " 5   D/N            350 non-null    object \n",
      " 6   How Dismissed  350 non-null    object \n",
      " 7   Runs           350 non-null    object \n",
      " 8   B/F            351 non-null    object \n",
      " 9   S/R            350 non-null    object \n",
      " 10  Aggr           350 non-null    float64\n",
      " 11  Avg            350 non-null    float64\n",
      " 12  S/R.1          350 non-null    float64\n",
      "dtypes: float64(4), object(9)\n",
      "memory usage: 35.8+ KB\n"
     ]
    }
   ],
   "source": [
    "data.info()"
   ]
  },
  {
   "cell_type": "code",
   "execution_count": 6,
   "id": "c8656d38",
   "metadata": {},
   "outputs": [
    {
     "data": {
      "text/html": [
       "<div>\n",
       "<style scoped>\n",
       "    .dataframe tbody tr th:only-of-type {\n",
       "        vertical-align: middle;\n",
       "    }\n",
       "\n",
       "    .dataframe tbody tr th {\n",
       "        vertical-align: top;\n",
       "    }\n",
       "\n",
       "    .dataframe thead th {\n",
       "        text-align: right;\n",
       "    }\n",
       "</style>\n",
       "<table border=\"1\" class=\"dataframe\">\n",
       "  <thead>\n",
       "    <tr style=\"text-align: right;\">\n",
       "      <th></th>\n",
       "      <th>Sr. No.</th>\n",
       "      <th>Aggr</th>\n",
       "      <th>Avg</th>\n",
       "      <th>S/R.1</th>\n",
       "    </tr>\n",
       "  </thead>\n",
       "  <tbody>\n",
       "    <tr>\n",
       "      <th>count</th>\n",
       "      <td>350.000000</td>\n",
       "      <td>350.000000</td>\n",
       "      <td>350.000000</td>\n",
       "      <td>350.000000</td>\n",
       "    </tr>\n",
       "    <tr>\n",
       "      <th>mean</th>\n",
       "      <td>175.500000</td>\n",
       "      <td>5612.551429</td>\n",
       "      <td>48.520657</td>\n",
       "      <td>92.198771</td>\n",
       "    </tr>\n",
       "    <tr>\n",
       "      <th>std</th>\n",
       "      <td>101.180532</td>\n",
       "      <td>3246.593382</td>\n",
       "      <td>6.178298</td>\n",
       "      <td>8.041200</td>\n",
       "    </tr>\n",
       "    <tr>\n",
       "      <th>min</th>\n",
       "      <td>1.000000</td>\n",
       "      <td>0.000000</td>\n",
       "      <td>0.000000</td>\n",
       "      <td>0.000000</td>\n",
       "    </tr>\n",
       "    <tr>\n",
       "      <th>25%</th>\n",
       "      <td>88.250000</td>\n",
       "      <td>2619.000000</td>\n",
       "      <td>47.287500</td>\n",
       "      <td>88.410000</td>\n",
       "    </tr>\n",
       "    <tr>\n",
       "      <th>50%</th>\n",
       "      <td>175.500000</td>\n",
       "      <td>5802.000000</td>\n",
       "      <td>50.580000</td>\n",
       "      <td>89.255000</td>\n",
       "    </tr>\n",
       "    <tr>\n",
       "      <th>75%</th>\n",
       "      <td>262.750000</td>\n",
       "      <td>8502.750000</td>\n",
       "      <td>51.550000</td>\n",
       "      <td>95.387500</td>\n",
       "    </tr>\n",
       "    <tr>\n",
       "      <th>max</th>\n",
       "      <td>350.000000</td>\n",
       "      <td>10773.000000</td>\n",
       "      <td>54.580000</td>\n",
       "      <td>135.710000</td>\n",
       "    </tr>\n",
       "  </tbody>\n",
       "</table>\n",
       "</div>"
      ],
      "text/plain": [
       "          Sr. No.          Aggr         Avg       S/R.1\n",
       "count  350.000000    350.000000  350.000000  350.000000\n",
       "mean   175.500000   5612.551429   48.520657   92.198771\n",
       "std    101.180532   3246.593382    6.178298    8.041200\n",
       "min      1.000000      0.000000    0.000000    0.000000\n",
       "25%     88.250000   2619.000000   47.287500   88.410000\n",
       "50%    175.500000   5802.000000   50.580000   89.255000\n",
       "75%    262.750000   8502.750000   51.550000   95.387500\n",
       "max    350.000000  10773.000000   54.580000  135.710000"
      ]
     },
     "execution_count": 6,
     "metadata": {},
     "output_type": "execute_result"
    }
   ],
   "source": [
    "data.describe()"
   ]
  },
  {
   "cell_type": "code",
   "execution_count": 7,
   "id": "8ca4c369",
   "metadata": {},
   "outputs": [
    {
     "name": "stdout",
     "output_type": "stream",
     "text": [
      "Sr. No.          1\n",
      "Date             1\n",
      "Versus           1\n",
      "Ground           1\n",
      "Coordinates      1\n",
      "D/N              1\n",
      "How Dismissed    1\n",
      "Runs             1\n",
      "B/F              0\n",
      "S/R              1\n",
      "Aggr             1\n",
      "Avg              1\n",
      "S/R.1            1\n",
      "dtype: int64\n"
     ]
    }
   ],
   "source": [
    "print(data.isnull().sum())"
   ]
  },
  {
   "cell_type": "code",
   "execution_count": 8,
   "id": "28c7e857",
   "metadata": {},
   "outputs": [
    {
     "name": "stdout",
     "output_type": "stream",
     "text": [
      "Total Runs: 10773.0\n"
     ]
    }
   ],
   "source": [
    "data['Runs'] = pd.to_numeric(data['Runs'], errors='coerce')\n",
    "\n",
    "total_runs = data['Runs'].sum()\n",
    "\n",
    "print(\"Total Runs:\", total_runs)"
   ]
  },
  {
   "cell_type": "code",
   "execution_count": 15,
   "id": "466b5506",
   "metadata": {},
   "outputs": [
    {
     "data": {
      "application/vnd.plotly.v1+json": {
       "config": {
        "plotlyServerURL": "https://plot.ly"
       },
       "data": [
        {
         "hovertemplate": "Innings=%{x}<br>Runs=%{y}<extra></extra>",
         "legendgroup": "",
         "line": {
          "color": "#636efa",
          "dash": "solid"
         },
         "marker": {
          "symbol": "circle"
         },
         "mode": "lines",
         "name": "",
         "orientation": "v",
         "showlegend": false,
         "type": "scatter",
         "x": [
          0,
          1,
          2,
          3,
          4,
          5,
          6,
          7,
          8,
          9,
          10,
          11,
          12,
          13,
          14,
          15,
          16,
          17,
          18,
          19,
          20,
          21,
          22,
          23,
          24,
          25,
          26,
          27,
          28,
          29,
          30,
          31,
          32,
          33,
          34,
          35,
          36,
          37,
          38,
          39,
          40,
          41,
          42,
          43,
          44,
          45,
          46,
          47,
          48,
          49,
          50,
          51,
          52,
          53,
          54,
          55,
          56,
          57,
          58,
          59,
          60,
          61,
          62,
          63,
          64,
          65,
          66,
          67,
          68,
          69,
          70,
          71,
          72,
          73,
          74,
          75,
          76,
          77,
          78,
          79,
          80,
          81,
          82,
          83,
          84,
          85,
          86,
          87,
          88,
          89,
          90,
          91,
          92,
          93,
          94,
          95,
          96,
          97,
          98,
          99,
          100,
          101,
          102,
          103,
          104,
          105,
          106,
          107,
          108,
          109,
          110,
          111,
          112,
          113,
          114,
          115,
          116,
          117,
          118,
          119,
          120,
          121,
          122,
          123,
          124,
          125,
          126,
          127,
          128,
          129,
          130,
          131,
          132,
          133,
          134,
          135,
          136,
          137,
          138,
          139,
          140,
          141,
          142,
          143,
          144,
          145,
          146,
          147,
          148,
          149,
          150,
          151,
          152,
          153,
          154,
          155,
          156,
          157,
          158,
          159,
          160,
          161,
          162,
          163,
          164,
          165,
          166,
          167,
          168,
          169,
          170,
          171,
          172,
          173,
          174,
          175,
          176,
          177,
          178,
          179,
          180,
          181,
          182,
          183,
          184,
          185,
          186,
          187,
          188,
          189,
          190,
          191,
          192,
          193,
          194,
          195,
          196,
          197,
          198,
          199,
          200,
          201,
          202,
          203,
          204,
          205,
          206,
          207,
          208,
          209,
          210,
          211,
          212,
          213,
          214,
          215,
          216,
          217,
          218,
          219,
          220,
          221,
          222,
          223,
          224,
          225,
          226,
          227,
          228,
          229,
          230,
          231,
          232,
          233,
          234,
          235,
          236,
          237,
          238,
          239,
          240,
          241,
          242,
          243,
          244,
          245,
          246,
          247,
          248,
          249,
          250,
          251,
          252,
          253,
          254,
          255,
          256,
          257,
          258,
          259,
          260,
          261,
          262,
          263,
          264,
          265,
          266,
          267,
          268,
          269,
          270,
          271,
          272,
          273,
          274,
          275,
          276,
          277,
          278,
          279,
          280,
          281,
          282,
          283,
          284,
          285,
          286,
          287,
          288,
          289,
          290,
          291,
          292,
          293,
          294,
          295,
          296,
          297,
          298,
          299,
          300,
          301,
          302,
          303,
          304,
          305,
          306,
          307,
          308,
          309,
          310,
          311,
          312,
          313,
          314,
          315,
          316,
          317,
          318,
          319,
          320,
          321,
          322,
          323,
          324,
          325,
          326,
          327,
          328,
          329,
          330,
          331,
          332,
          333,
          334,
          335,
          336,
          337,
          338,
          339,
          340,
          341,
          342,
          343,
          344,
          345,
          346,
          347,
          348,
          349,
          350
         ],
         "xaxis": "x",
         "y": [
          0,
          12,
          7,
          3,
          148,
          28,
          47,
          11,
          24,
          2,
          15,
          20,
          28,
          7,
          2,
          56,
          37,
          67,
          11,
          38,
          null,
          183,
          45,
          0,
          null,
          80,
          17,
          null,
          14,
          12,
          68,
          null,
          72,
          2,
          77,
          20,
          38,
          13,
          10,
          96,
          3,
          59,
          18,
          2,
          15,
          46,
          14,
          null,
          2,
          null,
          18,
          23,
          7,
          51,
          28,
          14,
          55,
          26,
          44,
          62,
          6,
          40,
          null,
          48,
          67,
          null,
          0,
          29,
          0,
          91,
          36,
          2,
          33,
          139,
          0,
          14,
          null,
          19,
          21,
          13,
          13,
          24,
          35,
          50,
          null,
          58,
          33,
          50,
          4,
          26,
          5,
          63,
          4,
          49,
          45,
          24,
          37,
          88,
          17,
          31,
          37,
          50,
          36,
          null,
          15,
          36,
          24,
          null,
          64,
          109,
          26,
          null,
          76,
          67,
          49,
          6,
          39,
          76,
          71,
          1,
          39,
          15,
          29,
          9,
          50,
          61,
          23,
          35,
          94,
          53,
          84,
          23,
          68,
          null,
          9,
          41,
          95,
          46,
          null,
          35,
          8,
          56,
          3,
          null,
          null,
          34,
          124,
          71,
          26,
          6,
          24,
          72,
          107,
          null,
          37,
          101,
          null,
          32,
          14,
          26,
          68,
          9,
          38,
          56,
          41,
          38,
          2,
          23,
          10,
          38,
          67,
          0,
          25,
          38,
          5,
          2,
          5,
          null,
          31,
          34,
          19,
          12,
          22,
          7,
          25,
          91,
          33,
          6,
          69,
          78,
          50,
          87,
          null,
          35,
          15,
          75,
          29,
          4,
          44,
          58,
          56,
          14,
          null,
          46,
          21,
          4,
          35,
          11,
          31,
          null,
          58,
          113,
          54,
          36,
          32,
          72,
          10,
          19,
          15,
          27,
          null,
          null,
          null,
          0,
          27,
          45,
          19,
          null,
          139,
          null,
          25,
          62,
          13,
          51,
          23,
          65,
          19,
          null,
          40,
          56,
          50,
          79,
          47,
          52,
          null,
          null,
          29,
          8,
          51,
          6,
          19,
          34,
          null,
          17,
          18,
          18,
          null,
          45,
          null,
          85,
          6,
          65,
          5,
          47,
          69,
          31,
          92,
          47,
          15,
          27,
          18,
          11,
          23,
          0,
          34,
          null,
          null,
          null,
          21,
          39,
          80,
          11,
          41,
          6,
          134,
          25,
          null,
          63,
          null,
          null,
          4,
          9,
          13,
          78,
          54,
          null,
          null,
          45,
          67,
          49,
          1,
          79,
          5,
          3,
          13,
          null,
          25,
          18,
          25,
          65,
          7,
          null,
          4,
          null,
          10,
          42,
          13,
          null,
          null,
          37,
          42,
          0,
          null,
          33,
          null,
          8,
          36,
          null,
          20,
          7,
          23,
          null,
          51,
          55,
          87,
          null,
          48,
          1,
          59,
          0,
          26,
          34,
          27,
          1,
          28,
          56,
          42,
          35,
          null,
          50,
          null
         ],
         "yaxis": "y"
        }
       ],
       "layout": {
        "legend": {
         "tracegroupgap": 0
        },
        "template": {
         "data": {
          "bar": [
           {
            "error_x": {
             "color": "#2a3f5f"
            },
            "error_y": {
             "color": "#2a3f5f"
            },
            "marker": {
             "line": {
              "color": "#E5ECF6",
              "width": 0.5
             },
             "pattern": {
              "fillmode": "overlay",
              "size": 10,
              "solidity": 0.2
             }
            },
            "type": "bar"
           }
          ],
          "barpolar": [
           {
            "marker": {
             "line": {
              "color": "#E5ECF6",
              "width": 0.5
             },
             "pattern": {
              "fillmode": "overlay",
              "size": 10,
              "solidity": 0.2
             }
            },
            "type": "barpolar"
           }
          ],
          "carpet": [
           {
            "aaxis": {
             "endlinecolor": "#2a3f5f",
             "gridcolor": "white",
             "linecolor": "white",
             "minorgridcolor": "white",
             "startlinecolor": "#2a3f5f"
            },
            "baxis": {
             "endlinecolor": "#2a3f5f",
             "gridcolor": "white",
             "linecolor": "white",
             "minorgridcolor": "white",
             "startlinecolor": "#2a3f5f"
            },
            "type": "carpet"
           }
          ],
          "choropleth": [
           {
            "colorbar": {
             "outlinewidth": 0,
             "ticks": ""
            },
            "type": "choropleth"
           }
          ],
          "contour": [
           {
            "colorbar": {
             "outlinewidth": 0,
             "ticks": ""
            },
            "colorscale": [
             [
              0,
              "#0d0887"
             ],
             [
              0.1111111111111111,
              "#46039f"
             ],
             [
              0.2222222222222222,
              "#7201a8"
             ],
             [
              0.3333333333333333,
              "#9c179e"
             ],
             [
              0.4444444444444444,
              "#bd3786"
             ],
             [
              0.5555555555555556,
              "#d8576b"
             ],
             [
              0.6666666666666666,
              "#ed7953"
             ],
             [
              0.7777777777777778,
              "#fb9f3a"
             ],
             [
              0.8888888888888888,
              "#fdca26"
             ],
             [
              1,
              "#f0f921"
             ]
            ],
            "type": "contour"
           }
          ],
          "contourcarpet": [
           {
            "colorbar": {
             "outlinewidth": 0,
             "ticks": ""
            },
            "type": "contourcarpet"
           }
          ],
          "heatmap": [
           {
            "colorbar": {
             "outlinewidth": 0,
             "ticks": ""
            },
            "colorscale": [
             [
              0,
              "#0d0887"
             ],
             [
              0.1111111111111111,
              "#46039f"
             ],
             [
              0.2222222222222222,
              "#7201a8"
             ],
             [
              0.3333333333333333,
              "#9c179e"
             ],
             [
              0.4444444444444444,
              "#bd3786"
             ],
             [
              0.5555555555555556,
              "#d8576b"
             ],
             [
              0.6666666666666666,
              "#ed7953"
             ],
             [
              0.7777777777777778,
              "#fb9f3a"
             ],
             [
              0.8888888888888888,
              "#fdca26"
             ],
             [
              1,
              "#f0f921"
             ]
            ],
            "type": "heatmap"
           }
          ],
          "heatmapgl": [
           {
            "colorbar": {
             "outlinewidth": 0,
             "ticks": ""
            },
            "colorscale": [
             [
              0,
              "#0d0887"
             ],
             [
              0.1111111111111111,
              "#46039f"
             ],
             [
              0.2222222222222222,
              "#7201a8"
             ],
             [
              0.3333333333333333,
              "#9c179e"
             ],
             [
              0.4444444444444444,
              "#bd3786"
             ],
             [
              0.5555555555555556,
              "#d8576b"
             ],
             [
              0.6666666666666666,
              "#ed7953"
             ],
             [
              0.7777777777777778,
              "#fb9f3a"
             ],
             [
              0.8888888888888888,
              "#fdca26"
             ],
             [
              1,
              "#f0f921"
             ]
            ],
            "type": "heatmapgl"
           }
          ],
          "histogram": [
           {
            "marker": {
             "pattern": {
              "fillmode": "overlay",
              "size": 10,
              "solidity": 0.2
             }
            },
            "type": "histogram"
           }
          ],
          "histogram2d": [
           {
            "colorbar": {
             "outlinewidth": 0,
             "ticks": ""
            },
            "colorscale": [
             [
              0,
              "#0d0887"
             ],
             [
              0.1111111111111111,
              "#46039f"
             ],
             [
              0.2222222222222222,
              "#7201a8"
             ],
             [
              0.3333333333333333,
              "#9c179e"
             ],
             [
              0.4444444444444444,
              "#bd3786"
             ],
             [
              0.5555555555555556,
              "#d8576b"
             ],
             [
              0.6666666666666666,
              "#ed7953"
             ],
             [
              0.7777777777777778,
              "#fb9f3a"
             ],
             [
              0.8888888888888888,
              "#fdca26"
             ],
             [
              1,
              "#f0f921"
             ]
            ],
            "type": "histogram2d"
           }
          ],
          "histogram2dcontour": [
           {
            "colorbar": {
             "outlinewidth": 0,
             "ticks": ""
            },
            "colorscale": [
             [
              0,
              "#0d0887"
             ],
             [
              0.1111111111111111,
              "#46039f"
             ],
             [
              0.2222222222222222,
              "#7201a8"
             ],
             [
              0.3333333333333333,
              "#9c179e"
             ],
             [
              0.4444444444444444,
              "#bd3786"
             ],
             [
              0.5555555555555556,
              "#d8576b"
             ],
             [
              0.6666666666666666,
              "#ed7953"
             ],
             [
              0.7777777777777778,
              "#fb9f3a"
             ],
             [
              0.8888888888888888,
              "#fdca26"
             ],
             [
              1,
              "#f0f921"
             ]
            ],
            "type": "histogram2dcontour"
           }
          ],
          "mesh3d": [
           {
            "colorbar": {
             "outlinewidth": 0,
             "ticks": ""
            },
            "type": "mesh3d"
           }
          ],
          "parcoords": [
           {
            "line": {
             "colorbar": {
              "outlinewidth": 0,
              "ticks": ""
             }
            },
            "type": "parcoords"
           }
          ],
          "pie": [
           {
            "automargin": true,
            "type": "pie"
           }
          ],
          "scatter": [
           {
            "marker": {
             "colorbar": {
              "outlinewidth": 0,
              "ticks": ""
             }
            },
            "type": "scatter"
           }
          ],
          "scatter3d": [
           {
            "line": {
             "colorbar": {
              "outlinewidth": 0,
              "ticks": ""
             }
            },
            "marker": {
             "colorbar": {
              "outlinewidth": 0,
              "ticks": ""
             }
            },
            "type": "scatter3d"
           }
          ],
          "scattercarpet": [
           {
            "marker": {
             "colorbar": {
              "outlinewidth": 0,
              "ticks": ""
             }
            },
            "type": "scattercarpet"
           }
          ],
          "scattergeo": [
           {
            "marker": {
             "colorbar": {
              "outlinewidth": 0,
              "ticks": ""
             }
            },
            "type": "scattergeo"
           }
          ],
          "scattergl": [
           {
            "marker": {
             "colorbar": {
              "outlinewidth": 0,
              "ticks": ""
             }
            },
            "type": "scattergl"
           }
          ],
          "scattermapbox": [
           {
            "marker": {
             "colorbar": {
              "outlinewidth": 0,
              "ticks": ""
             }
            },
            "type": "scattermapbox"
           }
          ],
          "scatterpolar": [
           {
            "marker": {
             "colorbar": {
              "outlinewidth": 0,
              "ticks": ""
             }
            },
            "type": "scatterpolar"
           }
          ],
          "scatterpolargl": [
           {
            "marker": {
             "colorbar": {
              "outlinewidth": 0,
              "ticks": ""
             }
            },
            "type": "scatterpolargl"
           }
          ],
          "scatterternary": [
           {
            "marker": {
             "colorbar": {
              "outlinewidth": 0,
              "ticks": ""
             }
            },
            "type": "scatterternary"
           }
          ],
          "surface": [
           {
            "colorbar": {
             "outlinewidth": 0,
             "ticks": ""
            },
            "colorscale": [
             [
              0,
              "#0d0887"
             ],
             [
              0.1111111111111111,
              "#46039f"
             ],
             [
              0.2222222222222222,
              "#7201a8"
             ],
             [
              0.3333333333333333,
              "#9c179e"
             ],
             [
              0.4444444444444444,
              "#bd3786"
             ],
             [
              0.5555555555555556,
              "#d8576b"
             ],
             [
              0.6666666666666666,
              "#ed7953"
             ],
             [
              0.7777777777777778,
              "#fb9f3a"
             ],
             [
              0.8888888888888888,
              "#fdca26"
             ],
             [
              1,
              "#f0f921"
             ]
            ],
            "type": "surface"
           }
          ],
          "table": [
           {
            "cells": {
             "fill": {
              "color": "#EBF0F8"
             },
             "line": {
              "color": "white"
             }
            },
            "header": {
             "fill": {
              "color": "#C8D4E3"
             },
             "line": {
              "color": "white"
             }
            },
            "type": "table"
           }
          ]
         },
         "layout": {
          "annotationdefaults": {
           "arrowcolor": "#2a3f5f",
           "arrowhead": 0,
           "arrowwidth": 1
          },
          "autotypenumbers": "strict",
          "coloraxis": {
           "colorbar": {
            "outlinewidth": 0,
            "ticks": ""
           }
          },
          "colorscale": {
           "diverging": [
            [
             0,
             "#8e0152"
            ],
            [
             0.1,
             "#c51b7d"
            ],
            [
             0.2,
             "#de77ae"
            ],
            [
             0.3,
             "#f1b6da"
            ],
            [
             0.4,
             "#fde0ef"
            ],
            [
             0.5,
             "#f7f7f7"
            ],
            [
             0.6,
             "#e6f5d0"
            ],
            [
             0.7,
             "#b8e186"
            ],
            [
             0.8,
             "#7fbc41"
            ],
            [
             0.9,
             "#4d9221"
            ],
            [
             1,
             "#276419"
            ]
           ],
           "sequential": [
            [
             0,
             "#0d0887"
            ],
            [
             0.1111111111111111,
             "#46039f"
            ],
            [
             0.2222222222222222,
             "#7201a8"
            ],
            [
             0.3333333333333333,
             "#9c179e"
            ],
            [
             0.4444444444444444,
             "#bd3786"
            ],
            [
             0.5555555555555556,
             "#d8576b"
            ],
            [
             0.6666666666666666,
             "#ed7953"
            ],
            [
             0.7777777777777778,
             "#fb9f3a"
            ],
            [
             0.8888888888888888,
             "#fdca26"
            ],
            [
             1,
             "#f0f921"
            ]
           ],
           "sequentialminus": [
            [
             0,
             "#0d0887"
            ],
            [
             0.1111111111111111,
             "#46039f"
            ],
            [
             0.2222222222222222,
             "#7201a8"
            ],
            [
             0.3333333333333333,
             "#9c179e"
            ],
            [
             0.4444444444444444,
             "#bd3786"
            ],
            [
             0.5555555555555556,
             "#d8576b"
            ],
            [
             0.6666666666666666,
             "#ed7953"
            ],
            [
             0.7777777777777778,
             "#fb9f3a"
            ],
            [
             0.8888888888888888,
             "#fdca26"
            ],
            [
             1,
             "#f0f921"
            ]
           ]
          },
          "colorway": [
           "#636efa",
           "#EF553B",
           "#00cc96",
           "#ab63fa",
           "#FFA15A",
           "#19d3f3",
           "#FF6692",
           "#B6E880",
           "#FF97FF",
           "#FECB52"
          ],
          "font": {
           "color": "#2a3f5f"
          },
          "geo": {
           "bgcolor": "white",
           "lakecolor": "white",
           "landcolor": "#E5ECF6",
           "showlakes": true,
           "showland": true,
           "subunitcolor": "white"
          },
          "hoverlabel": {
           "align": "left"
          },
          "hovermode": "closest",
          "mapbox": {
           "style": "light"
          },
          "paper_bgcolor": "white",
          "plot_bgcolor": "#E5ECF6",
          "polar": {
           "angularaxis": {
            "gridcolor": "white",
            "linecolor": "white",
            "ticks": ""
           },
           "bgcolor": "#E5ECF6",
           "radialaxis": {
            "gridcolor": "white",
            "linecolor": "white",
            "ticks": ""
           }
          },
          "scene": {
           "xaxis": {
            "backgroundcolor": "#E5ECF6",
            "gridcolor": "white",
            "gridwidth": 2,
            "linecolor": "white",
            "showbackground": true,
            "ticks": "",
            "zerolinecolor": "white"
           },
           "yaxis": {
            "backgroundcolor": "#E5ECF6",
            "gridcolor": "white",
            "gridwidth": 2,
            "linecolor": "white",
            "showbackground": true,
            "ticks": "",
            "zerolinecolor": "white"
           },
           "zaxis": {
            "backgroundcolor": "#E5ECF6",
            "gridcolor": "white",
            "gridwidth": 2,
            "linecolor": "white",
            "showbackground": true,
            "ticks": "",
            "zerolinecolor": "white"
           }
          },
          "shapedefaults": {
           "line": {
            "color": "#2a3f5f"
           }
          },
          "ternary": {
           "aaxis": {
            "gridcolor": "white",
            "linecolor": "white",
            "ticks": ""
           },
           "baxis": {
            "gridcolor": "white",
            "linecolor": "white",
            "ticks": ""
           },
           "bgcolor": "#E5ECF6",
           "caxis": {
            "gridcolor": "white",
            "linecolor": "white",
            "ticks": ""
           }
          },
          "title": {
           "x": 0.05
          },
          "xaxis": {
           "automargin": true,
           "gridcolor": "white",
           "linecolor": "white",
           "ticks": "",
           "title": {
            "standoff": 15
           },
           "zerolinecolor": "white",
           "zerolinewidth": 2
          },
          "yaxis": {
           "automargin": true,
           "gridcolor": "white",
           "linecolor": "white",
           "ticks": "",
           "title": {
            "standoff": 15
           },
           "zerolinecolor": "white",
           "zerolinewidth": 2
          }
         }
        },
        "title": {
         "text": "Runs Scored by Dhoni Per Innings"
        },
        "xaxis": {
         "anchor": "y",
         "domain": [
          0,
          1
         ],
         "title": {
          "text": "Innings"
         }
        },
        "yaxis": {
         "anchor": "x",
         "domain": [
          0,
          1
         ],
         "title": {
          "text": "Runs"
         }
        }
       }
      },
      "text/html": [
       "<div>                            <div id=\"73c0657b-493c-427d-b5fe-cb207894bb7c\" class=\"plotly-graph-div\" style=\"height:525px; width:100%;\"></div>            <script type=\"text/javascript\">                require([\"plotly\"], function(Plotly) {                    window.PLOTLYENV=window.PLOTLYENV || {};                                    if (document.getElementById(\"73c0657b-493c-427d-b5fe-cb207894bb7c\")) {                    Plotly.newPlot(                        \"73c0657b-493c-427d-b5fe-cb207894bb7c\",                        [{\"hovertemplate\":\"Innings=%{x}<br>Runs=%{y}<extra></extra>\",\"legendgroup\":\"\",\"line\":{\"color\":\"#636efa\",\"dash\":\"solid\"},\"marker\":{\"symbol\":\"circle\"},\"mode\":\"lines\",\"name\":\"\",\"orientation\":\"v\",\"showlegend\":false,\"x\":[0,1,2,3,4,5,6,7,8,9,10,11,12,13,14,15,16,17,18,19,20,21,22,23,24,25,26,27,28,29,30,31,32,33,34,35,36,37,38,39,40,41,42,43,44,45,46,47,48,49,50,51,52,53,54,55,56,57,58,59,60,61,62,63,64,65,66,67,68,69,70,71,72,73,74,75,76,77,78,79,80,81,82,83,84,85,86,87,88,89,90,91,92,93,94,95,96,97,98,99,100,101,102,103,104,105,106,107,108,109,110,111,112,113,114,115,116,117,118,119,120,121,122,123,124,125,126,127,128,129,130,131,132,133,134,135,136,137,138,139,140,141,142,143,144,145,146,147,148,149,150,151,152,153,154,155,156,157,158,159,160,161,162,163,164,165,166,167,168,169,170,171,172,173,174,175,176,177,178,179,180,181,182,183,184,185,186,187,188,189,190,191,192,193,194,195,196,197,198,199,200,201,202,203,204,205,206,207,208,209,210,211,212,213,214,215,216,217,218,219,220,221,222,223,224,225,226,227,228,229,230,231,232,233,234,235,236,237,238,239,240,241,242,243,244,245,246,247,248,249,250,251,252,253,254,255,256,257,258,259,260,261,262,263,264,265,266,267,268,269,270,271,272,273,274,275,276,277,278,279,280,281,282,283,284,285,286,287,288,289,290,291,292,293,294,295,296,297,298,299,300,301,302,303,304,305,306,307,308,309,310,311,312,313,314,315,316,317,318,319,320,321,322,323,324,325,326,327,328,329,330,331,332,333,334,335,336,337,338,339,340,341,342,343,344,345,346,347,348,349,350],\"xaxis\":\"x\",\"y\":[0.0,12.0,7.0,3.0,148.0,28.0,47.0,11.0,24.0,2.0,15.0,20.0,28.0,7.0,2.0,56.0,37.0,67.0,11.0,38.0,null,183.0,45.0,0.0,null,80.0,17.0,null,14.0,12.0,68.0,null,72.0,2.0,77.0,20.0,38.0,13.0,10.0,96.0,3.0,59.0,18.0,2.0,15.0,46.0,14.0,null,2.0,null,18.0,23.0,7.0,51.0,28.0,14.0,55.0,26.0,44.0,62.0,6.0,40.0,null,48.0,67.0,null,0.0,29.0,0.0,91.0,36.0,2.0,33.0,139.0,0.0,14.0,null,19.0,21.0,13.0,13.0,24.0,35.0,50.0,null,58.0,33.0,50.0,4.0,26.0,5.0,63.0,4.0,49.0,45.0,24.0,37.0,88.0,17.0,31.0,37.0,50.0,36.0,null,15.0,36.0,24.0,null,64.0,109.0,26.0,null,76.0,67.0,49.0,6.0,39.0,76.0,71.0,1.0,39.0,15.0,29.0,9.0,50.0,61.0,23.0,35.0,94.0,53.0,84.0,23.0,68.0,null,9.0,41.0,95.0,46.0,null,35.0,8.0,56.0,3.0,null,null,34.0,124.0,71.0,26.0,6.0,24.0,72.0,107.0,null,37.0,101.0,null,32.0,14.0,26.0,68.0,9.0,38.0,56.0,41.0,38.0,2.0,23.0,10.0,38.0,67.0,0.0,25.0,38.0,5.0,2.0,5.0,null,31.0,34.0,19.0,12.0,22.0,7.0,25.0,91.0,33.0,6.0,69.0,78.0,50.0,87.0,null,35.0,15.0,75.0,29.0,4.0,44.0,58.0,56.0,14.0,null,46.0,21.0,4.0,35.0,11.0,31.0,null,58.0,113.0,54.0,36.0,32.0,72.0,10.0,19.0,15.0,27.0,null,null,null,0.0,27.0,45.0,19.0,null,139.0,null,25.0,62.0,13.0,51.0,23.0,65.0,19.0,null,40.0,56.0,50.0,79.0,47.0,52.0,null,null,29.0,8.0,51.0,6.0,19.0,34.0,null,17.0,18.0,18.0,null,45.0,null,85.0,6.0,65.0,5.0,47.0,69.0,31.0,92.0,47.0,15.0,27.0,18.0,11.0,23.0,0.0,34.0,null,null,null,21.0,39.0,80.0,11.0,41.0,6.0,134.0,25.0,null,63.0,null,null,4.0,9.0,13.0,78.0,54.0,null,null,45.0,67.0,49.0,1.0,79.0,5.0,3.0,13.0,null,25.0,18.0,25.0,65.0,7.0,null,4.0,null,10.0,42.0,13.0,null,null,37.0,42.0,0.0,null,33.0,null,8.0,36.0,null,20.0,7.0,23.0,null,51.0,55.0,87.0,null,48.0,1.0,59.0,0.0,26.0,34.0,27.0,1.0,28.0,56.0,42.0,35.0,null,50.0,null],\"yaxis\":\"y\",\"type\":\"scatter\"}],                        {\"template\":{\"data\":{\"bar\":[{\"error_x\":{\"color\":\"#2a3f5f\"},\"error_y\":{\"color\":\"#2a3f5f\"},\"marker\":{\"line\":{\"color\":\"#E5ECF6\",\"width\":0.5},\"pattern\":{\"fillmode\":\"overlay\",\"size\":10,\"solidity\":0.2}},\"type\":\"bar\"}],\"barpolar\":[{\"marker\":{\"line\":{\"color\":\"#E5ECF6\",\"width\":0.5},\"pattern\":{\"fillmode\":\"overlay\",\"size\":10,\"solidity\":0.2}},\"type\":\"barpolar\"}],\"carpet\":[{\"aaxis\":{\"endlinecolor\":\"#2a3f5f\",\"gridcolor\":\"white\",\"linecolor\":\"white\",\"minorgridcolor\":\"white\",\"startlinecolor\":\"#2a3f5f\"},\"baxis\":{\"endlinecolor\":\"#2a3f5f\",\"gridcolor\":\"white\",\"linecolor\":\"white\",\"minorgridcolor\":\"white\",\"startlinecolor\":\"#2a3f5f\"},\"type\":\"carpet\"}],\"choropleth\":[{\"colorbar\":{\"outlinewidth\":0,\"ticks\":\"\"},\"type\":\"choropleth\"}],\"contour\":[{\"colorbar\":{\"outlinewidth\":0,\"ticks\":\"\"},\"colorscale\":[[0.0,\"#0d0887\"],[0.1111111111111111,\"#46039f\"],[0.2222222222222222,\"#7201a8\"],[0.3333333333333333,\"#9c179e\"],[0.4444444444444444,\"#bd3786\"],[0.5555555555555556,\"#d8576b\"],[0.6666666666666666,\"#ed7953\"],[0.7777777777777778,\"#fb9f3a\"],[0.8888888888888888,\"#fdca26\"],[1.0,\"#f0f921\"]],\"type\":\"contour\"}],\"contourcarpet\":[{\"colorbar\":{\"outlinewidth\":0,\"ticks\":\"\"},\"type\":\"contourcarpet\"}],\"heatmap\":[{\"colorbar\":{\"outlinewidth\":0,\"ticks\":\"\"},\"colorscale\":[[0.0,\"#0d0887\"],[0.1111111111111111,\"#46039f\"],[0.2222222222222222,\"#7201a8\"],[0.3333333333333333,\"#9c179e\"],[0.4444444444444444,\"#bd3786\"],[0.5555555555555556,\"#d8576b\"],[0.6666666666666666,\"#ed7953\"],[0.7777777777777778,\"#fb9f3a\"],[0.8888888888888888,\"#fdca26\"],[1.0,\"#f0f921\"]],\"type\":\"heatmap\"}],\"heatmapgl\":[{\"colorbar\":{\"outlinewidth\":0,\"ticks\":\"\"},\"colorscale\":[[0.0,\"#0d0887\"],[0.1111111111111111,\"#46039f\"],[0.2222222222222222,\"#7201a8\"],[0.3333333333333333,\"#9c179e\"],[0.4444444444444444,\"#bd3786\"],[0.5555555555555556,\"#d8576b\"],[0.6666666666666666,\"#ed7953\"],[0.7777777777777778,\"#fb9f3a\"],[0.8888888888888888,\"#fdca26\"],[1.0,\"#f0f921\"]],\"type\":\"heatmapgl\"}],\"histogram\":[{\"marker\":{\"pattern\":{\"fillmode\":\"overlay\",\"size\":10,\"solidity\":0.2}},\"type\":\"histogram\"}],\"histogram2d\":[{\"colorbar\":{\"outlinewidth\":0,\"ticks\":\"\"},\"colorscale\":[[0.0,\"#0d0887\"],[0.1111111111111111,\"#46039f\"],[0.2222222222222222,\"#7201a8\"],[0.3333333333333333,\"#9c179e\"],[0.4444444444444444,\"#bd3786\"],[0.5555555555555556,\"#d8576b\"],[0.6666666666666666,\"#ed7953\"],[0.7777777777777778,\"#fb9f3a\"],[0.8888888888888888,\"#fdca26\"],[1.0,\"#f0f921\"]],\"type\":\"histogram2d\"}],\"histogram2dcontour\":[{\"colorbar\":{\"outlinewidth\":0,\"ticks\":\"\"},\"colorscale\":[[0.0,\"#0d0887\"],[0.1111111111111111,\"#46039f\"],[0.2222222222222222,\"#7201a8\"],[0.3333333333333333,\"#9c179e\"],[0.4444444444444444,\"#bd3786\"],[0.5555555555555556,\"#d8576b\"],[0.6666666666666666,\"#ed7953\"],[0.7777777777777778,\"#fb9f3a\"],[0.8888888888888888,\"#fdca26\"],[1.0,\"#f0f921\"]],\"type\":\"histogram2dcontour\"}],\"mesh3d\":[{\"colorbar\":{\"outlinewidth\":0,\"ticks\":\"\"},\"type\":\"mesh3d\"}],\"parcoords\":[{\"line\":{\"colorbar\":{\"outlinewidth\":0,\"ticks\":\"\"}},\"type\":\"parcoords\"}],\"pie\":[{\"automargin\":true,\"type\":\"pie\"}],\"scatter\":[{\"marker\":{\"colorbar\":{\"outlinewidth\":0,\"ticks\":\"\"}},\"type\":\"scatter\"}],\"scatter3d\":[{\"line\":{\"colorbar\":{\"outlinewidth\":0,\"ticks\":\"\"}},\"marker\":{\"colorbar\":{\"outlinewidth\":0,\"ticks\":\"\"}},\"type\":\"scatter3d\"}],\"scattercarpet\":[{\"marker\":{\"colorbar\":{\"outlinewidth\":0,\"ticks\":\"\"}},\"type\":\"scattercarpet\"}],\"scattergeo\":[{\"marker\":{\"colorbar\":{\"outlinewidth\":0,\"ticks\":\"\"}},\"type\":\"scattergeo\"}],\"scattergl\":[{\"marker\":{\"colorbar\":{\"outlinewidth\":0,\"ticks\":\"\"}},\"type\":\"scattergl\"}],\"scattermapbox\":[{\"marker\":{\"colorbar\":{\"outlinewidth\":0,\"ticks\":\"\"}},\"type\":\"scattermapbox\"}],\"scatterpolar\":[{\"marker\":{\"colorbar\":{\"outlinewidth\":0,\"ticks\":\"\"}},\"type\":\"scatterpolar\"}],\"scatterpolargl\":[{\"marker\":{\"colorbar\":{\"outlinewidth\":0,\"ticks\":\"\"}},\"type\":\"scatterpolargl\"}],\"scatterternary\":[{\"marker\":{\"colorbar\":{\"outlinewidth\":0,\"ticks\":\"\"}},\"type\":\"scatterternary\"}],\"surface\":[{\"colorbar\":{\"outlinewidth\":0,\"ticks\":\"\"},\"colorscale\":[[0.0,\"#0d0887\"],[0.1111111111111111,\"#46039f\"],[0.2222222222222222,\"#7201a8\"],[0.3333333333333333,\"#9c179e\"],[0.4444444444444444,\"#bd3786\"],[0.5555555555555556,\"#d8576b\"],[0.6666666666666666,\"#ed7953\"],[0.7777777777777778,\"#fb9f3a\"],[0.8888888888888888,\"#fdca26\"],[1.0,\"#f0f921\"]],\"type\":\"surface\"}],\"table\":[{\"cells\":{\"fill\":{\"color\":\"#EBF0F8\"},\"line\":{\"color\":\"white\"}},\"header\":{\"fill\":{\"color\":\"#C8D4E3\"},\"line\":{\"color\":\"white\"}},\"type\":\"table\"}]},\"layout\":{\"annotationdefaults\":{\"arrowcolor\":\"#2a3f5f\",\"arrowhead\":0,\"arrowwidth\":1},\"autotypenumbers\":\"strict\",\"coloraxis\":{\"colorbar\":{\"outlinewidth\":0,\"ticks\":\"\"}},\"colorscale\":{\"diverging\":[[0,\"#8e0152\"],[0.1,\"#c51b7d\"],[0.2,\"#de77ae\"],[0.3,\"#f1b6da\"],[0.4,\"#fde0ef\"],[0.5,\"#f7f7f7\"],[0.6,\"#e6f5d0\"],[0.7,\"#b8e186\"],[0.8,\"#7fbc41\"],[0.9,\"#4d9221\"],[1,\"#276419\"]],\"sequential\":[[0.0,\"#0d0887\"],[0.1111111111111111,\"#46039f\"],[0.2222222222222222,\"#7201a8\"],[0.3333333333333333,\"#9c179e\"],[0.4444444444444444,\"#bd3786\"],[0.5555555555555556,\"#d8576b\"],[0.6666666666666666,\"#ed7953\"],[0.7777777777777778,\"#fb9f3a\"],[0.8888888888888888,\"#fdca26\"],[1.0,\"#f0f921\"]],\"sequentialminus\":[[0.0,\"#0d0887\"],[0.1111111111111111,\"#46039f\"],[0.2222222222222222,\"#7201a8\"],[0.3333333333333333,\"#9c179e\"],[0.4444444444444444,\"#bd3786\"],[0.5555555555555556,\"#d8576b\"],[0.6666666666666666,\"#ed7953\"],[0.7777777777777778,\"#fb9f3a\"],[0.8888888888888888,\"#fdca26\"],[1.0,\"#f0f921\"]]},\"colorway\":[\"#636efa\",\"#EF553B\",\"#00cc96\",\"#ab63fa\",\"#FFA15A\",\"#19d3f3\",\"#FF6692\",\"#B6E880\",\"#FF97FF\",\"#FECB52\"],\"font\":{\"color\":\"#2a3f5f\"},\"geo\":{\"bgcolor\":\"white\",\"lakecolor\":\"white\",\"landcolor\":\"#E5ECF6\",\"showlakes\":true,\"showland\":true,\"subunitcolor\":\"white\"},\"hoverlabel\":{\"align\":\"left\"},\"hovermode\":\"closest\",\"mapbox\":{\"style\":\"light\"},\"paper_bgcolor\":\"white\",\"plot_bgcolor\":\"#E5ECF6\",\"polar\":{\"angularaxis\":{\"gridcolor\":\"white\",\"linecolor\":\"white\",\"ticks\":\"\"},\"bgcolor\":\"#E5ECF6\",\"radialaxis\":{\"gridcolor\":\"white\",\"linecolor\":\"white\",\"ticks\":\"\"}},\"scene\":{\"xaxis\":{\"backgroundcolor\":\"#E5ECF6\",\"gridcolor\":\"white\",\"gridwidth\":2,\"linecolor\":\"white\",\"showbackground\":true,\"ticks\":\"\",\"zerolinecolor\":\"white\"},\"yaxis\":{\"backgroundcolor\":\"#E5ECF6\",\"gridcolor\":\"white\",\"gridwidth\":2,\"linecolor\":\"white\",\"showbackground\":true,\"ticks\":\"\",\"zerolinecolor\":\"white\"},\"zaxis\":{\"backgroundcolor\":\"#E5ECF6\",\"gridcolor\":\"white\",\"gridwidth\":2,\"linecolor\":\"white\",\"showbackground\":true,\"ticks\":\"\",\"zerolinecolor\":\"white\"}},\"shapedefaults\":{\"line\":{\"color\":\"#2a3f5f\"}},\"ternary\":{\"aaxis\":{\"gridcolor\":\"white\",\"linecolor\":\"white\",\"ticks\":\"\"},\"baxis\":{\"gridcolor\":\"white\",\"linecolor\":\"white\",\"ticks\":\"\"},\"bgcolor\":\"#E5ECF6\",\"caxis\":{\"gridcolor\":\"white\",\"linecolor\":\"white\",\"ticks\":\"\"}},\"title\":{\"x\":0.05},\"xaxis\":{\"automargin\":true,\"gridcolor\":\"white\",\"linecolor\":\"white\",\"ticks\":\"\",\"title\":{\"standoff\":15},\"zerolinecolor\":\"white\",\"zerolinewidth\":2},\"yaxis\":{\"automargin\":true,\"gridcolor\":\"white\",\"linecolor\":\"white\",\"ticks\":\"\",\"title\":{\"standoff\":15},\"zerolinecolor\":\"white\",\"zerolinewidth\":2}}},\"xaxis\":{\"anchor\":\"y\",\"domain\":[0.0,1.0],\"title\":{\"text\":\"Innings\"}},\"yaxis\":{\"anchor\":\"x\",\"domain\":[0.0,1.0],\"title\":{\"text\":\"Runs\"}},\"legend\":{\"tracegroupgap\":0},\"title\":{\"text\":\"Runs Scored by Dhoni Per Innings\"}},                        {\"responsive\": true}                    ).then(function(){\n",
       "                            \n",
       "var gd = document.getElementById('73c0657b-493c-427d-b5fe-cb207894bb7c');\n",
       "var x = new MutationObserver(function (mutations, observer) {{\n",
       "        var display = window.getComputedStyle(gd).display;\n",
       "        if (!display || display === 'none') {{\n",
       "            console.log([gd, 'removed!']);\n",
       "            Plotly.purge(gd);\n",
       "            observer.disconnect();\n",
       "        }}\n",
       "}});\n",
       "\n",
       "// Listen for the removal of the full notebook cells\n",
       "var notebookContainer = gd.closest('#notebook-container');\n",
       "if (notebookContainer) {{\n",
       "    x.observe(notebookContainer, {childList: true});\n",
       "}}\n",
       "\n",
       "// Listen for the clearing of the current output cell\n",
       "var outputEl = gd.closest('.output');\n",
       "if (outputEl) {{\n",
       "    x.observe(outputEl, {childList: true});\n",
       "}}\n",
       "\n",
       "                        })                };                });            </script>        </div>"
      ]
     },
     "metadata": {},
     "output_type": "display_data"
    }
   ],
   "source": [
    "matches = data.index\n",
    "fig = px.line(data, x=matches, y=\"Runs\", title=\"Runs Scored by Dhoni Per Innings\", labels={\"index\":\"Innings\"})\n",
    "fig.show()"
   ]
  },
  {
   "cell_type": "code",
   "execution_count": 29,
   "id": "adccc7e3",
   "metadata": {},
   "outputs": [
    {
     "data": {
      "application/vnd.plotly.v1+json": {
       "config": {
        "plotlyServerURL": "https://plot.ly"
       },
       "data": [
        {
         "alignmentgroup": "True",
         "hovertemplate": "Versus=%{y}<br>Total Innings=%{x}<extra></extra>",
         "legendgroup": "ACA Africa XI",
         "marker": {
          "color": "#636efa",
          "line": {
           "color": "black",
           "width": 2
          },
          "pattern": {
           "shape": ""
          }
         },
         "name": "ACA Africa XI",
         "offsetgroup": "ACA Africa XI",
         "orientation": "h",
         "showlegend": true,
         "textposition": "auto",
         "texttemplate": "%{x}",
         "type": "bar",
         "x": [
          3
         ],
         "xaxis": "x",
         "y": [
          "ACA Africa XI"
         ],
         "yaxis": "y"
        },
        {
         "alignmentgroup": "True",
         "hovertemplate": "Versus=%{y}<br>Total Innings=%{x}<extra></extra>",
         "legendgroup": "Afghanistan",
         "marker": {
          "color": "#EF553B",
          "line": {
           "color": "black",
           "width": 2
          },
          "pattern": {
           "shape": ""
          }
         },
         "name": "Afghanistan",
         "offsetgroup": "Afghanistan",
         "orientation": "h",
         "showlegend": true,
         "textposition": "auto",
         "texttemplate": "%{x}",
         "type": "bar",
         "x": [
          2
         ],
         "xaxis": "x",
         "y": [
          "Afghanistan"
         ],
         "yaxis": "y"
        },
        {
         "alignmentgroup": "True",
         "hovertemplate": "Versus=%{y}<br>Total Innings=%{x}<extra></extra>",
         "legendgroup": "Australia",
         "marker": {
          "color": "#00cc96",
          "line": {
           "color": "black",
           "width": 2
          },
          "pattern": {
           "shape": ""
          }
         },
         "name": "Australia",
         "offsetgroup": "Australia",
         "orientation": "h",
         "showlegend": true,
         "textposition": "auto",
         "texttemplate": "%{x}",
         "type": "bar",
         "x": [
          48
         ],
         "xaxis": "x",
         "y": [
          "Australia"
         ],
         "yaxis": "y"
        },
        {
         "alignmentgroup": "True",
         "hovertemplate": "Versus=%{y}<br>Total Innings=%{x}<extra></extra>",
         "legendgroup": "Bangladesh",
         "marker": {
          "color": "#ab63fa",
          "line": {
           "color": "black",
           "width": 2
          },
          "pattern": {
           "shape": ""
          }
         },
         "name": "Bangladesh",
         "offsetgroup": "Bangladesh",
         "orientation": "h",
         "showlegend": true,
         "textposition": "auto",
         "texttemplate": "%{x}",
         "type": "bar",
         "x": [
          17
         ],
         "xaxis": "x",
         "y": [
          "Bangladesh"
         ],
         "yaxis": "y"
        },
        {
         "alignmentgroup": "True",
         "hovertemplate": "Versus=%{y}<br>Total Innings=%{x}<extra></extra>",
         "legendgroup": "Bermuda",
         "marker": {
          "color": "#FFA15A",
          "line": {
           "color": "black",
           "width": 2
          },
          "pattern": {
           "shape": ""
          }
         },
         "name": "Bermuda",
         "offsetgroup": "Bermuda",
         "orientation": "h",
         "showlegend": true,
         "textposition": "auto",
         "texttemplate": "%{x}",
         "type": "bar",
         "x": [
          1
         ],
         "xaxis": "x",
         "y": [
          "Bermuda"
         ],
         "yaxis": "y"
        },
        {
         "alignmentgroup": "True",
         "hovertemplate": "Versus=%{y}<br>Total Innings=%{x}<extra></extra>",
         "legendgroup": "England",
         "marker": {
          "color": "#19d3f3",
          "line": {
           "color": "black",
           "width": 2
          },
          "pattern": {
           "shape": ""
          }
         },
         "name": "England",
         "offsetgroup": "England",
         "orientation": "h",
         "showlegend": true,
         "textposition": "auto",
         "texttemplate": "%{x}",
         "type": "bar",
         "x": [
          44
         ],
         "xaxis": "x",
         "y": [
          "England"
         ],
         "yaxis": "y"
        },
        {
         "alignmentgroup": "True",
         "hovertemplate": "Versus=%{y}<br>Total Innings=%{x}<extra></extra>",
         "legendgroup": "Hong Kong",
         "marker": {
          "color": "#FF6692",
          "line": {
           "color": "black",
           "width": 2
          },
          "pattern": {
           "shape": ""
          }
         },
         "name": "Hong Kong",
         "offsetgroup": "Hong Kong",
         "orientation": "h",
         "showlegend": true,
         "textposition": "auto",
         "texttemplate": "%{x}",
         "type": "bar",
         "x": [
          2
         ],
         "xaxis": "x",
         "y": [
          "Hong Kong"
         ],
         "yaxis": "y"
        },
        {
         "alignmentgroup": "True",
         "hovertemplate": "Versus=%{y}<br>Total Innings=%{x}<extra></extra>",
         "legendgroup": "Ireland",
         "marker": {
          "color": "#B6E880",
          "line": {
           "color": "black",
           "width": 2
          },
          "pattern": {
           "shape": ""
          }
         },
         "name": "Ireland",
         "offsetgroup": "Ireland",
         "orientation": "h",
         "showlegend": true,
         "textposition": "auto",
         "texttemplate": "%{x}",
         "type": "bar",
         "x": [
          1
         ],
         "xaxis": "x",
         "y": [
          "Ireland"
         ],
         "yaxis": "y"
        },
        {
         "alignmentgroup": "True",
         "hovertemplate": "Versus=%{y}<br>Total Innings=%{x}<extra></extra>",
         "legendgroup": "Netherlands",
         "marker": {
          "color": "#FF97FF",
          "line": {
           "color": "black",
           "width": 2
          },
          "pattern": {
           "shape": ""
          }
         },
         "name": "Netherlands",
         "offsetgroup": "Netherlands",
         "orientation": "h",
         "showlegend": true,
         "textposition": "auto",
         "texttemplate": "%{x}",
         "type": "bar",
         "x": [
          1
         ],
         "xaxis": "x",
         "y": [
          "Netherlands"
         ],
         "yaxis": "y"
        },
        {
         "alignmentgroup": "True",
         "hovertemplate": "Versus=%{y}<br>Total Innings=%{x}<extra></extra>",
         "legendgroup": "New Zealand",
         "marker": {
          "color": "#FECB52",
          "line": {
           "color": "black",
           "width": 2
          },
          "pattern": {
           "shape": ""
          }
         },
         "name": "New Zealand",
         "offsetgroup": "New Zealand",
         "orientation": "h",
         "showlegend": true,
         "textposition": "auto",
         "texttemplate": "%{x}",
         "type": "bar",
         "x": [
          26
         ],
         "xaxis": "x",
         "y": [
          "New Zealand"
         ],
         "yaxis": "y"
        },
        {
         "alignmentgroup": "True",
         "hovertemplate": "Versus=%{y}<br>Total Innings=%{x}<extra></extra>",
         "legendgroup": "Pakistan",
         "marker": {
          "color": "#636efa",
          "line": {
           "color": "black",
           "width": 2
          },
          "pattern": {
           "shape": ""
          }
         },
         "name": "Pakistan",
         "offsetgroup": "Pakistan",
         "orientation": "h",
         "showlegend": true,
         "textposition": "auto",
         "texttemplate": "%{x}",
         "type": "bar",
         "x": [
          31
         ],
         "xaxis": "x",
         "y": [
          "Pakistan"
         ],
         "yaxis": "y"
        },
        {
         "alignmentgroup": "True",
         "hovertemplate": "Versus=%{y}<br>Total Innings=%{x}<extra></extra>",
         "legendgroup": "Scotland",
         "marker": {
          "color": "#EF553B",
          "line": {
           "color": "black",
           "width": 2
          },
          "pattern": {
           "shape": ""
          }
         },
         "name": "Scotland",
         "offsetgroup": "Scotland",
         "orientation": "h",
         "showlegend": true,
         "textposition": "auto",
         "texttemplate": "%{x}",
         "type": "bar",
         "x": [
          0
         ],
         "xaxis": "x",
         "y": [
          "Scotland"
         ],
         "yaxis": "y"
        },
        {
         "alignmentgroup": "True",
         "hovertemplate": "Versus=%{y}<br>Total Innings=%{x}<extra></extra>",
         "legendgroup": "South Africa",
         "marker": {
          "color": "#00cc96",
          "line": {
           "color": "black",
           "width": 2
          },
          "pattern": {
           "shape": ""
          }
         },
         "name": "South Africa",
         "offsetgroup": "South Africa",
         "orientation": "h",
         "showlegend": true,
         "textposition": "auto",
         "texttemplate": "%{x}",
         "type": "bar",
         "x": [
          32
         ],
         "xaxis": "x",
         "y": [
          "South Africa"
         ],
         "yaxis": "y"
        },
        {
         "alignmentgroup": "True",
         "hovertemplate": "Versus=%{y}<br>Total Innings=%{x}<extra></extra>",
         "legendgroup": "Sri Lanka",
         "marker": {
          "color": "#ab63fa",
          "line": {
           "color": "black",
           "width": 2
          },
          "pattern": {
           "shape": ""
          }
         },
         "name": "Sri Lanka",
         "offsetgroup": "Sri Lanka",
         "orientation": "h",
         "showlegend": true,
         "textposition": "auto",
         "texttemplate": "%{x}",
         "type": "bar",
         "x": [
          53
         ],
         "xaxis": "x",
         "y": [
          "Sri Lanka"
         ],
         "yaxis": "y"
        },
        {
         "alignmentgroup": "True",
         "hovertemplate": "Versus=%{y}<br>Total Innings=%{x}<extra></extra>",
         "legendgroup": "United Arab Emirates",
         "marker": {
          "color": "#FFA15A",
          "line": {
           "color": "black",
           "width": 2
          },
          "pattern": {
           "shape": ""
          }
         },
         "name": "United Arab Emirates",
         "offsetgroup": "United Arab Emirates",
         "orientation": "h",
         "showlegend": true,
         "textposition": "auto",
         "texttemplate": "%{x}",
         "type": "bar",
         "x": [
          0
         ],
         "xaxis": "x",
         "y": [
          "United Arab Emirates"
         ],
         "yaxis": "y"
        },
        {
         "alignmentgroup": "True",
         "hovertemplate": "Versus=%{y}<br>Total Innings=%{x}<extra></extra>",
         "legendgroup": "West Indies",
         "marker": {
          "color": "#19d3f3",
          "line": {
           "color": "black",
           "width": 2
          },
          "pattern": {
           "shape": ""
          }
         },
         "name": "West Indies",
         "offsetgroup": "West Indies",
         "orientation": "h",
         "showlegend": true,
         "textposition": "auto",
         "texttemplate": "%{x}",
         "type": "bar",
         "x": [
          33
         ],
         "xaxis": "x",
         "y": [
          "West Indies"
         ],
         "yaxis": "y"
        },
        {
         "alignmentgroup": "True",
         "hovertemplate": "Versus=%{y}<br>Total Innings=%{x}<extra></extra>",
         "legendgroup": "Zimbabwe",
         "marker": {
          "color": "#FF6692",
          "line": {
           "color": "black",
           "width": 2
          },
          "pattern": {
           "shape": ""
          }
         },
         "name": "Zimbabwe",
         "offsetgroup": "Zimbabwe",
         "orientation": "h",
         "showlegend": true,
         "textposition": "auto",
         "texttemplate": "%{x}",
         "type": "bar",
         "x": [
          3
         ],
         "xaxis": "x",
         "y": [
          "Zimbabwe"
         ],
         "yaxis": "y"
        }
       ],
       "layout": {
        "barmode": "relative",
        "legend": {
         "title": {
          "text": "Versus"
         },
         "tracegroupgap": 0
        },
        "template": {
         "data": {
          "bar": [
           {
            "error_x": {
             "color": "#2a3f5f"
            },
            "error_y": {
             "color": "#2a3f5f"
            },
            "marker": {
             "line": {
              "color": "#E5ECF6",
              "width": 0.5
             },
             "pattern": {
              "fillmode": "overlay",
              "size": 10,
              "solidity": 0.2
             }
            },
            "type": "bar"
           }
          ],
          "barpolar": [
           {
            "marker": {
             "line": {
              "color": "#E5ECF6",
              "width": 0.5
             },
             "pattern": {
              "fillmode": "overlay",
              "size": 10,
              "solidity": 0.2
             }
            },
            "type": "barpolar"
           }
          ],
          "carpet": [
           {
            "aaxis": {
             "endlinecolor": "#2a3f5f",
             "gridcolor": "white",
             "linecolor": "white",
             "minorgridcolor": "white",
             "startlinecolor": "#2a3f5f"
            },
            "baxis": {
             "endlinecolor": "#2a3f5f",
             "gridcolor": "white",
             "linecolor": "white",
             "minorgridcolor": "white",
             "startlinecolor": "#2a3f5f"
            },
            "type": "carpet"
           }
          ],
          "choropleth": [
           {
            "colorbar": {
             "outlinewidth": 0,
             "ticks": ""
            },
            "type": "choropleth"
           }
          ],
          "contour": [
           {
            "colorbar": {
             "outlinewidth": 0,
             "ticks": ""
            },
            "colorscale": [
             [
              0,
              "#0d0887"
             ],
             [
              0.1111111111111111,
              "#46039f"
             ],
             [
              0.2222222222222222,
              "#7201a8"
             ],
             [
              0.3333333333333333,
              "#9c179e"
             ],
             [
              0.4444444444444444,
              "#bd3786"
             ],
             [
              0.5555555555555556,
              "#d8576b"
             ],
             [
              0.6666666666666666,
              "#ed7953"
             ],
             [
              0.7777777777777778,
              "#fb9f3a"
             ],
             [
              0.8888888888888888,
              "#fdca26"
             ],
             [
              1,
              "#f0f921"
             ]
            ],
            "type": "contour"
           }
          ],
          "contourcarpet": [
           {
            "colorbar": {
             "outlinewidth": 0,
             "ticks": ""
            },
            "type": "contourcarpet"
           }
          ],
          "heatmap": [
           {
            "colorbar": {
             "outlinewidth": 0,
             "ticks": ""
            },
            "colorscale": [
             [
              0,
              "#0d0887"
             ],
             [
              0.1111111111111111,
              "#46039f"
             ],
             [
              0.2222222222222222,
              "#7201a8"
             ],
             [
              0.3333333333333333,
              "#9c179e"
             ],
             [
              0.4444444444444444,
              "#bd3786"
             ],
             [
              0.5555555555555556,
              "#d8576b"
             ],
             [
              0.6666666666666666,
              "#ed7953"
             ],
             [
              0.7777777777777778,
              "#fb9f3a"
             ],
             [
              0.8888888888888888,
              "#fdca26"
             ],
             [
              1,
              "#f0f921"
             ]
            ],
            "type": "heatmap"
           }
          ],
          "heatmapgl": [
           {
            "colorbar": {
             "outlinewidth": 0,
             "ticks": ""
            },
            "colorscale": [
             [
              0,
              "#0d0887"
             ],
             [
              0.1111111111111111,
              "#46039f"
             ],
             [
              0.2222222222222222,
              "#7201a8"
             ],
             [
              0.3333333333333333,
              "#9c179e"
             ],
             [
              0.4444444444444444,
              "#bd3786"
             ],
             [
              0.5555555555555556,
              "#d8576b"
             ],
             [
              0.6666666666666666,
              "#ed7953"
             ],
             [
              0.7777777777777778,
              "#fb9f3a"
             ],
             [
              0.8888888888888888,
              "#fdca26"
             ],
             [
              1,
              "#f0f921"
             ]
            ],
            "type": "heatmapgl"
           }
          ],
          "histogram": [
           {
            "marker": {
             "pattern": {
              "fillmode": "overlay",
              "size": 10,
              "solidity": 0.2
             }
            },
            "type": "histogram"
           }
          ],
          "histogram2d": [
           {
            "colorbar": {
             "outlinewidth": 0,
             "ticks": ""
            },
            "colorscale": [
             [
              0,
              "#0d0887"
             ],
             [
              0.1111111111111111,
              "#46039f"
             ],
             [
              0.2222222222222222,
              "#7201a8"
             ],
             [
              0.3333333333333333,
              "#9c179e"
             ],
             [
              0.4444444444444444,
              "#bd3786"
             ],
             [
              0.5555555555555556,
              "#d8576b"
             ],
             [
              0.6666666666666666,
              "#ed7953"
             ],
             [
              0.7777777777777778,
              "#fb9f3a"
             ],
             [
              0.8888888888888888,
              "#fdca26"
             ],
             [
              1,
              "#f0f921"
             ]
            ],
            "type": "histogram2d"
           }
          ],
          "histogram2dcontour": [
           {
            "colorbar": {
             "outlinewidth": 0,
             "ticks": ""
            },
            "colorscale": [
             [
              0,
              "#0d0887"
             ],
             [
              0.1111111111111111,
              "#46039f"
             ],
             [
              0.2222222222222222,
              "#7201a8"
             ],
             [
              0.3333333333333333,
              "#9c179e"
             ],
             [
              0.4444444444444444,
              "#bd3786"
             ],
             [
              0.5555555555555556,
              "#d8576b"
             ],
             [
              0.6666666666666666,
              "#ed7953"
             ],
             [
              0.7777777777777778,
              "#fb9f3a"
             ],
             [
              0.8888888888888888,
              "#fdca26"
             ],
             [
              1,
              "#f0f921"
             ]
            ],
            "type": "histogram2dcontour"
           }
          ],
          "mesh3d": [
           {
            "colorbar": {
             "outlinewidth": 0,
             "ticks": ""
            },
            "type": "mesh3d"
           }
          ],
          "parcoords": [
           {
            "line": {
             "colorbar": {
              "outlinewidth": 0,
              "ticks": ""
             }
            },
            "type": "parcoords"
           }
          ],
          "pie": [
           {
            "automargin": true,
            "type": "pie"
           }
          ],
          "scatter": [
           {
            "marker": {
             "colorbar": {
              "outlinewidth": 0,
              "ticks": ""
             }
            },
            "type": "scatter"
           }
          ],
          "scatter3d": [
           {
            "line": {
             "colorbar": {
              "outlinewidth": 0,
              "ticks": ""
             }
            },
            "marker": {
             "colorbar": {
              "outlinewidth": 0,
              "ticks": ""
             }
            },
            "type": "scatter3d"
           }
          ],
          "scattercarpet": [
           {
            "marker": {
             "colorbar": {
              "outlinewidth": 0,
              "ticks": ""
             }
            },
            "type": "scattercarpet"
           }
          ],
          "scattergeo": [
           {
            "marker": {
             "colorbar": {
              "outlinewidth": 0,
              "ticks": ""
             }
            },
            "type": "scattergeo"
           }
          ],
          "scattergl": [
           {
            "marker": {
             "colorbar": {
              "outlinewidth": 0,
              "ticks": ""
             }
            },
            "type": "scattergl"
           }
          ],
          "scattermapbox": [
           {
            "marker": {
             "colorbar": {
              "outlinewidth": 0,
              "ticks": ""
             }
            },
            "type": "scattermapbox"
           }
          ],
          "scatterpolar": [
           {
            "marker": {
             "colorbar": {
              "outlinewidth": 0,
              "ticks": ""
             }
            },
            "type": "scatterpolar"
           }
          ],
          "scatterpolargl": [
           {
            "marker": {
             "colorbar": {
              "outlinewidth": 0,
              "ticks": ""
             }
            },
            "type": "scatterpolargl"
           }
          ],
          "scatterternary": [
           {
            "marker": {
             "colorbar": {
              "outlinewidth": 0,
              "ticks": ""
             }
            },
            "type": "scatterternary"
           }
          ],
          "surface": [
           {
            "colorbar": {
             "outlinewidth": 0,
             "ticks": ""
            },
            "colorscale": [
             [
              0,
              "#0d0887"
             ],
             [
              0.1111111111111111,
              "#46039f"
             ],
             [
              0.2222222222222222,
              "#7201a8"
             ],
             [
              0.3333333333333333,
              "#9c179e"
             ],
             [
              0.4444444444444444,
              "#bd3786"
             ],
             [
              0.5555555555555556,
              "#d8576b"
             ],
             [
              0.6666666666666666,
              "#ed7953"
             ],
             [
              0.7777777777777778,
              "#fb9f3a"
             ],
             [
              0.8888888888888888,
              "#fdca26"
             ],
             [
              1,
              "#f0f921"
             ]
            ],
            "type": "surface"
           }
          ],
          "table": [
           {
            "cells": {
             "fill": {
              "color": "#EBF0F8"
             },
             "line": {
              "color": "white"
             }
            },
            "header": {
             "fill": {
              "color": "#C8D4E3"
             },
             "line": {
              "color": "white"
             }
            },
            "type": "table"
           }
          ]
         },
         "layout": {
          "annotationdefaults": {
           "arrowcolor": "#2a3f5f",
           "arrowhead": 0,
           "arrowwidth": 1
          },
          "autotypenumbers": "strict",
          "coloraxis": {
           "colorbar": {
            "outlinewidth": 0,
            "ticks": ""
           }
          },
          "colorscale": {
           "diverging": [
            [
             0,
             "#8e0152"
            ],
            [
             0.1,
             "#c51b7d"
            ],
            [
             0.2,
             "#de77ae"
            ],
            [
             0.3,
             "#f1b6da"
            ],
            [
             0.4,
             "#fde0ef"
            ],
            [
             0.5,
             "#f7f7f7"
            ],
            [
             0.6,
             "#e6f5d0"
            ],
            [
             0.7,
             "#b8e186"
            ],
            [
             0.8,
             "#7fbc41"
            ],
            [
             0.9,
             "#4d9221"
            ],
            [
             1,
             "#276419"
            ]
           ],
           "sequential": [
            [
             0,
             "#0d0887"
            ],
            [
             0.1111111111111111,
             "#46039f"
            ],
            [
             0.2222222222222222,
             "#7201a8"
            ],
            [
             0.3333333333333333,
             "#9c179e"
            ],
            [
             0.4444444444444444,
             "#bd3786"
            ],
            [
             0.5555555555555556,
             "#d8576b"
            ],
            [
             0.6666666666666666,
             "#ed7953"
            ],
            [
             0.7777777777777778,
             "#fb9f3a"
            ],
            [
             0.8888888888888888,
             "#fdca26"
            ],
            [
             1,
             "#f0f921"
            ]
           ],
           "sequentialminus": [
            [
             0,
             "#0d0887"
            ],
            [
             0.1111111111111111,
             "#46039f"
            ],
            [
             0.2222222222222222,
             "#7201a8"
            ],
            [
             0.3333333333333333,
             "#9c179e"
            ],
            [
             0.4444444444444444,
             "#bd3786"
            ],
            [
             0.5555555555555556,
             "#d8576b"
            ],
            [
             0.6666666666666666,
             "#ed7953"
            ],
            [
             0.7777777777777778,
             "#fb9f3a"
            ],
            [
             0.8888888888888888,
             "#fdca26"
            ],
            [
             1,
             "#f0f921"
            ]
           ]
          },
          "colorway": [
           "#636efa",
           "#EF553B",
           "#00cc96",
           "#ab63fa",
           "#FFA15A",
           "#19d3f3",
           "#FF6692",
           "#B6E880",
           "#FF97FF",
           "#FECB52"
          ],
          "font": {
           "color": "#2a3f5f"
          },
          "geo": {
           "bgcolor": "white",
           "lakecolor": "white",
           "landcolor": "#E5ECF6",
           "showlakes": true,
           "showland": true,
           "subunitcolor": "white"
          },
          "hoverlabel": {
           "align": "left"
          },
          "hovermode": "closest",
          "mapbox": {
           "style": "light"
          },
          "paper_bgcolor": "white",
          "plot_bgcolor": "#E5ECF6",
          "polar": {
           "angularaxis": {
            "gridcolor": "white",
            "linecolor": "white",
            "ticks": ""
           },
           "bgcolor": "#E5ECF6",
           "radialaxis": {
            "gridcolor": "white",
            "linecolor": "white",
            "ticks": ""
           }
          },
          "scene": {
           "xaxis": {
            "backgroundcolor": "#E5ECF6",
            "gridcolor": "white",
            "gridwidth": 2,
            "linecolor": "white",
            "showbackground": true,
            "ticks": "",
            "zerolinecolor": "white"
           },
           "yaxis": {
            "backgroundcolor": "#E5ECF6",
            "gridcolor": "white",
            "gridwidth": 2,
            "linecolor": "white",
            "showbackground": true,
            "ticks": "",
            "zerolinecolor": "white"
           },
           "zaxis": {
            "backgroundcolor": "#E5ECF6",
            "gridcolor": "white",
            "gridwidth": 2,
            "linecolor": "white",
            "showbackground": true,
            "ticks": "",
            "zerolinecolor": "white"
           }
          },
          "shapedefaults": {
           "line": {
            "color": "#2a3f5f"
           }
          },
          "ternary": {
           "aaxis": {
            "gridcolor": "white",
            "linecolor": "white",
            "ticks": ""
           },
           "baxis": {
            "gridcolor": "white",
            "linecolor": "white",
            "ticks": ""
           },
           "bgcolor": "#E5ECF6",
           "caxis": {
            "gridcolor": "white",
            "linecolor": "white",
            "ticks": ""
           }
          },
          "title": {
           "x": 0.05
          },
          "xaxis": {
           "automargin": true,
           "gridcolor": "white",
           "linecolor": "white",
           "ticks": "",
           "title": {
            "standoff": 15
           },
           "zerolinecolor": "white",
           "zerolinewidth": 2
          },
          "yaxis": {
           "automargin": true,
           "gridcolor": "white",
           "linecolor": "white",
           "ticks": "",
           "title": {
            "standoff": 15
           },
           "zerolinecolor": "white",
           "zerolinewidth": 2
          }
         }
        },
        "title": {
         "text": "Number of Innings played against Teams"
        },
        "xaxis": {
         "anchor": "y",
         "domain": [
          0,
          1
         ],
         "title": {
          "text": "Total Innings"
         }
        },
        "yaxis": {
         "anchor": "x",
         "categoryarray": [
          "Zimbabwe",
          "West Indies",
          "United Arab Emirates",
          "Sri Lanka",
          "South Africa",
          "Scotland",
          "Pakistan",
          "New Zealand",
          "Netherlands",
          "Ireland",
          "Hong Kong",
          "England",
          "Bermuda",
          "Bangladesh",
          "Australia",
          "Afghanistan",
          "ACA Africa XI"
         ],
         "categoryorder": "array",
         "domain": [
          0,
          1
         ],
         "title": {
          "text": "Versus"
         }
        }
       }
      },
      "text/html": [
       "<div>                            <div id=\"07aa7864-9fab-4f01-87ce-6d504a680866\" class=\"plotly-graph-div\" style=\"height:525px; width:100%;\"></div>            <script type=\"text/javascript\">                require([\"plotly\"], function(Plotly) {                    window.PLOTLYENV=window.PLOTLYENV || {};                                    if (document.getElementById(\"07aa7864-9fab-4f01-87ce-6d504a680866\")) {                    Plotly.newPlot(                        \"07aa7864-9fab-4f01-87ce-6d504a680866\",                        [{\"alignmentgroup\":\"True\",\"hovertemplate\":\"Versus=%{y}<br>Total Innings=%{x}<extra></extra>\",\"legendgroup\":\"ACA Africa XI\",\"marker\":{\"color\":\"#636efa\",\"pattern\":{\"shape\":\"\"},\"line\":{\"color\":\"black\",\"width\":2}},\"name\":\"ACA Africa XI\",\"offsetgroup\":\"ACA Africa XI\",\"orientation\":\"h\",\"showlegend\":true,\"textposition\":\"auto\",\"texttemplate\":\"%{x}\",\"x\":[3],\"xaxis\":\"x\",\"y\":[\"ACA Africa XI\"],\"yaxis\":\"y\",\"type\":\"bar\"},{\"alignmentgroup\":\"True\",\"hovertemplate\":\"Versus=%{y}<br>Total Innings=%{x}<extra></extra>\",\"legendgroup\":\"Afghanistan\",\"marker\":{\"color\":\"#EF553B\",\"pattern\":{\"shape\":\"\"},\"line\":{\"color\":\"black\",\"width\":2}},\"name\":\"Afghanistan\",\"offsetgroup\":\"Afghanistan\",\"orientation\":\"h\",\"showlegend\":true,\"textposition\":\"auto\",\"texttemplate\":\"%{x}\",\"x\":[2],\"xaxis\":\"x\",\"y\":[\"Afghanistan\"],\"yaxis\":\"y\",\"type\":\"bar\"},{\"alignmentgroup\":\"True\",\"hovertemplate\":\"Versus=%{y}<br>Total Innings=%{x}<extra></extra>\",\"legendgroup\":\"Australia\",\"marker\":{\"color\":\"#00cc96\",\"pattern\":{\"shape\":\"\"},\"line\":{\"color\":\"black\",\"width\":2}},\"name\":\"Australia\",\"offsetgroup\":\"Australia\",\"orientation\":\"h\",\"showlegend\":true,\"textposition\":\"auto\",\"texttemplate\":\"%{x}\",\"x\":[48],\"xaxis\":\"x\",\"y\":[\"Australia\"],\"yaxis\":\"y\",\"type\":\"bar\"},{\"alignmentgroup\":\"True\",\"hovertemplate\":\"Versus=%{y}<br>Total Innings=%{x}<extra></extra>\",\"legendgroup\":\"Bangladesh\",\"marker\":{\"color\":\"#ab63fa\",\"pattern\":{\"shape\":\"\"},\"line\":{\"color\":\"black\",\"width\":2}},\"name\":\"Bangladesh\",\"offsetgroup\":\"Bangladesh\",\"orientation\":\"h\",\"showlegend\":true,\"textposition\":\"auto\",\"texttemplate\":\"%{x}\",\"x\":[17],\"xaxis\":\"x\",\"y\":[\"Bangladesh\"],\"yaxis\":\"y\",\"type\":\"bar\"},{\"alignmentgroup\":\"True\",\"hovertemplate\":\"Versus=%{y}<br>Total Innings=%{x}<extra></extra>\",\"legendgroup\":\"Bermuda\",\"marker\":{\"color\":\"#FFA15A\",\"pattern\":{\"shape\":\"\"},\"line\":{\"color\":\"black\",\"width\":2}},\"name\":\"Bermuda\",\"offsetgroup\":\"Bermuda\",\"orientation\":\"h\",\"showlegend\":true,\"textposition\":\"auto\",\"texttemplate\":\"%{x}\",\"x\":[1],\"xaxis\":\"x\",\"y\":[\"Bermuda\"],\"yaxis\":\"y\",\"type\":\"bar\"},{\"alignmentgroup\":\"True\",\"hovertemplate\":\"Versus=%{y}<br>Total Innings=%{x}<extra></extra>\",\"legendgroup\":\"England\",\"marker\":{\"color\":\"#19d3f3\",\"pattern\":{\"shape\":\"\"},\"line\":{\"color\":\"black\",\"width\":2}},\"name\":\"England\",\"offsetgroup\":\"England\",\"orientation\":\"h\",\"showlegend\":true,\"textposition\":\"auto\",\"texttemplate\":\"%{x}\",\"x\":[44],\"xaxis\":\"x\",\"y\":[\"England\"],\"yaxis\":\"y\",\"type\":\"bar\"},{\"alignmentgroup\":\"True\",\"hovertemplate\":\"Versus=%{y}<br>Total Innings=%{x}<extra></extra>\",\"legendgroup\":\"Hong Kong\",\"marker\":{\"color\":\"#FF6692\",\"pattern\":{\"shape\":\"\"},\"line\":{\"color\":\"black\",\"width\":2}},\"name\":\"Hong Kong\",\"offsetgroup\":\"Hong Kong\",\"orientation\":\"h\",\"showlegend\":true,\"textposition\":\"auto\",\"texttemplate\":\"%{x}\",\"x\":[2],\"xaxis\":\"x\",\"y\":[\"Hong Kong\"],\"yaxis\":\"y\",\"type\":\"bar\"},{\"alignmentgroup\":\"True\",\"hovertemplate\":\"Versus=%{y}<br>Total Innings=%{x}<extra></extra>\",\"legendgroup\":\"Ireland\",\"marker\":{\"color\":\"#B6E880\",\"pattern\":{\"shape\":\"\"},\"line\":{\"color\":\"black\",\"width\":2}},\"name\":\"Ireland\",\"offsetgroup\":\"Ireland\",\"orientation\":\"h\",\"showlegend\":true,\"textposition\":\"auto\",\"texttemplate\":\"%{x}\",\"x\":[1],\"xaxis\":\"x\",\"y\":[\"Ireland\"],\"yaxis\":\"y\",\"type\":\"bar\"},{\"alignmentgroup\":\"True\",\"hovertemplate\":\"Versus=%{y}<br>Total Innings=%{x}<extra></extra>\",\"legendgroup\":\"Netherlands\",\"marker\":{\"color\":\"#FF97FF\",\"pattern\":{\"shape\":\"\"},\"line\":{\"color\":\"black\",\"width\":2}},\"name\":\"Netherlands\",\"offsetgroup\":\"Netherlands\",\"orientation\":\"h\",\"showlegend\":true,\"textposition\":\"auto\",\"texttemplate\":\"%{x}\",\"x\":[1],\"xaxis\":\"x\",\"y\":[\"Netherlands\"],\"yaxis\":\"y\",\"type\":\"bar\"},{\"alignmentgroup\":\"True\",\"hovertemplate\":\"Versus=%{y}<br>Total Innings=%{x}<extra></extra>\",\"legendgroup\":\"New Zealand\",\"marker\":{\"color\":\"#FECB52\",\"pattern\":{\"shape\":\"\"},\"line\":{\"color\":\"black\",\"width\":2}},\"name\":\"New Zealand\",\"offsetgroup\":\"New Zealand\",\"orientation\":\"h\",\"showlegend\":true,\"textposition\":\"auto\",\"texttemplate\":\"%{x}\",\"x\":[26],\"xaxis\":\"x\",\"y\":[\"New Zealand\"],\"yaxis\":\"y\",\"type\":\"bar\"},{\"alignmentgroup\":\"True\",\"hovertemplate\":\"Versus=%{y}<br>Total Innings=%{x}<extra></extra>\",\"legendgroup\":\"Pakistan\",\"marker\":{\"color\":\"#636efa\",\"pattern\":{\"shape\":\"\"},\"line\":{\"color\":\"black\",\"width\":2}},\"name\":\"Pakistan\",\"offsetgroup\":\"Pakistan\",\"orientation\":\"h\",\"showlegend\":true,\"textposition\":\"auto\",\"texttemplate\":\"%{x}\",\"x\":[31],\"xaxis\":\"x\",\"y\":[\"Pakistan\"],\"yaxis\":\"y\",\"type\":\"bar\"},{\"alignmentgroup\":\"True\",\"hovertemplate\":\"Versus=%{y}<br>Total Innings=%{x}<extra></extra>\",\"legendgroup\":\"Scotland\",\"marker\":{\"color\":\"#EF553B\",\"pattern\":{\"shape\":\"\"},\"line\":{\"color\":\"black\",\"width\":2}},\"name\":\"Scotland\",\"offsetgroup\":\"Scotland\",\"orientation\":\"h\",\"showlegend\":true,\"textposition\":\"auto\",\"texttemplate\":\"%{x}\",\"x\":[0],\"xaxis\":\"x\",\"y\":[\"Scotland\"],\"yaxis\":\"y\",\"type\":\"bar\"},{\"alignmentgroup\":\"True\",\"hovertemplate\":\"Versus=%{y}<br>Total Innings=%{x}<extra></extra>\",\"legendgroup\":\"South Africa\",\"marker\":{\"color\":\"#00cc96\",\"pattern\":{\"shape\":\"\"},\"line\":{\"color\":\"black\",\"width\":2}},\"name\":\"South Africa\",\"offsetgroup\":\"South Africa\",\"orientation\":\"h\",\"showlegend\":true,\"textposition\":\"auto\",\"texttemplate\":\"%{x}\",\"x\":[32],\"xaxis\":\"x\",\"y\":[\"South Africa\"],\"yaxis\":\"y\",\"type\":\"bar\"},{\"alignmentgroup\":\"True\",\"hovertemplate\":\"Versus=%{y}<br>Total Innings=%{x}<extra></extra>\",\"legendgroup\":\"Sri Lanka\",\"marker\":{\"color\":\"#ab63fa\",\"pattern\":{\"shape\":\"\"},\"line\":{\"color\":\"black\",\"width\":2}},\"name\":\"Sri Lanka\",\"offsetgroup\":\"Sri Lanka\",\"orientation\":\"h\",\"showlegend\":true,\"textposition\":\"auto\",\"texttemplate\":\"%{x}\",\"x\":[53],\"xaxis\":\"x\",\"y\":[\"Sri Lanka\"],\"yaxis\":\"y\",\"type\":\"bar\"},{\"alignmentgroup\":\"True\",\"hovertemplate\":\"Versus=%{y}<br>Total Innings=%{x}<extra></extra>\",\"legendgroup\":\"United Arab Emirates\",\"marker\":{\"color\":\"#FFA15A\",\"pattern\":{\"shape\":\"\"},\"line\":{\"color\":\"black\",\"width\":2}},\"name\":\"United Arab Emirates\",\"offsetgroup\":\"United Arab Emirates\",\"orientation\":\"h\",\"showlegend\":true,\"textposition\":\"auto\",\"texttemplate\":\"%{x}\",\"x\":[0],\"xaxis\":\"x\",\"y\":[\"United Arab Emirates\"],\"yaxis\":\"y\",\"type\":\"bar\"},{\"alignmentgroup\":\"True\",\"hovertemplate\":\"Versus=%{y}<br>Total Innings=%{x}<extra></extra>\",\"legendgroup\":\"West Indies\",\"marker\":{\"color\":\"#19d3f3\",\"pattern\":{\"shape\":\"\"},\"line\":{\"color\":\"black\",\"width\":2}},\"name\":\"West Indies\",\"offsetgroup\":\"West Indies\",\"orientation\":\"h\",\"showlegend\":true,\"textposition\":\"auto\",\"texttemplate\":\"%{x}\",\"x\":[33],\"xaxis\":\"x\",\"y\":[\"West Indies\"],\"yaxis\":\"y\",\"type\":\"bar\"},{\"alignmentgroup\":\"True\",\"hovertemplate\":\"Versus=%{y}<br>Total Innings=%{x}<extra></extra>\",\"legendgroup\":\"Zimbabwe\",\"marker\":{\"color\":\"#FF6692\",\"pattern\":{\"shape\":\"\"},\"line\":{\"color\":\"black\",\"width\":2}},\"name\":\"Zimbabwe\",\"offsetgroup\":\"Zimbabwe\",\"orientation\":\"h\",\"showlegend\":true,\"textposition\":\"auto\",\"texttemplate\":\"%{x}\",\"x\":[3],\"xaxis\":\"x\",\"y\":[\"Zimbabwe\"],\"yaxis\":\"y\",\"type\":\"bar\"}],                        {\"template\":{\"data\":{\"bar\":[{\"error_x\":{\"color\":\"#2a3f5f\"},\"error_y\":{\"color\":\"#2a3f5f\"},\"marker\":{\"line\":{\"color\":\"#E5ECF6\",\"width\":0.5},\"pattern\":{\"fillmode\":\"overlay\",\"size\":10,\"solidity\":0.2}},\"type\":\"bar\"}],\"barpolar\":[{\"marker\":{\"line\":{\"color\":\"#E5ECF6\",\"width\":0.5},\"pattern\":{\"fillmode\":\"overlay\",\"size\":10,\"solidity\":0.2}},\"type\":\"barpolar\"}],\"carpet\":[{\"aaxis\":{\"endlinecolor\":\"#2a3f5f\",\"gridcolor\":\"white\",\"linecolor\":\"white\",\"minorgridcolor\":\"white\",\"startlinecolor\":\"#2a3f5f\"},\"baxis\":{\"endlinecolor\":\"#2a3f5f\",\"gridcolor\":\"white\",\"linecolor\":\"white\",\"minorgridcolor\":\"white\",\"startlinecolor\":\"#2a3f5f\"},\"type\":\"carpet\"}],\"choropleth\":[{\"colorbar\":{\"outlinewidth\":0,\"ticks\":\"\"},\"type\":\"choropleth\"}],\"contour\":[{\"colorbar\":{\"outlinewidth\":0,\"ticks\":\"\"},\"colorscale\":[[0.0,\"#0d0887\"],[0.1111111111111111,\"#46039f\"],[0.2222222222222222,\"#7201a8\"],[0.3333333333333333,\"#9c179e\"],[0.4444444444444444,\"#bd3786\"],[0.5555555555555556,\"#d8576b\"],[0.6666666666666666,\"#ed7953\"],[0.7777777777777778,\"#fb9f3a\"],[0.8888888888888888,\"#fdca26\"],[1.0,\"#f0f921\"]],\"type\":\"contour\"}],\"contourcarpet\":[{\"colorbar\":{\"outlinewidth\":0,\"ticks\":\"\"},\"type\":\"contourcarpet\"}],\"heatmap\":[{\"colorbar\":{\"outlinewidth\":0,\"ticks\":\"\"},\"colorscale\":[[0.0,\"#0d0887\"],[0.1111111111111111,\"#46039f\"],[0.2222222222222222,\"#7201a8\"],[0.3333333333333333,\"#9c179e\"],[0.4444444444444444,\"#bd3786\"],[0.5555555555555556,\"#d8576b\"],[0.6666666666666666,\"#ed7953\"],[0.7777777777777778,\"#fb9f3a\"],[0.8888888888888888,\"#fdca26\"],[1.0,\"#f0f921\"]],\"type\":\"heatmap\"}],\"heatmapgl\":[{\"colorbar\":{\"outlinewidth\":0,\"ticks\":\"\"},\"colorscale\":[[0.0,\"#0d0887\"],[0.1111111111111111,\"#46039f\"],[0.2222222222222222,\"#7201a8\"],[0.3333333333333333,\"#9c179e\"],[0.4444444444444444,\"#bd3786\"],[0.5555555555555556,\"#d8576b\"],[0.6666666666666666,\"#ed7953\"],[0.7777777777777778,\"#fb9f3a\"],[0.8888888888888888,\"#fdca26\"],[1.0,\"#f0f921\"]],\"type\":\"heatmapgl\"}],\"histogram\":[{\"marker\":{\"pattern\":{\"fillmode\":\"overlay\",\"size\":10,\"solidity\":0.2}},\"type\":\"histogram\"}],\"histogram2d\":[{\"colorbar\":{\"outlinewidth\":0,\"ticks\":\"\"},\"colorscale\":[[0.0,\"#0d0887\"],[0.1111111111111111,\"#46039f\"],[0.2222222222222222,\"#7201a8\"],[0.3333333333333333,\"#9c179e\"],[0.4444444444444444,\"#bd3786\"],[0.5555555555555556,\"#d8576b\"],[0.6666666666666666,\"#ed7953\"],[0.7777777777777778,\"#fb9f3a\"],[0.8888888888888888,\"#fdca26\"],[1.0,\"#f0f921\"]],\"type\":\"histogram2d\"}],\"histogram2dcontour\":[{\"colorbar\":{\"outlinewidth\":0,\"ticks\":\"\"},\"colorscale\":[[0.0,\"#0d0887\"],[0.1111111111111111,\"#46039f\"],[0.2222222222222222,\"#7201a8\"],[0.3333333333333333,\"#9c179e\"],[0.4444444444444444,\"#bd3786\"],[0.5555555555555556,\"#d8576b\"],[0.6666666666666666,\"#ed7953\"],[0.7777777777777778,\"#fb9f3a\"],[0.8888888888888888,\"#fdca26\"],[1.0,\"#f0f921\"]],\"type\":\"histogram2dcontour\"}],\"mesh3d\":[{\"colorbar\":{\"outlinewidth\":0,\"ticks\":\"\"},\"type\":\"mesh3d\"}],\"parcoords\":[{\"line\":{\"colorbar\":{\"outlinewidth\":0,\"ticks\":\"\"}},\"type\":\"parcoords\"}],\"pie\":[{\"automargin\":true,\"type\":\"pie\"}],\"scatter\":[{\"marker\":{\"colorbar\":{\"outlinewidth\":0,\"ticks\":\"\"}},\"type\":\"scatter\"}],\"scatter3d\":[{\"line\":{\"colorbar\":{\"outlinewidth\":0,\"ticks\":\"\"}},\"marker\":{\"colorbar\":{\"outlinewidth\":0,\"ticks\":\"\"}},\"type\":\"scatter3d\"}],\"scattercarpet\":[{\"marker\":{\"colorbar\":{\"outlinewidth\":0,\"ticks\":\"\"}},\"type\":\"scattercarpet\"}],\"scattergeo\":[{\"marker\":{\"colorbar\":{\"outlinewidth\":0,\"ticks\":\"\"}},\"type\":\"scattergeo\"}],\"scattergl\":[{\"marker\":{\"colorbar\":{\"outlinewidth\":0,\"ticks\":\"\"}},\"type\":\"scattergl\"}],\"scattermapbox\":[{\"marker\":{\"colorbar\":{\"outlinewidth\":0,\"ticks\":\"\"}},\"type\":\"scattermapbox\"}],\"scatterpolar\":[{\"marker\":{\"colorbar\":{\"outlinewidth\":0,\"ticks\":\"\"}},\"type\":\"scatterpolar\"}],\"scatterpolargl\":[{\"marker\":{\"colorbar\":{\"outlinewidth\":0,\"ticks\":\"\"}},\"type\":\"scatterpolargl\"}],\"scatterternary\":[{\"marker\":{\"colorbar\":{\"outlinewidth\":0,\"ticks\":\"\"}},\"type\":\"scatterternary\"}],\"surface\":[{\"colorbar\":{\"outlinewidth\":0,\"ticks\":\"\"},\"colorscale\":[[0.0,\"#0d0887\"],[0.1111111111111111,\"#46039f\"],[0.2222222222222222,\"#7201a8\"],[0.3333333333333333,\"#9c179e\"],[0.4444444444444444,\"#bd3786\"],[0.5555555555555556,\"#d8576b\"],[0.6666666666666666,\"#ed7953\"],[0.7777777777777778,\"#fb9f3a\"],[0.8888888888888888,\"#fdca26\"],[1.0,\"#f0f921\"]],\"type\":\"surface\"}],\"table\":[{\"cells\":{\"fill\":{\"color\":\"#EBF0F8\"},\"line\":{\"color\":\"white\"}},\"header\":{\"fill\":{\"color\":\"#C8D4E3\"},\"line\":{\"color\":\"white\"}},\"type\":\"table\"}]},\"layout\":{\"annotationdefaults\":{\"arrowcolor\":\"#2a3f5f\",\"arrowhead\":0,\"arrowwidth\":1},\"autotypenumbers\":\"strict\",\"coloraxis\":{\"colorbar\":{\"outlinewidth\":0,\"ticks\":\"\"}},\"colorscale\":{\"diverging\":[[0,\"#8e0152\"],[0.1,\"#c51b7d\"],[0.2,\"#de77ae\"],[0.3,\"#f1b6da\"],[0.4,\"#fde0ef\"],[0.5,\"#f7f7f7\"],[0.6,\"#e6f5d0\"],[0.7,\"#b8e186\"],[0.8,\"#7fbc41\"],[0.9,\"#4d9221\"],[1,\"#276419\"]],\"sequential\":[[0.0,\"#0d0887\"],[0.1111111111111111,\"#46039f\"],[0.2222222222222222,\"#7201a8\"],[0.3333333333333333,\"#9c179e\"],[0.4444444444444444,\"#bd3786\"],[0.5555555555555556,\"#d8576b\"],[0.6666666666666666,\"#ed7953\"],[0.7777777777777778,\"#fb9f3a\"],[0.8888888888888888,\"#fdca26\"],[1.0,\"#f0f921\"]],\"sequentialminus\":[[0.0,\"#0d0887\"],[0.1111111111111111,\"#46039f\"],[0.2222222222222222,\"#7201a8\"],[0.3333333333333333,\"#9c179e\"],[0.4444444444444444,\"#bd3786\"],[0.5555555555555556,\"#d8576b\"],[0.6666666666666666,\"#ed7953\"],[0.7777777777777778,\"#fb9f3a\"],[0.8888888888888888,\"#fdca26\"],[1.0,\"#f0f921\"]]},\"colorway\":[\"#636efa\",\"#EF553B\",\"#00cc96\",\"#ab63fa\",\"#FFA15A\",\"#19d3f3\",\"#FF6692\",\"#B6E880\",\"#FF97FF\",\"#FECB52\"],\"font\":{\"color\":\"#2a3f5f\"},\"geo\":{\"bgcolor\":\"white\",\"lakecolor\":\"white\",\"landcolor\":\"#E5ECF6\",\"showlakes\":true,\"showland\":true,\"subunitcolor\":\"white\"},\"hoverlabel\":{\"align\":\"left\"},\"hovermode\":\"closest\",\"mapbox\":{\"style\":\"light\"},\"paper_bgcolor\":\"white\",\"plot_bgcolor\":\"#E5ECF6\",\"polar\":{\"angularaxis\":{\"gridcolor\":\"white\",\"linecolor\":\"white\",\"ticks\":\"\"},\"bgcolor\":\"#E5ECF6\",\"radialaxis\":{\"gridcolor\":\"white\",\"linecolor\":\"white\",\"ticks\":\"\"}},\"scene\":{\"xaxis\":{\"backgroundcolor\":\"#E5ECF6\",\"gridcolor\":\"white\",\"gridwidth\":2,\"linecolor\":\"white\",\"showbackground\":true,\"ticks\":\"\",\"zerolinecolor\":\"white\"},\"yaxis\":{\"backgroundcolor\":\"#E5ECF6\",\"gridcolor\":\"white\",\"gridwidth\":2,\"linecolor\":\"white\",\"showbackground\":true,\"ticks\":\"\",\"zerolinecolor\":\"white\"},\"zaxis\":{\"backgroundcolor\":\"#E5ECF6\",\"gridcolor\":\"white\",\"gridwidth\":2,\"linecolor\":\"white\",\"showbackground\":true,\"ticks\":\"\",\"zerolinecolor\":\"white\"}},\"shapedefaults\":{\"line\":{\"color\":\"#2a3f5f\"}},\"ternary\":{\"aaxis\":{\"gridcolor\":\"white\",\"linecolor\":\"white\",\"ticks\":\"\"},\"baxis\":{\"gridcolor\":\"white\",\"linecolor\":\"white\",\"ticks\":\"\"},\"bgcolor\":\"#E5ECF6\",\"caxis\":{\"gridcolor\":\"white\",\"linecolor\":\"white\",\"ticks\":\"\"}},\"title\":{\"x\":0.05},\"xaxis\":{\"automargin\":true,\"gridcolor\":\"white\",\"linecolor\":\"white\",\"ticks\":\"\",\"title\":{\"standoff\":15},\"zerolinecolor\":\"white\",\"zerolinewidth\":2},\"yaxis\":{\"automargin\":true,\"gridcolor\":\"white\",\"linecolor\":\"white\",\"ticks\":\"\",\"title\":{\"standoff\":15},\"zerolinecolor\":\"white\",\"zerolinewidth\":2}}},\"xaxis\":{\"anchor\":\"y\",\"domain\":[0.0,1.0],\"title\":{\"text\":\"Total Innings\"}},\"yaxis\":{\"anchor\":\"x\",\"domain\":[0.0,1.0],\"title\":{\"text\":\"Versus\"},\"categoryorder\":\"array\",\"categoryarray\":[\"Zimbabwe\",\"West Indies\",\"United Arab Emirates\",\"Sri Lanka\",\"South Africa\",\"Scotland\",\"Pakistan\",\"New Zealand\",\"Netherlands\",\"Ireland\",\"Hong Kong\",\"England\",\"Bermuda\",\"Bangladesh\",\"Australia\",\"Afghanistan\",\"ACA Africa XI\"]},\"legend\":{\"title\":{\"text\":\"Versus\"},\"tracegroupgap\":0},\"title\":{\"text\":\"Number of Innings played against Teams\"},\"barmode\":\"relative\"},                        {\"responsive\": true}                    ).then(function(){\n",
       "                            \n",
       "var gd = document.getElementById('07aa7864-9fab-4f01-87ce-6d504a680866');\n",
       "var x = new MutationObserver(function (mutations, observer) {{\n",
       "        var display = window.getComputedStyle(gd).display;\n",
       "        if (!display || display === 'none') {{\n",
       "            console.log([gd, 'removed!']);\n",
       "            Plotly.purge(gd);\n",
       "            observer.disconnect();\n",
       "        }}\n",
       "}});\n",
       "\n",
       "// Listen for the removal of the full notebook cells\n",
       "var notebookContainer = gd.closest('#notebook-container');\n",
       "if (notebookContainer) {{\n",
       "    x.observe(notebookContainer, {childList: true});\n",
       "}}\n",
       "\n",
       "// Listen for the clearing of the current output cell\n",
       "var outputEl = gd.closest('.output');\n",
       "if (outputEl) {{\n",
       "    x.observe(outputEl, {childList: true});\n",
       "}}\n",
       "\n",
       "                        })                };                });            </script>        </div>"
      ]
     },
     "metadata": {},
     "output_type": "display_data"
    }
   ],
   "source": [
    "df = data.groupby(\"Versus\")[\"Runs\"].count()\n",
    "\n",
    "fig = px.bar(data_frame=df, y=df.index, x=df.values, title=\"Number of Innings played against Teams\", \n",
    "       labels={\"x\":\"Total Innings\"}, color=df.index, text_auto=True)\n",
    "\n",
    "fig.update_traces(marker=dict(line=dict(color='black', width=2)))\n",
    "fig.show()"
   ]
  },
  {
   "cell_type": "code",
   "execution_count": 32,
   "id": "c575322a",
   "metadata": {},
   "outputs": [
    {
     "data": {
      "application/vnd.plotly.v1+json": {
       "config": {
        "plotlyServerURL": "https://plot.ly"
       },
       "data": [
        {
         "alignmentgroup": "True",
         "hovertemplate": "color=Pakistan<br>Innings=%{x}<br>Opposition=%{y}<extra></extra>",
         "legendgroup": "Pakistan",
         "marker": {
          "color": "#636efa",
          "line": {
           "color": "black",
           "width": 2
          },
          "pattern": {
           "shape": ""
          }
         },
         "name": "Pakistan",
         "offsetgroup": "Pakistan",
         "orientation": "h",
         "showlegend": true,
         "textposition": "auto",
         "type": "bar",
         "x": [
          2
         ],
         "xaxis": "x",
         "y": [
          "Pakistan"
         ],
         "yaxis": "y"
        },
        {
         "alignmentgroup": "True",
         "hovertemplate": "color=Sri Lanka<br>Innings=%{x}<br>Opposition=%{y}<extra></extra>",
         "legendgroup": "Sri Lanka",
         "marker": {
          "color": "#EF553B",
          "line": {
           "color": "black",
           "width": 2
          },
          "pattern": {
           "shape": ""
          }
         },
         "name": "Sri Lanka",
         "offsetgroup": "Sri Lanka",
         "orientation": "h",
         "showlegend": true,
         "textposition": "auto",
         "type": "bar",
         "x": [
          2
         ],
         "xaxis": "x",
         "y": [
          "Sri Lanka"
         ],
         "yaxis": "y"
        },
        {
         "alignmentgroup": "True",
         "hovertemplate": "color=Australia<br>Innings=%{x}<br>Opposition=%{y}<extra></extra>",
         "legendgroup": "Australia",
         "marker": {
          "color": "#00cc96",
          "line": {
           "color": "black",
           "width": 2
          },
          "pattern": {
           "shape": ""
          }
         },
         "name": "Australia",
         "offsetgroup": "Australia",
         "orientation": "h",
         "showlegend": true,
         "textposition": "auto",
         "type": "bar",
         "x": [
          2
         ],
         "xaxis": "x",
         "y": [
          "Australia"
         ],
         "yaxis": "y"
        },
        {
         "alignmentgroup": "True",
         "hovertemplate": "color=ACA Africa XI<br>Innings=%{x}<br>Opposition=%{y}<extra></extra>",
         "legendgroup": "ACA Africa XI",
         "marker": {
          "color": "#ab63fa",
          "line": {
           "color": "black",
           "width": 2
          },
          "pattern": {
           "shape": ""
          }
         },
         "name": "ACA Africa XI",
         "offsetgroup": "ACA Africa XI",
         "orientation": "h",
         "showlegend": true,
         "textposition": "auto",
         "type": "bar",
         "x": [
          1
         ],
         "xaxis": "x",
         "y": [
          "ACA Africa XI"
         ],
         "yaxis": "y"
        },
        {
         "alignmentgroup": "True",
         "hovertemplate": "color=Hong Kong<br>Innings=%{x}<br>Opposition=%{y}<extra></extra>",
         "legendgroup": "Hong Kong",
         "marker": {
          "color": "#FFA15A",
          "line": {
           "color": "black",
           "width": 2
          },
          "pattern": {
           "shape": ""
          }
         },
         "name": "Hong Kong",
         "offsetgroup": "Hong Kong",
         "orientation": "h",
         "showlegend": true,
         "textposition": "auto",
         "type": "bar",
         "x": [
          1
         ],
         "xaxis": "x",
         "y": [
          "Hong Kong"
         ],
         "yaxis": "y"
        },
        {
         "alignmentgroup": "True",
         "hovertemplate": "color=Bangladesh<br>Innings=%{x}<br>Opposition=%{y}<extra></extra>",
         "legendgroup": "Bangladesh",
         "marker": {
          "color": "#19d3f3",
          "line": {
           "color": "black",
           "width": 2
          },
          "pattern": {
           "shape": ""
          }
         },
         "name": "Bangladesh",
         "offsetgroup": "Bangladesh",
         "orientation": "h",
         "showlegend": true,
         "textposition": "auto",
         "type": "bar",
         "x": [
          1
         ],
         "xaxis": "x",
         "y": [
          "Bangladesh"
         ],
         "yaxis": "y"
        },
        {
         "alignmentgroup": "True",
         "hovertemplate": "color=England<br>Innings=%{x}<br>Opposition=%{y}<extra></extra>",
         "legendgroup": "England",
         "marker": {
          "color": "#FF6692",
          "line": {
           "color": "black",
           "width": 2
          },
          "pattern": {
           "shape": ""
          }
         },
         "name": "England",
         "offsetgroup": "England",
         "orientation": "h",
         "showlegend": true,
         "textposition": "auto",
         "type": "bar",
         "x": [
          1
         ],
         "xaxis": "x",
         "y": [
          "England"
         ],
         "yaxis": "y"
        }
       ],
       "layout": {
        "barmode": "relative",
        "legend": {
         "title": {
          "text": "color"
         },
         "tracegroupgap": 0
        },
        "template": {
         "data": {
          "bar": [
           {
            "error_x": {
             "color": "#2a3f5f"
            },
            "error_y": {
             "color": "#2a3f5f"
            },
            "marker": {
             "line": {
              "color": "#E5ECF6",
              "width": 0.5
             },
             "pattern": {
              "fillmode": "overlay",
              "size": 10,
              "solidity": 0.2
             }
            },
            "type": "bar"
           }
          ],
          "barpolar": [
           {
            "marker": {
             "line": {
              "color": "#E5ECF6",
              "width": 0.5
             },
             "pattern": {
              "fillmode": "overlay",
              "size": 10,
              "solidity": 0.2
             }
            },
            "type": "barpolar"
           }
          ],
          "carpet": [
           {
            "aaxis": {
             "endlinecolor": "#2a3f5f",
             "gridcolor": "white",
             "linecolor": "white",
             "minorgridcolor": "white",
             "startlinecolor": "#2a3f5f"
            },
            "baxis": {
             "endlinecolor": "#2a3f5f",
             "gridcolor": "white",
             "linecolor": "white",
             "minorgridcolor": "white",
             "startlinecolor": "#2a3f5f"
            },
            "type": "carpet"
           }
          ],
          "choropleth": [
           {
            "colorbar": {
             "outlinewidth": 0,
             "ticks": ""
            },
            "type": "choropleth"
           }
          ],
          "contour": [
           {
            "colorbar": {
             "outlinewidth": 0,
             "ticks": ""
            },
            "colorscale": [
             [
              0,
              "#0d0887"
             ],
             [
              0.1111111111111111,
              "#46039f"
             ],
             [
              0.2222222222222222,
              "#7201a8"
             ],
             [
              0.3333333333333333,
              "#9c179e"
             ],
             [
              0.4444444444444444,
              "#bd3786"
             ],
             [
              0.5555555555555556,
              "#d8576b"
             ],
             [
              0.6666666666666666,
              "#ed7953"
             ],
             [
              0.7777777777777778,
              "#fb9f3a"
             ],
             [
              0.8888888888888888,
              "#fdca26"
             ],
             [
              1,
              "#f0f921"
             ]
            ],
            "type": "contour"
           }
          ],
          "contourcarpet": [
           {
            "colorbar": {
             "outlinewidth": 0,
             "ticks": ""
            },
            "type": "contourcarpet"
           }
          ],
          "heatmap": [
           {
            "colorbar": {
             "outlinewidth": 0,
             "ticks": ""
            },
            "colorscale": [
             [
              0,
              "#0d0887"
             ],
             [
              0.1111111111111111,
              "#46039f"
             ],
             [
              0.2222222222222222,
              "#7201a8"
             ],
             [
              0.3333333333333333,
              "#9c179e"
             ],
             [
              0.4444444444444444,
              "#bd3786"
             ],
             [
              0.5555555555555556,
              "#d8576b"
             ],
             [
              0.6666666666666666,
              "#ed7953"
             ],
             [
              0.7777777777777778,
              "#fb9f3a"
             ],
             [
              0.8888888888888888,
              "#fdca26"
             ],
             [
              1,
              "#f0f921"
             ]
            ],
            "type": "heatmap"
           }
          ],
          "heatmapgl": [
           {
            "colorbar": {
             "outlinewidth": 0,
             "ticks": ""
            },
            "colorscale": [
             [
              0,
              "#0d0887"
             ],
             [
              0.1111111111111111,
              "#46039f"
             ],
             [
              0.2222222222222222,
              "#7201a8"
             ],
             [
              0.3333333333333333,
              "#9c179e"
             ],
             [
              0.4444444444444444,
              "#bd3786"
             ],
             [
              0.5555555555555556,
              "#d8576b"
             ],
             [
              0.6666666666666666,
              "#ed7953"
             ],
             [
              0.7777777777777778,
              "#fb9f3a"
             ],
             [
              0.8888888888888888,
              "#fdca26"
             ],
             [
              1,
              "#f0f921"
             ]
            ],
            "type": "heatmapgl"
           }
          ],
          "histogram": [
           {
            "marker": {
             "pattern": {
              "fillmode": "overlay",
              "size": 10,
              "solidity": 0.2
             }
            },
            "type": "histogram"
           }
          ],
          "histogram2d": [
           {
            "colorbar": {
             "outlinewidth": 0,
             "ticks": ""
            },
            "colorscale": [
             [
              0,
              "#0d0887"
             ],
             [
              0.1111111111111111,
              "#46039f"
             ],
             [
              0.2222222222222222,
              "#7201a8"
             ],
             [
              0.3333333333333333,
              "#9c179e"
             ],
             [
              0.4444444444444444,
              "#bd3786"
             ],
             [
              0.5555555555555556,
              "#d8576b"
             ],
             [
              0.6666666666666666,
              "#ed7953"
             ],
             [
              0.7777777777777778,
              "#fb9f3a"
             ],
             [
              0.8888888888888888,
              "#fdca26"
             ],
             [
              1,
              "#f0f921"
             ]
            ],
            "type": "histogram2d"
           }
          ],
          "histogram2dcontour": [
           {
            "colorbar": {
             "outlinewidth": 0,
             "ticks": ""
            },
            "colorscale": [
             [
              0,
              "#0d0887"
             ],
             [
              0.1111111111111111,
              "#46039f"
             ],
             [
              0.2222222222222222,
              "#7201a8"
             ],
             [
              0.3333333333333333,
              "#9c179e"
             ],
             [
              0.4444444444444444,
              "#bd3786"
             ],
             [
              0.5555555555555556,
              "#d8576b"
             ],
             [
              0.6666666666666666,
              "#ed7953"
             ],
             [
              0.7777777777777778,
              "#fb9f3a"
             ],
             [
              0.8888888888888888,
              "#fdca26"
             ],
             [
              1,
              "#f0f921"
             ]
            ],
            "type": "histogram2dcontour"
           }
          ],
          "mesh3d": [
           {
            "colorbar": {
             "outlinewidth": 0,
             "ticks": ""
            },
            "type": "mesh3d"
           }
          ],
          "parcoords": [
           {
            "line": {
             "colorbar": {
              "outlinewidth": 0,
              "ticks": ""
             }
            },
            "type": "parcoords"
           }
          ],
          "pie": [
           {
            "automargin": true,
            "type": "pie"
           }
          ],
          "scatter": [
           {
            "marker": {
             "colorbar": {
              "outlinewidth": 0,
              "ticks": ""
             }
            },
            "type": "scatter"
           }
          ],
          "scatter3d": [
           {
            "line": {
             "colorbar": {
              "outlinewidth": 0,
              "ticks": ""
             }
            },
            "marker": {
             "colorbar": {
              "outlinewidth": 0,
              "ticks": ""
             }
            },
            "type": "scatter3d"
           }
          ],
          "scattercarpet": [
           {
            "marker": {
             "colorbar": {
              "outlinewidth": 0,
              "ticks": ""
             }
            },
            "type": "scattercarpet"
           }
          ],
          "scattergeo": [
           {
            "marker": {
             "colorbar": {
              "outlinewidth": 0,
              "ticks": ""
             }
            },
            "type": "scattergeo"
           }
          ],
          "scattergl": [
           {
            "marker": {
             "colorbar": {
              "outlinewidth": 0,
              "ticks": ""
             }
            },
            "type": "scattergl"
           }
          ],
          "scattermapbox": [
           {
            "marker": {
             "colorbar": {
              "outlinewidth": 0,
              "ticks": ""
             }
            },
            "type": "scattermapbox"
           }
          ],
          "scatterpolar": [
           {
            "marker": {
             "colorbar": {
              "outlinewidth": 0,
              "ticks": ""
             }
            },
            "type": "scatterpolar"
           }
          ],
          "scatterpolargl": [
           {
            "marker": {
             "colorbar": {
              "outlinewidth": 0,
              "ticks": ""
             }
            },
            "type": "scatterpolargl"
           }
          ],
          "scatterternary": [
           {
            "marker": {
             "colorbar": {
              "outlinewidth": 0,
              "ticks": ""
             }
            },
            "type": "scatterternary"
           }
          ],
          "surface": [
           {
            "colorbar": {
             "outlinewidth": 0,
             "ticks": ""
            },
            "colorscale": [
             [
              0,
              "#0d0887"
             ],
             [
              0.1111111111111111,
              "#46039f"
             ],
             [
              0.2222222222222222,
              "#7201a8"
             ],
             [
              0.3333333333333333,
              "#9c179e"
             ],
             [
              0.4444444444444444,
              "#bd3786"
             ],
             [
              0.5555555555555556,
              "#d8576b"
             ],
             [
              0.6666666666666666,
              "#ed7953"
             ],
             [
              0.7777777777777778,
              "#fb9f3a"
             ],
             [
              0.8888888888888888,
              "#fdca26"
             ],
             [
              1,
              "#f0f921"
             ]
            ],
            "type": "surface"
           }
          ],
          "table": [
           {
            "cells": {
             "fill": {
              "color": "#EBF0F8"
             },
             "line": {
              "color": "white"
             }
            },
            "header": {
             "fill": {
              "color": "#C8D4E3"
             },
             "line": {
              "color": "white"
             }
            },
            "type": "table"
           }
          ]
         },
         "layout": {
          "annotationdefaults": {
           "arrowcolor": "#2a3f5f",
           "arrowhead": 0,
           "arrowwidth": 1
          },
          "autotypenumbers": "strict",
          "coloraxis": {
           "colorbar": {
            "outlinewidth": 0,
            "ticks": ""
           }
          },
          "colorscale": {
           "diverging": [
            [
             0,
             "#8e0152"
            ],
            [
             0.1,
             "#c51b7d"
            ],
            [
             0.2,
             "#de77ae"
            ],
            [
             0.3,
             "#f1b6da"
            ],
            [
             0.4,
             "#fde0ef"
            ],
            [
             0.5,
             "#f7f7f7"
            ],
            [
             0.6,
             "#e6f5d0"
            ],
            [
             0.7,
             "#b8e186"
            ],
            [
             0.8,
             "#7fbc41"
            ],
            [
             0.9,
             "#4d9221"
            ],
            [
             1,
             "#276419"
            ]
           ],
           "sequential": [
            [
             0,
             "#0d0887"
            ],
            [
             0.1111111111111111,
             "#46039f"
            ],
            [
             0.2222222222222222,
             "#7201a8"
            ],
            [
             0.3333333333333333,
             "#9c179e"
            ],
            [
             0.4444444444444444,
             "#bd3786"
            ],
            [
             0.5555555555555556,
             "#d8576b"
            ],
            [
             0.6666666666666666,
             "#ed7953"
            ],
            [
             0.7777777777777778,
             "#fb9f3a"
            ],
            [
             0.8888888888888888,
             "#fdca26"
            ],
            [
             1,
             "#f0f921"
            ]
           ],
           "sequentialminus": [
            [
             0,
             "#0d0887"
            ],
            [
             0.1111111111111111,
             "#46039f"
            ],
            [
             0.2222222222222222,
             "#7201a8"
            ],
            [
             0.3333333333333333,
             "#9c179e"
            ],
            [
             0.4444444444444444,
             "#bd3786"
            ],
            [
             0.5555555555555556,
             "#d8576b"
            ],
            [
             0.6666666666666666,
             "#ed7953"
            ],
            [
             0.7777777777777778,
             "#fb9f3a"
            ],
            [
             0.8888888888888888,
             "#fdca26"
            ],
            [
             1,
             "#f0f921"
            ]
           ]
          },
          "colorway": [
           "#636efa",
           "#EF553B",
           "#00cc96",
           "#ab63fa",
           "#FFA15A",
           "#19d3f3",
           "#FF6692",
           "#B6E880",
           "#FF97FF",
           "#FECB52"
          ],
          "font": {
           "color": "#2a3f5f"
          },
          "geo": {
           "bgcolor": "white",
           "lakecolor": "white",
           "landcolor": "#E5ECF6",
           "showlakes": true,
           "showland": true,
           "subunitcolor": "white"
          },
          "hoverlabel": {
           "align": "left"
          },
          "hovermode": "closest",
          "mapbox": {
           "style": "light"
          },
          "paper_bgcolor": "white",
          "plot_bgcolor": "#E5ECF6",
          "polar": {
           "angularaxis": {
            "gridcolor": "white",
            "linecolor": "white",
            "ticks": ""
           },
           "bgcolor": "#E5ECF6",
           "radialaxis": {
            "gridcolor": "white",
            "linecolor": "white",
            "ticks": ""
           }
          },
          "scene": {
           "xaxis": {
            "backgroundcolor": "#E5ECF6",
            "gridcolor": "white",
            "gridwidth": 2,
            "linecolor": "white",
            "showbackground": true,
            "ticks": "",
            "zerolinecolor": "white"
           },
           "yaxis": {
            "backgroundcolor": "#E5ECF6",
            "gridcolor": "white",
            "gridwidth": 2,
            "linecolor": "white",
            "showbackground": true,
            "ticks": "",
            "zerolinecolor": "white"
           },
           "zaxis": {
            "backgroundcolor": "#E5ECF6",
            "gridcolor": "white",
            "gridwidth": 2,
            "linecolor": "white",
            "showbackground": true,
            "ticks": "",
            "zerolinecolor": "white"
           }
          },
          "shapedefaults": {
           "line": {
            "color": "#2a3f5f"
           }
          },
          "ternary": {
           "aaxis": {
            "gridcolor": "white",
            "linecolor": "white",
            "ticks": ""
           },
           "baxis": {
            "gridcolor": "white",
            "linecolor": "white",
            "ticks": ""
           },
           "bgcolor": "#E5ECF6",
           "caxis": {
            "gridcolor": "white",
            "linecolor": "white",
            "ticks": ""
           }
          },
          "title": {
           "x": 0.05
          },
          "xaxis": {
           "automargin": true,
           "gridcolor": "white",
           "linecolor": "white",
           "ticks": "",
           "title": {
            "standoff": 15
           },
           "zerolinecolor": "white",
           "zerolinewidth": 2
          },
          "yaxis": {
           "automargin": true,
           "gridcolor": "white",
           "linecolor": "white",
           "ticks": "",
           "title": {
            "standoff": 15
           },
           "zerolinecolor": "white",
           "zerolinewidth": 2
          }
         }
        },
        "title": {
         "text": "Number of time Dhoni has Scored Century"
        },
        "xaxis": {
         "anchor": "y",
         "domain": [
          0,
          1
         ],
         "title": {
          "text": "Innings"
         }
        },
        "yaxis": {
         "anchor": "x",
         "domain": [
          0,
          1
         ],
         "title": {
          "text": "Opposition"
         }
        }
       }
      },
      "text/html": [
       "<div>                            <div id=\"378f5a3b-2950-42b8-bfe1-c6e89072eb3b\" class=\"plotly-graph-div\" style=\"height:525px; width:100%;\"></div>            <script type=\"text/javascript\">                require([\"plotly\"], function(Plotly) {                    window.PLOTLYENV=window.PLOTLYENV || {};                                    if (document.getElementById(\"378f5a3b-2950-42b8-bfe1-c6e89072eb3b\")) {                    Plotly.newPlot(                        \"378f5a3b-2950-42b8-bfe1-c6e89072eb3b\",                        [{\"alignmentgroup\":\"True\",\"hovertemplate\":\"color=Pakistan<br>Innings=%{x}<br>Opposition=%{y}<extra></extra>\",\"legendgroup\":\"Pakistan\",\"marker\":{\"color\":\"#636efa\",\"pattern\":{\"shape\":\"\"},\"line\":{\"color\":\"black\",\"width\":2}},\"name\":\"Pakistan\",\"offsetgroup\":\"Pakistan\",\"orientation\":\"h\",\"showlegend\":true,\"textposition\":\"auto\",\"x\":[2],\"xaxis\":\"x\",\"y\":[\"Pakistan\"],\"yaxis\":\"y\",\"type\":\"bar\"},{\"alignmentgroup\":\"True\",\"hovertemplate\":\"color=Sri Lanka<br>Innings=%{x}<br>Opposition=%{y}<extra></extra>\",\"legendgroup\":\"Sri Lanka\",\"marker\":{\"color\":\"#EF553B\",\"pattern\":{\"shape\":\"\"},\"line\":{\"color\":\"black\",\"width\":2}},\"name\":\"Sri Lanka\",\"offsetgroup\":\"Sri Lanka\",\"orientation\":\"h\",\"showlegend\":true,\"textposition\":\"auto\",\"x\":[2],\"xaxis\":\"x\",\"y\":[\"Sri Lanka\"],\"yaxis\":\"y\",\"type\":\"bar\"},{\"alignmentgroup\":\"True\",\"hovertemplate\":\"color=Australia<br>Innings=%{x}<br>Opposition=%{y}<extra></extra>\",\"legendgroup\":\"Australia\",\"marker\":{\"color\":\"#00cc96\",\"pattern\":{\"shape\":\"\"},\"line\":{\"color\":\"black\",\"width\":2}},\"name\":\"Australia\",\"offsetgroup\":\"Australia\",\"orientation\":\"h\",\"showlegend\":true,\"textposition\":\"auto\",\"x\":[2],\"xaxis\":\"x\",\"y\":[\"Australia\"],\"yaxis\":\"y\",\"type\":\"bar\"},{\"alignmentgroup\":\"True\",\"hovertemplate\":\"color=ACA Africa XI<br>Innings=%{x}<br>Opposition=%{y}<extra></extra>\",\"legendgroup\":\"ACA Africa XI\",\"marker\":{\"color\":\"#ab63fa\",\"pattern\":{\"shape\":\"\"},\"line\":{\"color\":\"black\",\"width\":2}},\"name\":\"ACA Africa XI\",\"offsetgroup\":\"ACA Africa XI\",\"orientation\":\"h\",\"showlegend\":true,\"textposition\":\"auto\",\"x\":[1],\"xaxis\":\"x\",\"y\":[\"ACA Africa XI\"],\"yaxis\":\"y\",\"type\":\"bar\"},{\"alignmentgroup\":\"True\",\"hovertemplate\":\"color=Hong Kong<br>Innings=%{x}<br>Opposition=%{y}<extra></extra>\",\"legendgroup\":\"Hong Kong\",\"marker\":{\"color\":\"#FFA15A\",\"pattern\":{\"shape\":\"\"},\"line\":{\"color\":\"black\",\"width\":2}},\"name\":\"Hong Kong\",\"offsetgroup\":\"Hong Kong\",\"orientation\":\"h\",\"showlegend\":true,\"textposition\":\"auto\",\"x\":[1],\"xaxis\":\"x\",\"y\":[\"Hong Kong\"],\"yaxis\":\"y\",\"type\":\"bar\"},{\"alignmentgroup\":\"True\",\"hovertemplate\":\"color=Bangladesh<br>Innings=%{x}<br>Opposition=%{y}<extra></extra>\",\"legendgroup\":\"Bangladesh\",\"marker\":{\"color\":\"#19d3f3\",\"pattern\":{\"shape\":\"\"},\"line\":{\"color\":\"black\",\"width\":2}},\"name\":\"Bangladesh\",\"offsetgroup\":\"Bangladesh\",\"orientation\":\"h\",\"showlegend\":true,\"textposition\":\"auto\",\"x\":[1],\"xaxis\":\"x\",\"y\":[\"Bangladesh\"],\"yaxis\":\"y\",\"type\":\"bar\"},{\"alignmentgroup\":\"True\",\"hovertemplate\":\"color=England<br>Innings=%{x}<br>Opposition=%{y}<extra></extra>\",\"legendgroup\":\"England\",\"marker\":{\"color\":\"#FF6692\",\"pattern\":{\"shape\":\"\"},\"line\":{\"color\":\"black\",\"width\":2}},\"name\":\"England\",\"offsetgroup\":\"England\",\"orientation\":\"h\",\"showlegend\":true,\"textposition\":\"auto\",\"x\":[1],\"xaxis\":\"x\",\"y\":[\"England\"],\"yaxis\":\"y\",\"type\":\"bar\"}],                        {\"template\":{\"data\":{\"bar\":[{\"error_x\":{\"color\":\"#2a3f5f\"},\"error_y\":{\"color\":\"#2a3f5f\"},\"marker\":{\"line\":{\"color\":\"#E5ECF6\",\"width\":0.5},\"pattern\":{\"fillmode\":\"overlay\",\"size\":10,\"solidity\":0.2}},\"type\":\"bar\"}],\"barpolar\":[{\"marker\":{\"line\":{\"color\":\"#E5ECF6\",\"width\":0.5},\"pattern\":{\"fillmode\":\"overlay\",\"size\":10,\"solidity\":0.2}},\"type\":\"barpolar\"}],\"carpet\":[{\"aaxis\":{\"endlinecolor\":\"#2a3f5f\",\"gridcolor\":\"white\",\"linecolor\":\"white\",\"minorgridcolor\":\"white\",\"startlinecolor\":\"#2a3f5f\"},\"baxis\":{\"endlinecolor\":\"#2a3f5f\",\"gridcolor\":\"white\",\"linecolor\":\"white\",\"minorgridcolor\":\"white\",\"startlinecolor\":\"#2a3f5f\"},\"type\":\"carpet\"}],\"choropleth\":[{\"colorbar\":{\"outlinewidth\":0,\"ticks\":\"\"},\"type\":\"choropleth\"}],\"contour\":[{\"colorbar\":{\"outlinewidth\":0,\"ticks\":\"\"},\"colorscale\":[[0.0,\"#0d0887\"],[0.1111111111111111,\"#46039f\"],[0.2222222222222222,\"#7201a8\"],[0.3333333333333333,\"#9c179e\"],[0.4444444444444444,\"#bd3786\"],[0.5555555555555556,\"#d8576b\"],[0.6666666666666666,\"#ed7953\"],[0.7777777777777778,\"#fb9f3a\"],[0.8888888888888888,\"#fdca26\"],[1.0,\"#f0f921\"]],\"type\":\"contour\"}],\"contourcarpet\":[{\"colorbar\":{\"outlinewidth\":0,\"ticks\":\"\"},\"type\":\"contourcarpet\"}],\"heatmap\":[{\"colorbar\":{\"outlinewidth\":0,\"ticks\":\"\"},\"colorscale\":[[0.0,\"#0d0887\"],[0.1111111111111111,\"#46039f\"],[0.2222222222222222,\"#7201a8\"],[0.3333333333333333,\"#9c179e\"],[0.4444444444444444,\"#bd3786\"],[0.5555555555555556,\"#d8576b\"],[0.6666666666666666,\"#ed7953\"],[0.7777777777777778,\"#fb9f3a\"],[0.8888888888888888,\"#fdca26\"],[1.0,\"#f0f921\"]],\"type\":\"heatmap\"}],\"heatmapgl\":[{\"colorbar\":{\"outlinewidth\":0,\"ticks\":\"\"},\"colorscale\":[[0.0,\"#0d0887\"],[0.1111111111111111,\"#46039f\"],[0.2222222222222222,\"#7201a8\"],[0.3333333333333333,\"#9c179e\"],[0.4444444444444444,\"#bd3786\"],[0.5555555555555556,\"#d8576b\"],[0.6666666666666666,\"#ed7953\"],[0.7777777777777778,\"#fb9f3a\"],[0.8888888888888888,\"#fdca26\"],[1.0,\"#f0f921\"]],\"type\":\"heatmapgl\"}],\"histogram\":[{\"marker\":{\"pattern\":{\"fillmode\":\"overlay\",\"size\":10,\"solidity\":0.2}},\"type\":\"histogram\"}],\"histogram2d\":[{\"colorbar\":{\"outlinewidth\":0,\"ticks\":\"\"},\"colorscale\":[[0.0,\"#0d0887\"],[0.1111111111111111,\"#46039f\"],[0.2222222222222222,\"#7201a8\"],[0.3333333333333333,\"#9c179e\"],[0.4444444444444444,\"#bd3786\"],[0.5555555555555556,\"#d8576b\"],[0.6666666666666666,\"#ed7953\"],[0.7777777777777778,\"#fb9f3a\"],[0.8888888888888888,\"#fdca26\"],[1.0,\"#f0f921\"]],\"type\":\"histogram2d\"}],\"histogram2dcontour\":[{\"colorbar\":{\"outlinewidth\":0,\"ticks\":\"\"},\"colorscale\":[[0.0,\"#0d0887\"],[0.1111111111111111,\"#46039f\"],[0.2222222222222222,\"#7201a8\"],[0.3333333333333333,\"#9c179e\"],[0.4444444444444444,\"#bd3786\"],[0.5555555555555556,\"#d8576b\"],[0.6666666666666666,\"#ed7953\"],[0.7777777777777778,\"#fb9f3a\"],[0.8888888888888888,\"#fdca26\"],[1.0,\"#f0f921\"]],\"type\":\"histogram2dcontour\"}],\"mesh3d\":[{\"colorbar\":{\"outlinewidth\":0,\"ticks\":\"\"},\"type\":\"mesh3d\"}],\"parcoords\":[{\"line\":{\"colorbar\":{\"outlinewidth\":0,\"ticks\":\"\"}},\"type\":\"parcoords\"}],\"pie\":[{\"automargin\":true,\"type\":\"pie\"}],\"scatter\":[{\"marker\":{\"colorbar\":{\"outlinewidth\":0,\"ticks\":\"\"}},\"type\":\"scatter\"}],\"scatter3d\":[{\"line\":{\"colorbar\":{\"outlinewidth\":0,\"ticks\":\"\"}},\"marker\":{\"colorbar\":{\"outlinewidth\":0,\"ticks\":\"\"}},\"type\":\"scatter3d\"}],\"scattercarpet\":[{\"marker\":{\"colorbar\":{\"outlinewidth\":0,\"ticks\":\"\"}},\"type\":\"scattercarpet\"}],\"scattergeo\":[{\"marker\":{\"colorbar\":{\"outlinewidth\":0,\"ticks\":\"\"}},\"type\":\"scattergeo\"}],\"scattergl\":[{\"marker\":{\"colorbar\":{\"outlinewidth\":0,\"ticks\":\"\"}},\"type\":\"scattergl\"}],\"scattermapbox\":[{\"marker\":{\"colorbar\":{\"outlinewidth\":0,\"ticks\":\"\"}},\"type\":\"scattermapbox\"}],\"scatterpolar\":[{\"marker\":{\"colorbar\":{\"outlinewidth\":0,\"ticks\":\"\"}},\"type\":\"scatterpolar\"}],\"scatterpolargl\":[{\"marker\":{\"colorbar\":{\"outlinewidth\":0,\"ticks\":\"\"}},\"type\":\"scatterpolargl\"}],\"scatterternary\":[{\"marker\":{\"colorbar\":{\"outlinewidth\":0,\"ticks\":\"\"}},\"type\":\"scatterternary\"}],\"surface\":[{\"colorbar\":{\"outlinewidth\":0,\"ticks\":\"\"},\"colorscale\":[[0.0,\"#0d0887\"],[0.1111111111111111,\"#46039f\"],[0.2222222222222222,\"#7201a8\"],[0.3333333333333333,\"#9c179e\"],[0.4444444444444444,\"#bd3786\"],[0.5555555555555556,\"#d8576b\"],[0.6666666666666666,\"#ed7953\"],[0.7777777777777778,\"#fb9f3a\"],[0.8888888888888888,\"#fdca26\"],[1.0,\"#f0f921\"]],\"type\":\"surface\"}],\"table\":[{\"cells\":{\"fill\":{\"color\":\"#EBF0F8\"},\"line\":{\"color\":\"white\"}},\"header\":{\"fill\":{\"color\":\"#C8D4E3\"},\"line\":{\"color\":\"white\"}},\"type\":\"table\"}]},\"layout\":{\"annotationdefaults\":{\"arrowcolor\":\"#2a3f5f\",\"arrowhead\":0,\"arrowwidth\":1},\"autotypenumbers\":\"strict\",\"coloraxis\":{\"colorbar\":{\"outlinewidth\":0,\"ticks\":\"\"}},\"colorscale\":{\"diverging\":[[0,\"#8e0152\"],[0.1,\"#c51b7d\"],[0.2,\"#de77ae\"],[0.3,\"#f1b6da\"],[0.4,\"#fde0ef\"],[0.5,\"#f7f7f7\"],[0.6,\"#e6f5d0\"],[0.7,\"#b8e186\"],[0.8,\"#7fbc41\"],[0.9,\"#4d9221\"],[1,\"#276419\"]],\"sequential\":[[0.0,\"#0d0887\"],[0.1111111111111111,\"#46039f\"],[0.2222222222222222,\"#7201a8\"],[0.3333333333333333,\"#9c179e\"],[0.4444444444444444,\"#bd3786\"],[0.5555555555555556,\"#d8576b\"],[0.6666666666666666,\"#ed7953\"],[0.7777777777777778,\"#fb9f3a\"],[0.8888888888888888,\"#fdca26\"],[1.0,\"#f0f921\"]],\"sequentialminus\":[[0.0,\"#0d0887\"],[0.1111111111111111,\"#46039f\"],[0.2222222222222222,\"#7201a8\"],[0.3333333333333333,\"#9c179e\"],[0.4444444444444444,\"#bd3786\"],[0.5555555555555556,\"#d8576b\"],[0.6666666666666666,\"#ed7953\"],[0.7777777777777778,\"#fb9f3a\"],[0.8888888888888888,\"#fdca26\"],[1.0,\"#f0f921\"]]},\"colorway\":[\"#636efa\",\"#EF553B\",\"#00cc96\",\"#ab63fa\",\"#FFA15A\",\"#19d3f3\",\"#FF6692\",\"#B6E880\",\"#FF97FF\",\"#FECB52\"],\"font\":{\"color\":\"#2a3f5f\"},\"geo\":{\"bgcolor\":\"white\",\"lakecolor\":\"white\",\"landcolor\":\"#E5ECF6\",\"showlakes\":true,\"showland\":true,\"subunitcolor\":\"white\"},\"hoverlabel\":{\"align\":\"left\"},\"hovermode\":\"closest\",\"mapbox\":{\"style\":\"light\"},\"paper_bgcolor\":\"white\",\"plot_bgcolor\":\"#E5ECF6\",\"polar\":{\"angularaxis\":{\"gridcolor\":\"white\",\"linecolor\":\"white\",\"ticks\":\"\"},\"bgcolor\":\"#E5ECF6\",\"radialaxis\":{\"gridcolor\":\"white\",\"linecolor\":\"white\",\"ticks\":\"\"}},\"scene\":{\"xaxis\":{\"backgroundcolor\":\"#E5ECF6\",\"gridcolor\":\"white\",\"gridwidth\":2,\"linecolor\":\"white\",\"showbackground\":true,\"ticks\":\"\",\"zerolinecolor\":\"white\"},\"yaxis\":{\"backgroundcolor\":\"#E5ECF6\",\"gridcolor\":\"white\",\"gridwidth\":2,\"linecolor\":\"white\",\"showbackground\":true,\"ticks\":\"\",\"zerolinecolor\":\"white\"},\"zaxis\":{\"backgroundcolor\":\"#E5ECF6\",\"gridcolor\":\"white\",\"gridwidth\":2,\"linecolor\":\"white\",\"showbackground\":true,\"ticks\":\"\",\"zerolinecolor\":\"white\"}},\"shapedefaults\":{\"line\":{\"color\":\"#2a3f5f\"}},\"ternary\":{\"aaxis\":{\"gridcolor\":\"white\",\"linecolor\":\"white\",\"ticks\":\"\"},\"baxis\":{\"gridcolor\":\"white\",\"linecolor\":\"white\",\"ticks\":\"\"},\"bgcolor\":\"#E5ECF6\",\"caxis\":{\"gridcolor\":\"white\",\"linecolor\":\"white\",\"ticks\":\"\"}},\"title\":{\"x\":0.05},\"xaxis\":{\"automargin\":true,\"gridcolor\":\"white\",\"linecolor\":\"white\",\"ticks\":\"\",\"title\":{\"standoff\":15},\"zerolinecolor\":\"white\",\"zerolinewidth\":2},\"yaxis\":{\"automargin\":true,\"gridcolor\":\"white\",\"linecolor\":\"white\",\"ticks\":\"\",\"title\":{\"standoff\":15},\"zerolinecolor\":\"white\",\"zerolinewidth\":2}}},\"xaxis\":{\"anchor\":\"y\",\"domain\":[0.0,1.0],\"title\":{\"text\":\"Innings\"}},\"yaxis\":{\"anchor\":\"x\",\"domain\":[0.0,1.0],\"title\":{\"text\":\"Opposition\"}},\"legend\":{\"title\":{\"text\":\"color\"},\"tracegroupgap\":0},\"title\":{\"text\":\"Number of time Dhoni has Scored Century\"},\"barmode\":\"relative\"},                        {\"responsive\": true}                    ).then(function(){\n",
       "                            \n",
       "var gd = document.getElementById('378f5a3b-2950-42b8-bfe1-c6e89072eb3b');\n",
       "var x = new MutationObserver(function (mutations, observer) {{\n",
       "        var display = window.getComputedStyle(gd).display;\n",
       "        if (!display || display === 'none') {{\n",
       "            console.log([gd, 'removed!']);\n",
       "            Plotly.purge(gd);\n",
       "            observer.disconnect();\n",
       "        }}\n",
       "}});\n",
       "\n",
       "// Listen for the removal of the full notebook cells\n",
       "var notebookContainer = gd.closest('#notebook-container');\n",
       "if (notebookContainer) {{\n",
       "    x.observe(notebookContainer, {childList: true});\n",
       "}}\n",
       "\n",
       "// Listen for the clearing of the current output cell\n",
       "var outputEl = gd.closest('.output');\n",
       "if (outputEl) {{\n",
       "    x.observe(outputEl, {childList: true});\n",
       "}}\n",
       "\n",
       "                        })                };                });            </script>        </div>"
      ]
     },
     "metadata": {},
     "output_type": "display_data"
    }
   ],
   "source": [
    "df = data[data.Runs>=100]\n",
    "\n",
    "value = df.Versus.value_counts().values\n",
    "label = df.Versus.value_counts().index\n",
    "\n",
    "fig = px.bar(data_frame=df, y=label, x=value, title=\"Number of time Dhoni has Scored Century\", \n",
    "       labels={\"x\":\"Innings\", \"y\":\"Opposition\"}, color=label)\n",
    "\n",
    "fig.update_traces(marker=dict(line=dict(color='black', width=2)))\n",
    "fig.show()\n"
   ]
  },
  {
   "cell_type": "code",
   "execution_count": 49,
   "id": "66a2ac56",
   "metadata": {},
   "outputs": [
    {
     "data": {
      "image/png": "[encoded data removed]",
      "text/plain": [
       "<Figure size 720x432 with 1 Axes>"
      ]
     },
     "metadata": {
      "needs_background": "light"
     },
     "output_type": "display_data"
    }
   ],
   "source": [
    "value = data.groupby('Versus')['Runs'].sum().values\n",
    "label = data.groupby('Versus')['Runs'].sum().index\n",
    "\n",
    "plt.figure(figsize=(10, 6))\n",
    "sns.scatterplot(data=df, x=value, y=label)\n",
    "plt.xticks(rotation=90)\n",
    "plt.xlabel('Team')\n",
    "plt.ylabel('Total Runs Against')\n",
    "plt.title('Total Runs Scored Against Each Team')\n",
    "plt.show()"
   ]
  },
  {
   "cell_type": "code",
   "execution_count": 85,
   "id": "9d37e04f",
   "metadata": {},
   "outputs": [
    {
     "data": {
      "application/vnd.plotly.v1+json": {
       "config": {
        "plotlyServerURL": "https://plot.ly"
       },
       "data": [
        {
         "alignmentgroup": "True",
         "hovertemplate": "color=AMI Stadium<br>Total Runs=%{x}<br>Ground=%{y}<extra></extra>",
         "legendgroup": "AMI Stadium",
         "marker": {
          "color": "#636efa",
          "line": {
           "color": "black",
           "width": 2
          },
          "pattern": {
           "shape": ""
          }
         },
         "name": "AMI Stadium",
         "offsetgroup": "AMI Stadium",
         "orientation": "h",
         "showlegend": true,
         "textposition": "auto",
         "type": "bar",
         "x": [
          68
         ],
         "xaxis": "x",
         "y": [
          "AMI Stadium"
         ],
         "yaxis": "y"
        },
        {
         "alignmentgroup": "True",
         "hovertemplate": "color=Adelaide Oval<br>Total Runs=%{x}<br>Ground=%{y}<extra></extra>",
         "legendgroup": "Adelaide Oval",
         "marker": {
          "color": "#EF553B",
          "line": {
           "color": "black",
           "width": 2
          },
          "pattern": {
           "shape": ""
          }
         },
         "name": "Adelaide Oval",
         "offsetgroup": "Adelaide Oval",
         "orientation": "h",
         "showlegend": true,
         "textposition": "auto",
         "type": "bar",
         "x": [
          262
         ],
         "xaxis": "x",
         "y": [
          "Adelaide Oval"
         ],
         "yaxis": "y"
        },
        {
         "alignmentgroup": "True",
         "hovertemplate": "color=Arbab Niaz Stadium<br>Total Runs=%{x}<br>Ground=%{y}<extra></extra>",
         "legendgroup": "Arbab Niaz Stadium",
         "marker": {
          "color": "#00cc96",
          "line": {
           "color": "black",
           "width": 2
          },
          "pattern": {
           "shape": ""
          }
         },
         "name": "Arbab Niaz Stadium",
         "offsetgroup": "Arbab Niaz Stadium",
         "orientation": "h",
         "showlegend": true,
         "textposition": "auto",
         "type": "bar",
         "x": [
          68
         ],
         "xaxis": "x",
         "y": [
          "Arbab Niaz Stadium"
         ],
         "yaxis": "y"
        },
        {
         "alignmentgroup": "True",
         "hovertemplate": "color=Arun Jaitley Stadium<br>Total Runs=%{x}<br>Ground=%{y}<extra></extra>",
         "legendgroup": "Arun Jaitley Stadium",
         "marker": {
          "color": "#ab63fa",
          "line": {
           "color": "black",
           "width": 2
          },
          "pattern": {
           "shape": ""
          }
         },
         "name": "Arun Jaitley Stadium",
         "offsetgroup": "Arun Jaitley Stadium",
         "orientation": "h",
         "showlegend": true,
         "textposition": "auto",
         "type": "bar",
         "x": [
          260
         ],
         "xaxis": "x",
         "y": [
          "Arun Jaitley Stadium"
         ],
         "yaxis": "y"
        },
        {
         "alignmentgroup": "True",
         "hovertemplate": "color=Bangabandhu National Stadium<br>Total Runs=%{x}<br>Ground=%{y}<extra></extra>",
         "legendgroup": "Bangabandhu National Stadium",
         "marker": {
          "color": "#FFA15A",
          "line": {
           "color": "black",
           "width": 2
          },
          "pattern": {
           "shape": ""
          }
         },
         "name": "Bangabandhu National Stadium",
         "offsetgroup": "Bangabandhu National Stadium",
         "orientation": "h",
         "showlegend": true,
         "textposition": "auto",
         "type": "bar",
         "x": [
          19
         ],
         "xaxis": "x",
         "y": [
          "Bangabandhu National Stadium"
         ],
         "yaxis": "y"
        },
        {
         "alignmentgroup": "True",
         "hovertemplate": "color=Barabati Stadium<br>Total Runs=%{x}<br>Ground=%{y}<extra></extra>",
         "legendgroup": "Barabati Stadium",
         "marker": {
          "color": "#19d3f3",
          "line": {
           "color": "black",
           "width": 2
          },
          "pattern": {
           "shape": ""
          }
         },
         "name": "Barabati Stadium",
         "offsetgroup": "Barabati Stadium",
         "orientation": "h",
         "showlegend": true,
         "textposition": "auto",
         "type": "bar",
         "x": [
          190
         ],
         "xaxis": "x",
         "y": [
          "Barabati Stadium"
         ],
         "yaxis": "y"
        },
        {
         "alignmentgroup": "True",
         "hovertemplate": "color=Barsapara Cricket Stadium<br>Total Runs=%{x}<br>Ground=%{y}<extra></extra>",
         "legendgroup": "Barsapara Cricket Stadium",
         "marker": {
          "color": "#FF6692",
          "line": {
           "color": "black",
           "width": 2
          },
          "pattern": {
           "shape": ""
          }
         },
         "name": "Barsapara Cricket Stadium",
         "offsetgroup": "Barsapara Cricket Stadium",
         "orientation": "h",
         "showlegend": true,
         "textposition": "auto",
         "type": "bar",
         "x": [
          0
         ],
         "xaxis": "x",
         "y": [
          "Barsapara Cricket Stadium"
         ],
         "yaxis": "y"
        },
        {
         "alignmentgroup": "True",
         "hovertemplate": "color=Bay Oval<br>Total Runs=%{x}<br>Ground=%{y}<extra></extra>",
         "legendgroup": "Bay Oval",
         "marker": {
          "color": "#B6E880",
          "line": {
           "color": "black",
           "width": 2
          },
          "pattern": {
           "shape": ""
          }
         },
         "name": "Bay Oval",
         "offsetgroup": "Bay Oval",
         "orientation": "h",
         "showlegend": true,
         "textposition": "auto",
         "type": "bar",
         "x": [
          48
         ],
         "xaxis": "x",
         "y": [
          "Bay Oval"
         ],
         "yaxis": "y"
        },
        {
         "alignmentgroup": "True",
         "hovertemplate": "color=Bellerive Oval<br>Total Runs=%{x}<br>Ground=%{y}<extra></extra>",
         "legendgroup": "Bellerive Oval",
         "marker": {
          "color": "#FF97FF",
          "line": {
           "color": "black",
           "width": 2
          },
          "pattern": {
           "shape": ""
          }
         },
         "name": "Bellerive Oval",
         "offsetgroup": "Bellerive Oval",
         "orientation": "h",
         "showlegend": true,
         "textposition": "auto",
         "type": "bar",
         "x": [
          0
         ],
         "xaxis": "x",
         "y": [
          "Bellerive Oval"
         ],
         "yaxis": "y"
        },
        {
         "alignmentgroup": "True",
         "hovertemplate": "color=Brabourne Stadium<br>Total Runs=%{x}<br>Ground=%{y}<extra></extra>",
         "legendgroup": "Brabourne Stadium",
         "marker": {
          "color": "#FECB52",
          "line": {
           "color": "black",
           "width": 2
          },
          "pattern": {
           "shape": ""
          }
         },
         "name": "Brabourne Stadium",
         "offsetgroup": "Brabourne Stadium",
         "orientation": "h",
         "showlegend": true,
         "textposition": "auto",
         "type": "bar",
         "x": [
          23
         ],
         "xaxis": "x",
         "y": [
          "Brabourne Stadium"
         ],
         "yaxis": "y"
        },
        {
         "alignmentgroup": "True",
         "hovertemplate": "color=Brisbane Cricket Ground<br>Total Runs=%{x}<br>Ground=%{y}<extra></extra>",
         "legendgroup": "Brisbane Cricket Ground",
         "marker": {
          "color": "#636efa",
          "line": {
           "color": "black",
           "width": 2
          },
          "pattern": {
           "shape": ""
          }
         },
         "name": "Brisbane Cricket Ground",
         "offsetgroup": "Brisbane Cricket Ground",
         "orientation": "h",
         "showlegend": true,
         "textposition": "auto",
         "type": "bar",
         "x": [
          262
         ],
         "xaxis": "x",
         "y": [
          "Brisbane Cricket Ground"
         ],
         "yaxis": "y"
        },
        {
         "alignmentgroup": "True",
         "hovertemplate": "color=Captain Roop Singh Stadium<br>Total Runs=%{x}<br>Ground=%{y}<extra></extra>",
         "legendgroup": "Captain Roop Singh Stadium",
         "marker": {
          "color": "#EF553B",
          "line": {
           "color": "black",
           "width": 2
          },
          "pattern": {
           "shape": ""
          }
         },
         "name": "Captain Roop Singh Stadium",
         "offsetgroup": "Captain Roop Singh Stadium",
         "orientation": "h",
         "showlegend": true,
         "textposition": "auto",
         "type": "bar",
         "x": [
          113
         ],
         "xaxis": "x",
         "y": [
          "Captain Roop Singh Stadium"
         ],
         "yaxis": "y"
        },
        {
         "alignmentgroup": "True",
         "hovertemplate": "color=Civil Service Cricket Club<br>Total Runs=%{x}<br>Ground=%{y}<extra></extra>",
         "legendgroup": "Civil Service Cricket Club",
         "marker": {
          "color": "#00cc96",
          "line": {
           "color": "black",
           "width": 2
          },
          "pattern": {
           "shape": ""
          }
         },
         "name": "Civil Service Cricket Club",
         "offsetgroup": "Civil Service Cricket Club",
         "orientation": "h",
         "showlegend": true,
         "textposition": "auto",
         "type": "bar",
         "x": [
          14
         ],
         "xaxis": "x",
         "y": [
          "Civil Service Cricket Club"
         ],
         "yaxis": "y"
        },
        {
         "alignmentgroup": "True",
         "hovertemplate": "color=County Ground (Bristol)<br>Total Runs=%{x}<br>Ground=%{y}<extra></extra>",
         "legendgroup": "County Ground (Bristol)",
         "marker": {
          "color": "#ab63fa",
          "line": {
           "color": "black",
           "width": 2
          },
          "pattern": {
           "shape": ""
          }
         },
         "name": "County Ground (Bristol)",
         "offsetgroup": "County Ground (Bristol)",
         "orientation": "h",
         "showlegend": true,
         "textposition": "auto",
         "type": "bar",
         "x": [
          21
         ],
         "xaxis": "x",
         "y": [
          "County Ground (Bristol)"
         ],
         "yaxis": "y"
        },
        {
         "alignmentgroup": "True",
         "hovertemplate": "color=Darren Sammy National Cricket Stadium<br>Total Runs=%{x}<br>Ground=%{y}<extra></extra>",
         "legendgroup": "Darren Sammy National Cricket Stadium",
         "marker": {
          "color": "#FFA15A",
          "line": {
           "color": "black",
           "width": 2
          },
          "pattern": {
           "shape": ""
          }
         },
         "name": "Darren Sammy National Cricket Stadium",
         "offsetgroup": "Darren Sammy National Cricket Stadium",
         "orientation": "h",
         "showlegend": true,
         "textposition": "auto",
         "type": "bar",
         "x": [
          46
         ],
         "xaxis": "x",
         "y": [
          "Darren Sammy National Cricket Stadium"
         ],
         "yaxis": "y"
        },
        {
         "alignmentgroup": "True",
         "hovertemplate": "color=Dr YS Rajasekhara Reddy Cricket Stadium<br>Total Runs=%{x}<br>Ground=%{y}<extra></extra>",
         "legendgroup": "Dr YS Rajasekhara Reddy Cricket Stadium",
         "marker": {
          "color": "#19d3f3",
          "line": {
           "color": "black",
           "width": 2
          },
          "pattern": {
           "shape": ""
          }
         },
         "name": "Dr YS Rajasekhara Reddy Cricket Stadium",
         "offsetgroup": "Dr YS Rajasekhara Reddy Cricket Stadium",
         "orientation": "h",
         "showlegend": true,
         "textposition": "auto",
         "type": "bar",
         "x": [
          260
         ],
         "xaxis": "x",
         "y": [
          "Dr YS Rajasekhara Reddy Cricket Stadium"
         ],
         "yaxis": "y"
        },
        {
         "alignmentgroup": "True",
         "hovertemplate": "color=Dubai International Cricket Stadium<br>Total Runs=%{x}<br>Ground=%{y}<extra></extra>",
         "legendgroup": "Dubai International Cricket Stadium",
         "marker": {
          "color": "#FF6692",
          "line": {
           "color": "black",
           "width": 2
          },
          "pattern": {
           "shape": ""
          }
         },
         "name": "Dubai International Cricket Stadium",
         "offsetgroup": "Dubai International Cricket Stadium",
         "orientation": "h",
         "showlegend": true,
         "textposition": "auto",
         "type": "bar",
         "x": [
          77
         ],
         "xaxis": "x",
         "y": [
          "Dubai International Cricket Stadium"
         ],
         "yaxis": "y"
        },
        {
         "alignmentgroup": "True",
         "hovertemplate": "color=Eden Gardens<br>Total Runs=%{x}<br>Ground=%{y}<extra></extra>",
         "legendgroup": "Eden Gardens",
         "marker": {
          "color": "#B6E880",
          "line": {
           "color": "black",
           "width": 2
          },
          "pattern": {
           "shape": ""
          }
         },
         "name": "Eden Gardens",
         "offsetgroup": "Eden Gardens",
         "orientation": "h",
         "showlegend": true,
         "textposition": "auto",
         "type": "bar",
         "x": [
          173
         ],
         "xaxis": "x",
         "y": [
          "Eden Gardens"
         ],
         "yaxis": "y"
        },
        {
         "alignmentgroup": "True",
         "hovertemplate": "color=Eden Park<br>Total Runs=%{x}<br>Ground=%{y}<extra></extra>",
         "legendgroup": "Eden Park",
         "marker": {
          "color": "#FF97FF",
          "line": {
           "color": "black",
           "width": 2
          },
          "pattern": {
           "shape": ""
          }
         },
         "name": "Eden Park",
         "offsetgroup": "Eden Park",
         "orientation": "h",
         "showlegend": true,
         "textposition": "auto",
         "type": "bar",
         "x": [
          144
         ],
         "xaxis": "x",
         "y": [
          "Eden Park"
         ],
         "yaxis": "y"
        },
        {
         "alignmentgroup": "True",
         "hovertemplate": "color=Edgbaston<br>Total Runs=%{x}<br>Ground=%{y}<extra></extra>",
         "legendgroup": "Edgbaston",
         "marker": {
          "color": "#FECB52",
          "line": {
           "color": "black",
           "width": 2
          },
          "pattern": {
           "shape": ""
          }
         },
         "name": "Edgbaston",
         "offsetgroup": "Edgbaston",
         "orientation": "h",
         "showlegend": true,
         "textposition": "auto",
         "type": "bar",
         "x": [
          90
         ],
         "xaxis": "x",
         "y": [
          "Edgbaston"
         ],
         "yaxis": "y"
        },
        {
         "alignmentgroup": "True",
         "hovertemplate": "color=Gaddafi Stadium<br>Total Runs=%{x}<br>Ground=%{y}<extra></extra>",
         "legendgroup": "Gaddafi Stadium",
         "marker": {
          "color": "#636efa",
          "line": {
           "color": "black",
           "width": 2
          },
          "pattern": {
           "shape": ""
          }
         },
         "name": "Gaddafi Stadium",
         "offsetgroup": "Gaddafi Stadium",
         "orientation": "h",
         "showlegend": true,
         "textposition": "auto",
         "type": "bar",
         "x": [
          72
         ],
         "xaxis": "x",
         "y": [
          "Gaddafi Stadium"
         ],
         "yaxis": "y"
        },
        {
         "alignmentgroup": "True",
         "hovertemplate": "color=Green Park<br>Total Runs=%{x}<br>Ground=%{y}<extra></extra>",
         "legendgroup": "Green Park",
         "marker": {
          "color": "#EF553B",
          "line": {
           "color": "black",
           "width": 2
          },
          "pattern": {
           "shape": ""
          }
         },
         "name": "Green Park",
         "offsetgroup": "Green Park",
         "orientation": "h",
         "showlegend": true,
         "textposition": "auto",
         "type": "bar",
         "x": [
          168
         ],
         "xaxis": "x",
         "y": [
          "Green Park"
         ],
         "yaxis": "y"
        },
        {
         "alignmentgroup": "True",
         "hovertemplate": "color=Greenfield International Stadium<br>Total Runs=%{x}<br>Ground=%{y}<extra></extra>",
         "legendgroup": "Greenfield International Stadium",
         "marker": {
          "color": "#00cc96",
          "line": {
           "color": "black",
           "width": 2
          },
          "pattern": {
           "shape": ""
          }
         },
         "name": "Greenfield International Stadium",
         "offsetgroup": "Greenfield International Stadium",
         "orientation": "h",
         "showlegend": true,
         "textposition": "auto",
         "type": "bar",
         "x": [
          0
         ],
         "xaxis": "x",
         "y": [
          "Greenfield International Stadium"
         ],
         "yaxis": "y"
        },
        {
         "alignmentgroup": "True",
         "hovertemplate": "color=Harare Sports Club<br>Total Runs=%{x}<br>Ground=%{y}<extra></extra>",
         "legendgroup": "Harare Sports Club",
         "marker": {
          "color": "#ab63fa",
          "line": {
           "color": "black",
           "width": 2
          },
          "pattern": {
           "shape": ""
          }
         },
         "name": "Harare Sports Club",
         "offsetgroup": "Harare Sports Club",
         "orientation": "h",
         "showlegend": true,
         "textposition": "auto",
         "type": "bar",
         "x": [
          171
         ],
         "xaxis": "x",
         "y": [
          "Harare Sports Club"
         ],
         "yaxis": "y"
        },
        {
         "alignmentgroup": "True",
         "hovertemplate": "color=Headingley<br>Total Runs=%{x}<br>Ground=%{y}<extra></extra>",
         "legendgroup": "Headingley",
         "marker": {
          "color": "#FFA15A",
          "line": {
           "color": "black",
           "width": 2
          },
          "pattern": {
           "shape": ""
          }
         },
         "name": "Headingley",
         "offsetgroup": "Headingley",
         "orientation": "h",
         "showlegend": true,
         "textposition": "auto",
         "type": "bar",
         "x": [
          95
         ],
         "xaxis": "x",
         "y": [
          "Headingley"
         ],
         "yaxis": "y"
        },
        {
         "alignmentgroup": "True",
         "hovertemplate": "color=Himachal Pradesh Cricket Association Stadium<br>Total Runs=%{x}<br>Ground=%{y}<extra></extra>",
         "legendgroup": "Himachal Pradesh Cricket Association Stadium",
         "marker": {
          "color": "#19d3f3",
          "line": {
           "color": "black",
           "width": 2
          },
          "pattern": {
           "shape": ""
          }
         },
         "name": "Himachal Pradesh Cricket Association Stadium",
         "offsetgroup": "Himachal Pradesh Cricket Association Stadium",
         "orientation": "h",
         "showlegend": true,
         "textposition": "auto",
         "type": "bar",
         "x": [
          107
         ],
         "xaxis": "x",
         "y": [
          "Himachal Pradesh Cricket Association Stadium"
         ],
         "yaxis": "y"
        },
        {
         "alignmentgroup": "True",
         "hovertemplate": "color=Holkar Cricket Stadium<br>Total Runs=%{x}<br>Ground=%{y}<extra></extra>",
         "legendgroup": "Holkar Cricket Stadium",
         "marker": {
          "color": "#FF6692",
          "line": {
           "color": "black",
           "width": 2
          },
          "pattern": {
           "shape": ""
          }
         },
         "name": "Holkar Cricket Stadium",
         "offsetgroup": "Holkar Cricket Stadium",
         "orientation": "h",
         "showlegend": true,
         "textposition": "auto",
         "type": "bar",
         "x": [
          110
         ],
         "xaxis": "x",
         "y": [
          "Holkar Cricket Stadium"
         ],
         "yaxis": "y"
        },
        {
         "alignmentgroup": "True",
         "hovertemplate": "color=JSCA International Stadium Complex<br>Total Runs=%{x}<br>Ground=%{y}<extra></extra>",
         "legendgroup": "JSCA International Stadium Complex",
         "marker": {
          "color": "#B6E880",
          "line": {
           "color": "black",
           "width": 2
          },
          "pattern": {
           "shape": ""
          }
         },
         "name": "JSCA International Stadium Complex",
         "offsetgroup": "JSCA International Stadium Complex",
         "orientation": "h",
         "showlegend": true,
         "textposition": "auto",
         "type": "bar",
         "x": [
          47
         ],
         "xaxis": "x",
         "y": [
          "JSCA International Stadium Complex"
         ],
         "yaxis": "y"
        },
        {
         "alignmentgroup": "True",
         "hovertemplate": "color=Keenan Stadium<br>Total Runs=%{x}<br>Ground=%{y}<extra></extra>",
         "legendgroup": "Keenan Stadium",
         "marker": {
          "color": "#FF97FF",
          "line": {
           "color": "black",
           "width": 2
          },
          "pattern": {
           "shape": ""
          }
         },
         "name": "Keenan Stadium",
         "offsetgroup": "Keenan Stadium",
         "orientation": "h",
         "showlegend": true,
         "textposition": "auto",
         "type": "bar",
         "x": [
          124
         ],
         "xaxis": "x",
         "y": [
          "Keenan Stadium"
         ],
         "yaxis": "y"
        },
        {
         "alignmentgroup": "True",
         "hovertemplate": "color=Kennington Oval<br>Total Runs=%{x}<br>Ground=%{y}<extra></extra>",
         "legendgroup": "Kennington Oval",
         "marker": {
          "color": "#FECB52",
          "line": {
           "color": "black",
           "width": 2
          },
          "pattern": {
           "shape": ""
          }
         },
         "name": "Kennington Oval",
         "offsetgroup": "Kennington Oval",
         "orientation": "h",
         "showlegend": true,
         "textposition": "auto",
         "type": "bar",
         "x": [
          198
         ],
         "xaxis": "x",
         "y": [
          "Kennington Oval"
         ],
         "yaxis": "y"
        },
        {
         "alignmentgroup": "True",
         "hovertemplate": "color=Kingsmead<br>Total Runs=%{x}<br>Ground=%{y}<extra></extra>",
         "legendgroup": "Kingsmead",
         "marker": {
          "color": "#636efa",
          "line": {
           "color": "black",
           "width": 2
          },
          "pattern": {
           "shape": ""
          }
         },
         "name": "Kingsmead",
         "offsetgroup": "Kingsmead",
         "orientation": "h",
         "showlegend": true,
         "textposition": "auto",
         "type": "bar",
         "x": [
          62
         ],
         "xaxis": "x",
         "y": [
          "Kingsmead"
         ],
         "yaxis": "y"
        },
        {
         "alignmentgroup": "True",
         "hovertemplate": "color=Kinrara Academy Oval<br>Total Runs=%{x}<br>Ground=%{y}<extra></extra>",
         "legendgroup": "Kinrara Academy Oval",
         "marker": {
          "color": "#EF553B",
          "line": {
           "color": "black",
           "width": 2
          },
          "pattern": {
           "shape": ""
          }
         },
         "name": "Kinrara Academy Oval",
         "offsetgroup": "Kinrara Academy Oval",
         "orientation": "h",
         "showlegend": true,
         "textposition": "auto",
         "type": "bar",
         "x": [
          43
         ],
         "xaxis": "x",
         "y": [
          "Kinrara Academy Oval"
         ],
         "yaxis": "y"
        },
        {
         "alignmentgroup": "True",
         "hovertemplate": "color=Lord's<br>Total Runs=%{x}<br>Ground=%{y}<extra></extra>",
         "legendgroup": "Lord's",
         "marker": {
          "color": "#00cc96",
          "line": {
           "color": "black",
           "width": 2
          },
          "pattern": {
           "shape": ""
          }
         },
         "name": "Lord's",
         "offsetgroup": "Lord's",
         "orientation": "h",
         "showlegend": true,
         "textposition": "auto",
         "type": "bar",
         "x": [
          165
         ],
         "xaxis": "x",
         "y": [
          "Lord's"
         ],
         "yaxis": "y"
        },
        {
         "alignmentgroup": "True",
         "hovertemplate": "color=M Chinnaswamy Stadium<br>Total Runs=%{x}<br>Ground=%{y}<extra></extra>",
         "legendgroup": "M Chinnaswamy Stadium",
         "marker": {
          "color": "#ab63fa",
          "line": {
           "color": "black",
           "width": 2
          },
          "pattern": {
           "shape": ""
          }
         },
         "name": "M Chinnaswamy Stadium",
         "offsetgroup": "M Chinnaswamy Stadium",
         "orientation": "h",
         "showlegend": true,
         "textposition": "auto",
         "type": "bar",
         "x": [
          151
         ],
         "xaxis": "x",
         "y": [
          "M Chinnaswamy Stadium"
         ],
         "yaxis": "y"
        },
        {
         "alignmentgroup": "True",
         "hovertemplate": "color=MA Aziz Stadium<br>Total Runs=%{x}<br>Ground=%{y}<extra></extra>",
         "legendgroup": "MA Aziz Stadium",
         "marker": {
          "color": "#FFA15A",
          "line": {
           "color": "black",
           "width": 2
          },
          "pattern": {
           "shape": ""
          }
         },
         "name": "MA Aziz Stadium",
         "offsetgroup": "MA Aziz Stadium",
         "orientation": "h",
         "showlegend": true,
         "textposition": "auto",
         "type": "bar",
         "x": [
          0
         ],
         "xaxis": "x",
         "y": [
          "MA Aziz Stadium"
         ],
         "yaxis": "y"
        },
        {
         "alignmentgroup": "True",
         "hovertemplate": "color=MA Chidambaram Stadium<br>Total Runs=%{x}<br>Ground=%{y}<extra></extra>",
         "legendgroup": "MA Chidambaram Stadium",
         "marker": {
          "color": "#19d3f3",
          "line": {
           "color": "black",
           "width": 2
          },
          "pattern": {
           "shape": ""
          }
         },
         "name": "MA Chidambaram Stadium",
         "offsetgroup": "MA Chidambaram Stadium",
         "orientation": "h",
         "showlegend": true,
         "textposition": "auto",
         "type": "bar",
         "x": [
          401
         ],
         "xaxis": "x",
         "y": [
          "MA Chidambaram Stadium"
         ],
         "yaxis": "y"
        },
        {
         "alignmentgroup": "True",
         "hovertemplate": "color=Madhavrao Scindia Cricket Ground<br>Total Runs=%{x}<br>Ground=%{y}<extra></extra>",
         "legendgroup": "Madhavrao Scindia Cricket Ground",
         "marker": {
          "color": "#FF6692",
          "line": {
           "color": "black",
           "width": 2
          },
          "pattern": {
           "shape": ""
          }
         },
         "name": "Madhavrao Scindia Cricket Ground",
         "offsetgroup": "Madhavrao Scindia Cricket Ground",
         "orientation": "h",
         "showlegend": true,
         "textposition": "auto",
         "type": "bar",
         "x": [
          159
         ],
         "xaxis": "x",
         "y": [
          "Madhavrao Scindia Cricket Ground"
         ],
         "yaxis": "y"
        },
        {
         "alignmentgroup": "True",
         "hovertemplate": "color=Maharashtra Cricket Association Stadium<br>Total Runs=%{x}<br>Ground=%{y}<extra></extra>",
         "legendgroup": "Maharashtra Cricket Association Stadium",
         "marker": {
          "color": "#B6E880",
          "line": {
           "color": "black",
           "width": 2
          },
          "pattern": {
           "shape": ""
          }
         },
         "name": "Maharashtra Cricket Association Stadium",
         "offsetgroup": "Maharashtra Cricket Association Stadium",
         "orientation": "h",
         "showlegend": true,
         "textposition": "auto",
         "type": "bar",
         "x": [
          50
         ],
         "xaxis": "x",
         "y": [
          "Maharashtra Cricket Association Stadium"
         ],
         "yaxis": "y"
        },
        {
         "alignmentgroup": "True",
         "hovertemplate": "color=Mahinda Rajapaksha International Cricket Stadium<br>Total Runs=%{x}<br>Ground=%{y}<extra></extra>",
         "legendgroup": "Mahinda Rajapaksha International Cricket Stadium",
         "marker": {
          "color": "#FF97FF",
          "line": {
           "color": "black",
           "width": 2
          },
          "pattern": {
           "shape": ""
          }
         },
         "name": "Mahinda Rajapaksha International Cricket Stadium",
         "offsetgroup": "Mahinda Rajapaksha International Cricket Stadium",
         "orientation": "h",
         "showlegend": true,
         "textposition": "auto",
         "type": "bar",
         "x": [
          46
         ],
         "xaxis": "x",
         "y": [
          "Mahinda Rajapaksha International Cricket Stadium"
         ],
         "yaxis": "y"
        },
        {
         "alignmentgroup": "True",
         "hovertemplate": "color=Manuka Oval<br>Total Runs=%{x}<br>Ground=%{y}<extra></extra>",
         "legendgroup": "Manuka Oval",
         "marker": {
          "color": "#FECB52",
          "line": {
           "color": "black",
           "width": 2
          },
          "pattern": {
           "shape": ""
          }
         },
         "name": "Manuka Oval",
         "offsetgroup": "Manuka Oval",
         "orientation": "h",
         "showlegend": true,
         "textposition": "auto",
         "type": "bar",
         "x": [
          31
         ],
         "xaxis": "x",
         "y": [
          "Manuka Oval"
         ],
         "yaxis": "y"
        },
        {
         "alignmentgroup": "True",
         "hovertemplate": "color=McLean Park<br>Total Runs=%{x}<br>Ground=%{y}<extra></extra>",
         "legendgroup": "McLean Park",
         "marker": {
          "color": "#636efa",
          "line": {
           "color": "black",
           "width": 2
          },
          "pattern": {
           "shape": ""
          }
         },
         "name": "McLean Park",
         "offsetgroup": "McLean Park",
         "orientation": "h",
         "showlegend": true,
         "textposition": "auto",
         "type": "bar",
         "x": [
          124
         ],
         "xaxis": "x",
         "y": [
          "McLean Park"
         ],
         "yaxis": "y"
        },
        {
         "alignmentgroup": "True",
         "hovertemplate": "color=Melbourne Cricket Ground<br>Total Runs=%{x}<br>Ground=%{y}<extra></extra>",
         "legendgroup": "Melbourne Cricket Ground",
         "marker": {
          "color": "#EF553B",
          "line": {
           "color": "black",
           "width": 2
          },
          "pattern": {
           "shape": ""
          }
         },
         "name": "Melbourne Cricket Ground",
         "offsetgroup": "Melbourne Cricket Ground",
         "orientation": "h",
         "showlegend": true,
         "textposition": "auto",
         "type": "bar",
         "x": [
          199
         ],
         "xaxis": "x",
         "y": [
          "Melbourne Cricket Ground"
         ],
         "yaxis": "y"
        },
        {
         "alignmentgroup": "True",
         "hovertemplate": "color=Multan Cricket Stadium<br>Total Runs=%{x}<br>Ground=%{y}<extra></extra>",
         "legendgroup": "Multan Cricket Stadium",
         "marker": {
          "color": "#00cc96",
          "line": {
           "color": "black",
           "width": 2
          },
          "pattern": {
           "shape": ""
          }
         },
         "name": "Multan Cricket Stadium",
         "offsetgroup": "Multan Cricket Stadium",
         "orientation": "h",
         "showlegend": true,
         "textposition": "auto",
         "type": "bar",
         "x": [
          2
         ],
         "xaxis": "x",
         "y": [
          "Multan Cricket Stadium"
         ],
         "yaxis": "y"
        },
        {
         "alignmentgroup": "True",
         "hovertemplate": "color=Nahar Singh Stadium<br>Total Runs=%{x}<br>Ground=%{y}<extra></extra>",
         "legendgroup": "Nahar Singh Stadium",
         "marker": {
          "color": "#ab63fa",
          "line": {
           "color": "black",
           "width": 2
          },
          "pattern": {
           "shape": ""
          }
         },
         "name": "Nahar Singh Stadium",
         "offsetgroup": "Nahar Singh Stadium",
         "orientation": "h",
         "showlegend": true,
         "textposition": "auto",
         "type": "bar",
         "x": [
          38
         ],
         "xaxis": "x",
         "y": [
          "Nahar Singh Stadium"
         ],
         "yaxis": "y"
        },
        {
         "alignmentgroup": "True",
         "hovertemplate": "color=National Stadium (Karachi)<br>Total Runs=%{x}<br>Ground=%{y}<extra></extra>",
         "legendgroup": "National Stadium (Karachi)",
         "marker": {
          "color": "#FFA15A",
          "line": {
           "color": "black",
           "width": 2
          },
          "pattern": {
           "shape": ""
          }
         },
         "name": "National Stadium (Karachi)",
         "offsetgroup": "National Stadium (Karachi)",
         "orientation": "h",
         "showlegend": true,
         "textposition": "auto",
         "type": "bar",
         "x": [
          404
         ],
         "xaxis": "x",
         "y": [
          "National Stadium (Karachi)"
         ],
         "yaxis": "y"
        },
        {
         "alignmentgroup": "True",
         "hovertemplate": "color=Nehru Stadium (Guwahati)<br>Total Runs=%{x}<br>Ground=%{y}<extra></extra>",
         "legendgroup": "Nehru Stadium (Guwahati)",
         "marker": {
          "color": "#19d3f3",
          "line": {
           "color": "black",
           "width": 2
          },
          "pattern": {
           "shape": ""
          }
         },
         "name": "Nehru Stadium (Guwahati)",
         "offsetgroup": "Nehru Stadium (Guwahati)",
         "orientation": "h",
         "showlegend": true,
         "textposition": "auto",
         "type": "bar",
         "x": [
          87
         ],
         "xaxis": "x",
         "y": [
          "Nehru Stadium (Guwahati)"
         ],
         "yaxis": "y"
        },
        {
         "alignmentgroup": "True",
         "hovertemplate": "color=Nehru Stadium (Kochi)<br>Total Runs=%{x}<br>Ground=%{y}<extra></extra>",
         "legendgroup": "Nehru Stadium (Kochi)",
         "marker": {
          "color": "#FF6692",
          "line": {
           "color": "black",
           "width": 2
          },
          "pattern": {
           "shape": ""
          }
         },
         "name": "Nehru Stadium (Kochi)",
         "offsetgroup": "Nehru Stadium (Kochi)",
         "orientation": "h",
         "showlegend": true,
         "textposition": "auto",
         "type": "bar",
         "x": [
          164
         ],
         "xaxis": "x",
         "y": [
          "Nehru Stadium (Kochi)"
         ],
         "yaxis": "y"
        },
        {
         "alignmentgroup": "True",
         "hovertemplate": "color=Nehru Stadium (Margao)<br>Total Runs=%{x}<br>Ground=%{y}<extra></extra>",
         "legendgroup": "Nehru Stadium (Margao)",
         "marker": {
          "color": "#B6E880",
          "line": {
           "color": "black",
           "width": 2
          },
          "pattern": {
           "shape": ""
          }
         },
         "name": "Nehru Stadium (Margao)",
         "offsetgroup": "Nehru Stadium (Margao)",
         "orientation": "h",
         "showlegend": true,
         "textposition": "auto",
         "type": "bar",
         "x": [
          80
         ],
         "xaxis": "x",
         "y": [
          "Nehru Stadium (Margao)"
         ],
         "yaxis": "y"
        },
        {
         "alignmentgroup": "True",
         "hovertemplate": "color=Nehru Stadium (Pune)<br>Total Runs=%{x}<br>Ground=%{y}<extra></extra>",
         "legendgroup": "Nehru Stadium (Pune)",
         "marker": {
          "color": "#FF97FF",
          "line": {
           "color": "black",
           "width": 2
          },
          "pattern": {
           "shape": ""
          }
         },
         "name": "Nehru Stadium (Pune)",
         "offsetgroup": "Nehru Stadium (Pune)",
         "orientation": "h",
         "showlegend": true,
         "textposition": "auto",
         "type": "bar",
         "x": [
          45
         ],
         "xaxis": "x",
         "y": [
          "Nehru Stadium (Pune)"
         ],
         "yaxis": "y"
        },
        {
         "alignmentgroup": "True",
         "hovertemplate": "color=Newlands<br>Total Runs=%{x}<br>Ground=%{y}<extra></extra>",
         "legendgroup": "Newlands",
         "marker": {
          "color": "#FECB52",
          "line": {
           "color": "black",
           "width": 2
          },
          "pattern": {
           "shape": ""
          }
         },
         "name": "Newlands",
         "offsetgroup": "Newlands",
         "orientation": "h",
         "showlegend": true,
         "textposition": "auto",
         "type": "bar",
         "x": [
          70
         ],
         "xaxis": "x",
         "y": [
          "Newlands"
         ],
         "yaxis": "y"
        },
        {
         "alignmentgroup": "True",
         "hovertemplate": "color=Old Trafford<br>Total Runs=%{x}<br>Ground=%{y}<extra></extra>",
         "legendgroup": "Old Trafford",
         "marker": {
          "color": "#636efa",
          "line": {
           "color": "black",
           "width": 2
          },
          "pattern": {
           "shape": ""
          }
         },
         "name": "Old Trafford",
         "offsetgroup": "Old Trafford",
         "orientation": "h",
         "showlegend": true,
         "textposition": "auto",
         "type": "bar",
         "x": [
          120
         ],
         "xaxis": "x",
         "y": [
          "Old Trafford"
         ],
         "yaxis": "y"
        },
        {
         "alignmentgroup": "True",
         "hovertemplate": "color=Pallekele International Cricket Stadium<br>Total Runs=%{x}<br>Ground=%{y}<extra></extra>",
         "legendgroup": "Pallekele International Cricket Stadium",
         "marker": {
          "color": "#EF553B",
          "line": {
           "color": "black",
           "width": 2
          },
          "pattern": {
           "shape": ""
          }
         },
         "name": "Pallekele International Cricket Stadium",
         "offsetgroup": "Pallekele International Cricket Stadium",
         "orientation": "h",
         "showlegend": true,
         "textposition": "auto",
         "type": "bar",
         "x": [
          170
         ],
         "xaxis": "x",
         "y": [
          "Pallekele International Cricket Stadium"
         ],
         "yaxis": "y"
        },
        {
         "alignmentgroup": "True",
         "hovertemplate": "color=Punjab Cricket Association IS Bindra Stadium<br>Total Runs=%{x}<br>Ground=%{y}<extra></extra>",
         "legendgroup": "Punjab Cricket Association IS Bindra Stadium",
         "marker": {
          "color": "#00cc96",
          "line": {
           "color": "black",
           "width": 2
          },
          "pattern": {
           "shape": ""
          }
         },
         "name": "Punjab Cricket Association IS Bindra Stadium",
         "offsetgroup": "Punjab Cricket Association IS Bindra Stadium",
         "orientation": "h",
         "showlegend": true,
         "textposition": "auto",
         "type": "bar",
         "x": [
          363
         ],
         "xaxis": "x",
         "y": [
          "Punjab Cricket Association IS Bindra Stadium"
         ],
         "yaxis": "y"
        },
        {
         "alignmentgroup": "True",
         "hovertemplate": "color=Queen's Park Oval<br>Total Runs=%{x}<br>Ground=%{y}<extra></extra>",
         "legendgroup": "Queen's Park Oval",
         "marker": {
          "color": "#ab63fa",
          "line": {
           "color": "black",
           "width": 2
          },
          "pattern": {
           "shape": ""
          }
         },
         "name": "Queen's Park Oval",
         "offsetgroup": "Queen's Park Oval",
         "orientation": "h",
         "showlegend": true,
         "textposition": "auto",
         "type": "bar",
         "x": [
          156
         ],
         "xaxis": "x",
         "y": [
          "Queen's Park Oval"
         ],
         "yaxis": "y"
        },
        {
         "alignmentgroup": "True",
         "hovertemplate": "color=Queens Sports Club<br>Total Runs=%{x}<br>Ground=%{y}<extra></extra>",
         "legendgroup": "Queens Sports Club",
         "marker": {
          "color": "#FFA15A",
          "line": {
           "color": "black",
           "width": 2
          },
          "pattern": {
           "shape": ""
          }
         },
         "name": "Queens Sports Club",
         "offsetgroup": "Queens Sports Club",
         "orientation": "h",
         "showlegend": true,
         "textposition": "auto",
         "type": "bar",
         "x": [
          2
         ],
         "xaxis": "x",
         "y": [
          "Queens Sports Club"
         ],
         "yaxis": "y"
        },
        {
         "alignmentgroup": "True",
         "hovertemplate": "color=R Premadasa Stadium<br>Total Runs=%{x}<br>Ground=%{y}<extra></extra>",
         "legendgroup": "R Premadasa Stadium",
         "marker": {
          "color": "#19d3f3",
          "line": {
           "color": "black",
           "width": 2
          },
          "pattern": {
           "shape": ""
          }
         },
         "name": "R Premadasa Stadium",
         "offsetgroup": "R Premadasa Stadium",
         "orientation": "h",
         "showlegend": true,
         "textposition": "auto",
         "type": "bar",
         "x": [
          568
         ],
         "xaxis": "x",
         "y": [
          "R Premadasa Stadium"
         ],
         "yaxis": "y"
        },
        {
         "alignmentgroup": "True",
         "hovertemplate": "color=Rajiv Gandhi International Stadium<br>Total Runs=%{x}<br>Ground=%{y}<extra></extra>",
         "legendgroup": "Rajiv Gandhi International Stadium",
         "marker": {
          "color": "#FF6692",
          "line": {
           "color": "black",
           "width": 2
          },
          "pattern": {
           "shape": ""
          }
         },
         "name": "Rajiv Gandhi International Stadium",
         "offsetgroup": "Rajiv Gandhi International Stadium",
         "orientation": "h",
         "showlegend": true,
         "textposition": "auto",
         "type": "bar",
         "x": [
          202
         ],
         "xaxis": "x",
         "y": [
          "Rajiv Gandhi International Stadium"
         ],
         "yaxis": "y"
        },
        {
         "alignmentgroup": "True",
         "hovertemplate": "color=Rangiri Dambulla International Stadium<br>Total Runs=%{x}<br>Ground=%{y}<extra></extra>",
         "legendgroup": "Rangiri Dambulla International Stadium",
         "marker": {
          "color": "#B6E880",
          "line": {
           "color": "black",
           "width": 2
          },
          "pattern": {
           "shape": ""
          }
         },
         "name": "Rangiri Dambulla International Stadium",
         "offsetgroup": "Rangiri Dambulla International Stadium",
         "orientation": "h",
         "showlegend": true,
         "textposition": "auto",
         "type": "bar",
         "x": [
          456
         ],
         "xaxis": "x",
         "y": [
          "Rangiri Dambulla International Stadium"
         ],
         "yaxis": "y"
        },
        {
         "alignmentgroup": "True",
         "hovertemplate": "color=Rawalpindi Cricket Stadium<br>Total Runs=%{x}<br>Ground=%{y}<extra></extra>",
         "legendgroup": "Rawalpindi Cricket Stadium",
         "marker": {
          "color": "#FF97FF",
          "line": {
           "color": "black",
           "width": 2
          },
          "pattern": {
           "shape": ""
          }
         },
         "name": "Rawalpindi Cricket Stadium",
         "offsetgroup": "Rawalpindi Cricket Stadium",
         "orientation": "h",
         "showlegend": true,
         "textposition": "auto",
         "type": "bar",
         "x": [
          0
         ],
         "xaxis": "x",
         "y": [
          "Rawalpindi Cricket Stadium"
         ],
         "yaxis": "y"
        },
        {
         "alignmentgroup": "True",
         "hovertemplate": "color=Reliance Stadium<br>Total Runs=%{x}<br>Ground=%{y}<extra></extra>",
         "legendgroup": "Reliance Stadium",
         "marker": {
          "color": "#FECB52",
          "line": {
           "color": "black",
           "width": 2
          },
          "pattern": {
           "shape": ""
          }
         },
         "name": "Reliance Stadium",
         "offsetgroup": "Reliance Stadium",
         "orientation": "h",
         "showlegend": true,
         "textposition": "auto",
         "type": "bar",
         "x": [
          158
         ],
         "xaxis": "x",
         "y": [
          "Reliance Stadium"
         ],
         "yaxis": "y"
        },
        {
         "alignmentgroup": "True",
         "hovertemplate": "color=Riverside Ground<br>Total Runs=%{x}<br>Ground=%{y}<extra></extra>",
         "legendgroup": "Riverside Ground",
         "marker": {
          "color": "#636efa",
          "line": {
           "color": "black",
           "width": 2
          },
          "pattern": {
           "shape": ""
          }
         },
         "name": "Riverside Ground",
         "offsetgroup": "Riverside Ground",
         "orientation": "h",
         "showlegend": true,
         "textposition": "auto",
         "type": "bar",
         "x": [
          33
         ],
         "xaxis": "x",
         "y": [
          "Riverside Ground"
         ],
         "yaxis": "y"
        },
        {
         "alignmentgroup": "True",
         "hovertemplate": "color=Sabina Park<br>Total Runs=%{x}<br>Ground=%{y}<extra></extra>",
         "legendgroup": "Sabina Park",
         "marker": {
          "color": "#EF553B",
          "line": {
           "color": "black",
           "width": 2
          },
          "pattern": {
           "shape": ""
          }
         },
         "name": "Sabina Park",
         "offsetgroup": "Sabina Park",
         "orientation": "h",
         "showlegend": true,
         "textposition": "auto",
         "type": "bar",
         "x": [
          183
         ],
         "xaxis": "x",
         "y": [
          "Sabina Park"
         ],
         "yaxis": "y"
        },
        {
         "alignmentgroup": "True",
         "hovertemplate": "color=Sardar Patel Stadium<br>Total Runs=%{x}<br>Ground=%{y}<extra></extra>",
         "legendgroup": "Sardar Patel Stadium",
         "marker": {
          "color": "#00cc96",
          "line": {
           "color": "black",
           "width": 2
          },
          "pattern": {
           "shape": ""
          }
         },
         "name": "Sardar Patel Stadium",
         "offsetgroup": "Sardar Patel Stadium",
         "orientation": "h",
         "showlegend": true,
         "textposition": "auto",
         "type": "bar",
         "x": [
          114
         ],
         "xaxis": "x",
         "y": [
          "Sardar Patel Stadium"
         ],
         "yaxis": "y"
        },
        {
         "alignmentgroup": "True",
         "hovertemplate": "color=Saurashtra Cricket Association Stadium<br>Total Runs=%{x}<br>Ground=%{y}<extra></extra>",
         "legendgroup": "Saurashtra Cricket Association Stadium",
         "marker": {
          "color": "#ab63fa",
          "line": {
           "color": "black",
           "width": 2
          },
          "pattern": {
           "shape": ""
          }
         },
         "name": "Saurashtra Cricket Association Stadium",
         "offsetgroup": "Saurashtra Cricket Association Stadium",
         "orientation": "h",
         "showlegend": true,
         "textposition": "auto",
         "type": "bar",
         "x": [
          79
         ],
         "xaxis": "x",
         "y": [
          "Saurashtra Cricket Association Stadium"
         ],
         "yaxis": "y"
        },
        {
         "alignmentgroup": "True",
         "hovertemplate": "color=Sawai Mansingh Stadium<br>Total Runs=%{x}<br>Ground=%{y}<extra></extra>",
         "legendgroup": "Sawai Mansingh Stadium",
         "marker": {
          "color": "#FFA15A",
          "line": {
           "color": "black",
           "width": 2
          },
          "pattern": {
           "shape": ""
          }
         },
         "name": "Sawai Mansingh Stadium",
         "offsetgroup": "Sawai Mansingh Stadium",
         "orientation": "h",
         "showlegend": true,
         "textposition": "auto",
         "type": "bar",
         "x": [
          240
         ],
         "xaxis": "x",
         "y": [
          "Sawai Mansingh Stadium"
         ],
         "yaxis": "y"
        },
        {
         "alignmentgroup": "True",
         "hovertemplate": "color=Sector 16 Stadium<br>Total Runs=%{x}<br>Ground=%{y}<extra></extra>",
         "legendgroup": "Sector 16 Stadium",
         "marker": {
          "color": "#19d3f3",
          "line": {
           "color": "black",
           "width": 2
          },
          "pattern": {
           "shape": ""
          }
         },
         "name": "Sector 16 Stadium",
         "offsetgroup": "Sector 16 Stadium",
         "orientation": "h",
         "showlegend": true,
         "textposition": "auto",
         "type": "bar",
         "x": [
          50
         ],
         "xaxis": "x",
         "y": [
          "Sector 16 Stadium"
         ],
         "yaxis": "y"
        },
        {
         "alignmentgroup": "True",
         "hovertemplate": "color=Seddon Park<br>Total Runs=%{x}<br>Ground=%{y}<extra></extra>",
         "legendgroup": "Seddon Park",
         "marker": {
          "color": "#FF6692",
          "line": {
           "color": "black",
           "width": 2
          },
          "pattern": {
           "shape": ""
          }
         },
         "name": "Seddon Park",
         "offsetgroup": "Seddon Park",
         "orientation": "h",
         "showlegend": true,
         "textposition": "auto",
         "type": "bar",
         "x": [
          135
         ],
         "xaxis": "x",
         "y": [
          "Seddon Park"
         ],
         "yaxis": "y"
        },
        {
         "alignmentgroup": "True",
         "hovertemplate": "color=Sheikh Zayed Stadium<br>Total Runs=%{x}<br>Ground=%{y}<extra></extra>",
         "legendgroup": "Sheikh Zayed Stadium",
         "marker": {
          "color": "#B6E880",
          "line": {
           "color": "black",
           "width": 2
          },
          "pattern": {
           "shape": ""
          }
         },
         "name": "Sheikh Zayed Stadium",
         "offsetgroup": "Sheikh Zayed Stadium",
         "orientation": "h",
         "showlegend": true,
         "textposition": "auto",
         "type": "bar",
         "x": [
          62
         ],
         "xaxis": "x",
         "y": [
          "Sheikh Zayed Stadium"
         ],
         "yaxis": "y"
        },
        {
         "alignmentgroup": "True",
         "hovertemplate": "color=Shere Bangla National Stadium<br>Total Runs=%{x}<br>Ground=%{y}<extra></extra>",
         "legendgroup": "Shere Bangla National Stadium",
         "marker": {
          "color": "#FF97FF",
          "line": {
           "color": "black",
           "width": 2
          },
          "pattern": {
           "shape": ""
          }
         },
         "name": "Shere Bangla National Stadium",
         "offsetgroup": "Shere Bangla National Stadium",
         "orientation": "h",
         "showlegend": true,
         "textposition": "auto",
         "type": "bar",
         "x": [
          591
         ],
         "xaxis": "x",
         "y": [
          "Shere Bangla National Stadium"
         ],
         "yaxis": "y"
        },
        {
         "alignmentgroup": "True",
         "hovertemplate": "color=Sinhalese Sports Club Ground<br>Total Runs=%{x}<br>Ground=%{y}<extra></extra>",
         "legendgroup": "Sinhalese Sports Club Ground",
         "marker": {
          "color": "#FECB52",
          "line": {
           "color": "black",
           "width": 2
          },
          "pattern": {
           "shape": ""
          }
         },
         "name": "Sinhalese Sports Club Ground",
         "offsetgroup": "Sinhalese Sports Club Ground",
         "orientation": "h",
         "showlegend": true,
         "textposition": "auto",
         "type": "bar",
         "x": [
          0
         ],
         "xaxis": "x",
         "y": [
          "Sinhalese Sports Club Ground"
         ],
         "yaxis": "y"
        },
        {
         "alignmentgroup": "True",
         "hovertemplate": "color=Sir Vivian Richards Stadium<br>Total Runs=%{x}<br>Ground=%{y}<extra></extra>",
         "legendgroup": "Sir Vivian Richards Stadium",
         "marker": {
          "color": "#636efa",
          "line": {
           "color": "black",
           "width": 2
          },
          "pattern": {
           "shape": ""
          }
         },
         "name": "Sir Vivian Richards Stadium",
         "offsetgroup": "Sir Vivian Richards Stadium",
         "orientation": "h",
         "showlegend": true,
         "textposition": "auto",
         "type": "bar",
         "x": [
          132
         ],
         "xaxis": "x",
         "y": [
          "Sir Vivian Richards Stadium"
         ],
         "yaxis": "y"
        },
        {
         "alignmentgroup": "True",
         "hovertemplate": "color=Sophia Gardens<br>Total Runs=%{x}<br>Ground=%{y}<extra></extra>",
         "legendgroup": "Sophia Gardens",
         "marker": {
          "color": "#EF553B",
          "line": {
           "color": "black",
           "width": 2
          },
          "pattern": {
           "shape": ""
          }
         },
         "name": "Sophia Gardens",
         "offsetgroup": "Sophia Gardens",
         "orientation": "h",
         "showlegend": true,
         "textposition": "auto",
         "type": "bar",
         "x": [
          129
         ],
         "xaxis": "x",
         "y": [
          "Sophia Gardens"
         ],
         "yaxis": "y"
        },
        {
         "alignmentgroup": "True",
         "hovertemplate": "color=St George's Park<br>Total Runs=%{x}<br>Ground=%{y}<extra></extra>",
         "legendgroup": "St George's Park",
         "marker": {
          "color": "#00cc96",
          "line": {
           "color": "black",
           "width": 2
          },
          "pattern": {
           "shape": ""
          }
         },
         "name": "St George's Park",
         "offsetgroup": "St George's Park",
         "orientation": "h",
         "showlegend": true,
         "textposition": "auto",
         "type": "bar",
         "x": [
          41
         ],
         "xaxis": "x",
         "y": [
          "St George's Park"
         ],
         "yaxis": "y"
        },
        {
         "alignmentgroup": "True",
         "hovertemplate": "color=SuperSport Park<br>Total Runs=%{x}<br>Ground=%{y}<extra></extra>",
         "legendgroup": "SuperSport Park",
         "marker": {
          "color": "#ab63fa",
          "line": {
           "color": "black",
           "width": 2
          },
          "pattern": {
           "shape": ""
          }
         },
         "name": "SuperSport Park",
         "offsetgroup": "SuperSport Park",
         "orientation": "h",
         "showlegend": true,
         "textposition": "auto",
         "type": "bar",
         "x": [
          52
         ],
         "xaxis": "x",
         "y": [
          "SuperSport Park"
         ],
         "yaxis": "y"
        },
        {
         "alignmentgroup": "True",
         "hovertemplate": "color=Sydney Cricket Ground<br>Total Runs=%{x}<br>Ground=%{y}<extra></extra>",
         "legendgroup": "Sydney Cricket Ground",
         "marker": {
          "color": "#FFA15A",
          "line": {
           "color": "black",
           "width": 2
          },
          "pattern": {
           "shape": ""
          }
         },
         "name": "Sydney Cricket Ground",
         "offsetgroup": "Sydney Cricket Ground",
         "orientation": "h",
         "showlegend": true,
         "textposition": "auto",
         "type": "bar",
         "x": [
          215
         ],
         "xaxis": "x",
         "y": [
          "Sydney Cricket Ground"
         ],
         "yaxis": "y"
        },
        {
         "alignmentgroup": "True",
         "hovertemplate": "color=The Rose Bowl<br>Total Runs=%{x}<br>Ground=%{y}<extra></extra>",
         "legendgroup": "The Rose Bowl",
         "marker": {
          "color": "#19d3f3",
          "line": {
           "color": "black",
           "width": 2
          },
          "pattern": {
           "shape": ""
          }
         },
         "name": "The Rose Bowl",
         "offsetgroup": "The Rose Bowl",
         "orientation": "h",
         "showlegend": true,
         "textposition": "auto",
         "type": "bar",
         "x": [
          87
         ],
         "xaxis": "x",
         "y": [
          "The Rose Bowl"
         ],
         "yaxis": "y"
        },
        {
         "alignmentgroup": "True",
         "hovertemplate": "color=Titwood<br>Total Runs=%{x}<br>Ground=%{y}<extra></extra>",
         "legendgroup": "Titwood",
         "marker": {
          "color": "#FF6692",
          "line": {
           "color": "black",
           "width": 2
          },
          "pattern": {
           "shape": ""
          }
         },
         "name": "Titwood",
         "offsetgroup": "Titwood",
         "orientation": "h",
         "showlegend": true,
         "textposition": "auto",
         "type": "bar",
         "x": [
          0
         ],
         "xaxis": "x",
         "y": [
          "Titwood"
         ],
         "yaxis": "y"
        },
        {
         "alignmentgroup": "True",
         "hovertemplate": "color=Trent Bridge<br>Total Runs=%{x}<br>Ground=%{y}<extra></extra>",
         "legendgroup": "Trent Bridge",
         "marker": {
          "color": "#B6E880",
          "line": {
           "color": "black",
           "width": 2
          },
          "pattern": {
           "shape": ""
          }
         },
         "name": "Trent Bridge",
         "offsetgroup": "Trent Bridge",
         "orientation": "h",
         "showlegend": true,
         "textposition": "auto",
         "type": "bar",
         "x": [
          0
         ],
         "xaxis": "x",
         "y": [
          "Trent Bridge"
         ],
         "yaxis": "y"
        },
        {
         "alignmentgroup": "True",
         "hovertemplate": "color=Vidarbha Cricket Association Ground<br>Total Runs=%{x}<br>Ground=%{y}<extra></extra>",
         "legendgroup": "Vidarbha Cricket Association Ground",
         "marker": {
          "color": "#FF97FF",
          "line": {
           "color": "black",
           "width": 2
          },
          "pattern": {
           "shape": ""
          }
         },
         "name": "Vidarbha Cricket Association Ground",
         "offsetgroup": "Vidarbha Cricket Association Ground",
         "orientation": "h",
         "showlegend": true,
         "textposition": "auto",
         "type": "bar",
         "x": [
          126
         ],
         "xaxis": "x",
         "y": [
          "Vidarbha Cricket Association Ground"
         ],
         "yaxis": "y"
        },
        {
         "alignmentgroup": "True",
         "hovertemplate": "color=Vidarbha Cricket Association Stadium<br>Total Runs=%{x}<br>Ground=%{y}<extra></extra>",
         "legendgroup": "Vidarbha Cricket Association Stadium",
         "marker": {
          "color": "#FECB52",
          "line": {
           "color": "black",
           "width": 2
          },
          "pattern": {
           "shape": ""
          }
         },
         "name": "Vidarbha Cricket Association Stadium",
         "offsetgroup": "Vidarbha Cricket Association Stadium",
         "orientation": "h",
         "showlegend": true,
         "textposition": "auto",
         "type": "bar",
         "x": [
          268
         ],
         "xaxis": "x",
         "y": [
          "Vidarbha Cricket Association Stadium"
         ],
         "yaxis": "y"
        },
        {
         "alignmentgroup": "True",
         "hovertemplate": "color=WACA Ground<br>Total Runs=%{x}<br>Ground=%{y}<extra></extra>",
         "legendgroup": "WACA Ground",
         "marker": {
          "color": "#636efa",
          "line": {
           "color": "black",
           "width": 2
          },
          "pattern": {
           "shape": ""
          }
         },
         "name": "WACA Ground",
         "offsetgroup": "WACA Ground",
         "orientation": "h",
         "showlegend": true,
         "textposition": "auto",
         "type": "bar",
         "x": [
          84
         ],
         "xaxis": "x",
         "y": [
          "WACA Ground"
         ],
         "yaxis": "y"
        },
        {
         "alignmentgroup": "True",
         "hovertemplate": "color=Wanderers Stadium<br>Total Runs=%{x}<br>Ground=%{y}<extra></extra>",
         "legendgroup": "Wanderers Stadium",
         "marker": {
          "color": "#EF553B",
          "line": {
           "color": "black",
           "width": 2
          },
          "pattern": {
           "shape": ""
          }
         },
         "name": "Wanderers Stadium",
         "offsetgroup": "Wanderers Stadium",
         "orientation": "h",
         "showlegend": true,
         "textposition": "auto",
         "type": "bar",
         "x": [
          145
         ],
         "xaxis": "x",
         "y": [
          "Wanderers Stadium"
         ],
         "yaxis": "y"
        },
        {
         "alignmentgroup": "True",
         "hovertemplate": "color=Wankhede Stadium<br>Total Runs=%{x}<br>Ground=%{y}<extra></extra>",
         "legendgroup": "Wankhede Stadium",
         "marker": {
          "color": "#00cc96",
          "line": {
           "color": "black",
           "width": 2
          },
          "pattern": {
           "shape": ""
          }
         },
         "name": "Wankhede Stadium",
         "offsetgroup": "Wankhede Stadium",
         "orientation": "h",
         "showlegend": true,
         "textposition": "auto",
         "type": "bar",
         "x": [
          175
         ],
         "xaxis": "x",
         "y": [
          "Wankhede Stadium"
         ],
         "yaxis": "y"
        },
        {
         "alignmentgroup": "True",
         "hovertemplate": "color=Warner Park<br>Total Runs=%{x}<br>Ground=%{y}<extra></extra>",
         "legendgroup": "Warner Park",
         "marker": {
          "color": "#ab63fa",
          "line": {
           "color": "black",
           "width": 2
          },
          "pattern": {
           "shape": ""
          }
         },
         "name": "Warner Park",
         "offsetgroup": "Warner Park",
         "orientation": "h",
         "showlegend": true,
         "textposition": "auto",
         "type": "bar",
         "x": [
          15
         ],
         "xaxis": "x",
         "y": [
          "Warner Park"
         ],
         "yaxis": "y"
        },
        {
         "alignmentgroup": "True",
         "hovertemplate": "color=Westpac Stadium<br>Total Runs=%{x}<br>Ground=%{y}<extra></extra>",
         "legendgroup": "Westpac Stadium",
         "marker": {
          "color": "#FFA15A",
          "line": {
           "color": "black",
           "width": 2
          },
          "pattern": {
           "shape": ""
          }
         },
         "name": "Westpac Stadium",
         "offsetgroup": "Westpac Stadium",
         "orientation": "h",
         "showlegend": true,
         "textposition": "auto",
         "type": "bar",
         "x": [
          71
         ],
         "xaxis": "x",
         "y": [
          "Westpac Stadium"
         ],
         "yaxis": "y"
        }
       ],
       "layout": {
        "barmode": "relative",
        "legend": {
         "title": {
          "text": "color"
         },
         "tracegroupgap": 0
        },
        "template": {
         "data": {
          "bar": [
           {
            "error_x": {
             "color": "#2a3f5f"
            },
            "error_y": {
             "color": "#2a3f5f"
            },
            "marker": {
             "line": {
              "color": "#E5ECF6",
              "width": 0.5
             },
             "pattern": {
              "fillmode": "overlay",
              "size": 10,
              "solidity": 0.2
             }
            },
            "type": "bar"
           }
          ],
          "barpolar": [
           {
            "marker": {
             "line": {
              "color": "#E5ECF6",
              "width": 0.5
             },
             "pattern": {
              "fillmode": "overlay",
              "size": 10,
              "solidity": 0.2
             }
            },
            "type": "barpolar"
           }
          ],
          "carpet": [
           {
            "aaxis": {
             "endlinecolor": "#2a3f5f",
             "gridcolor": "white",
             "linecolor": "white",
             "minorgridcolor": "white",
             "startlinecolor": "#2a3f5f"
            },
            "baxis": {
             "endlinecolor": "#2a3f5f",
             "gridcolor": "white",
             "linecolor": "white",
             "minorgridcolor": "white",
             "startlinecolor": "#2a3f5f"
            },
            "type": "carpet"
           }
          ],
          "choropleth": [
           {
            "colorbar": {
             "outlinewidth": 0,
             "ticks": ""
            },
            "type": "choropleth"
           }
          ],
          "contour": [
           {
            "colorbar": {
             "outlinewidth": 0,
             "ticks": ""
            },
            "colorscale": [
             [
              0,
              "#0d0887"
             ],
             [
              0.1111111111111111,
              "#46039f"
             ],
             [
              0.2222222222222222,
              "#7201a8"
             ],
             [
              0.3333333333333333,
              "#9c179e"
             ],
             [
              0.4444444444444444,
              "#bd3786"
             ],
             [
              0.5555555555555556,
              "#d8576b"
             ],
             [
              0.6666666666666666,
              "#ed7953"
             ],
             [
              0.7777777777777778,
              "#fb9f3a"
             ],
             [
              0.8888888888888888,
              "#fdca26"
             ],
             [
              1,
              "#f0f921"
             ]
            ],
            "type": "contour"
           }
          ],
          "contourcarpet": [
           {
            "colorbar": {
             "outlinewidth": 0,
             "ticks": ""
            },
            "type": "contourcarpet"
           }
          ],
          "heatmap": [
           {
            "colorbar": {
             "outlinewidth": 0,
             "ticks": ""
            },
            "colorscale": [
             [
              0,
              "#0d0887"
             ],
             [
              0.1111111111111111,
              "#46039f"
             ],
             [
              0.2222222222222222,
              "#7201a8"
             ],
             [
              0.3333333333333333,
              "#9c179e"
             ],
             [
              0.4444444444444444,
              "#bd3786"
             ],
             [
              0.5555555555555556,
              "#d8576b"
             ],
             [
              0.6666666666666666,
              "#ed7953"
             ],
             [
              0.7777777777777778,
              "#fb9f3a"
             ],
             [
              0.8888888888888888,
              "#fdca26"
             ],
             [
              1,
              "#f0f921"
             ]
            ],
            "type": "heatmap"
           }
          ],
          "heatmapgl": [
           {
            "colorbar": {
             "outlinewidth": 0,
             "ticks": ""
            },
            "colorscale": [
             [
              0,
              "#0d0887"
             ],
             [
              0.1111111111111111,
              "#46039f"
             ],
             [
              0.2222222222222222,
              "#7201a8"
             ],
             [
              0.3333333333333333,
              "#9c179e"
             ],
             [
              0.4444444444444444,
              "#bd3786"
             ],
             [
              0.5555555555555556,
              "#d8576b"
             ],
             [
              0.6666666666666666,
              "#ed7953"
             ],
             [
              0.7777777777777778,
              "#fb9f3a"
             ],
             [
              0.8888888888888888,
              "#fdca26"
             ],
             [
              1,
              "#f0f921"
             ]
            ],
            "type": "heatmapgl"
           }
          ],
          "histogram": [
           {
            "marker": {
             "pattern": {
              "fillmode": "overlay",
              "size": 10,
              "solidity": 0.2
             }
            },
            "type": "histogram"
           }
          ],
          "histogram2d": [
           {
            "colorbar": {
             "outlinewidth": 0,
             "ticks": ""
            },
            "colorscale": [
             [
              0,
              "#0d0887"
             ],
             [
              0.1111111111111111,
              "#46039f"
             ],
             [
              0.2222222222222222,
              "#7201a8"
             ],
             [
              0.3333333333333333,
              "#9c179e"
             ],
             [
              0.4444444444444444,
              "#bd3786"
             ],
             [
              0.5555555555555556,
              "#d8576b"
             ],
             [
              0.6666666666666666,
              "#ed7953"
             ],
             [
              0.7777777777777778,
              "#fb9f3a"
             ],
             [
              0.8888888888888888,
              "#fdca26"
             ],
             [
              1,
              "#f0f921"
             ]
            ],
            "type": "histogram2d"
           }
          ],
          "histogram2dcontour": [
           {
            "colorbar": {
             "outlinewidth": 0,
             "ticks": ""
            },
            "colorscale": [
             [
              0,
              "#0d0887"
             ],
             [
              0.1111111111111111,
              "#46039f"
             ],
             [
              0.2222222222222222,
              "#7201a8"
             ],
             [
              0.3333333333333333,
              "#9c179e"
             ],
             [
              0.4444444444444444,
              "#bd3786"
             ],
             [
              0.5555555555555556,
              "#d8576b"
             ],
             [
              0.6666666666666666,
              "#ed7953"
             ],
             [
              0.7777777777777778,
              "#fb9f3a"
             ],
             [
              0.8888888888888888,
              "#fdca26"
             ],
             [
              1,
              "#f0f921"
             ]
            ],
            "type": "histogram2dcontour"
           }
          ],
          "mesh3d": [
           {
            "colorbar": {
             "outlinewidth": 0,
             "ticks": ""
            },
            "type": "mesh3d"
           }
          ],
          "parcoords": [
           {
            "line": {
             "colorbar": {
              "outlinewidth": 0,
              "ticks": ""
             }
            },
            "type": "parcoords"
           }
          ],
          "pie": [
           {
            "automargin": true,
            "type": "pie"
           }
          ],
          "scatter": [
           {
            "marker": {
             "colorbar": {
              "outlinewidth": 0,
              "ticks": ""
             }
            },
            "type": "scatter"
           }
          ],
          "scatter3d": [
           {
            "line": {
             "colorbar": {
              "outlinewidth": 0,
              "ticks": ""
             }
            },
            "marker": {
             "colorbar": {
              "outlinewidth": 0,
              "ticks": ""
             }
            },
            "type": "scatter3d"
           }
          ],
          "scattercarpet": [
           {
            "marker": {
             "colorbar": {
              "outlinewidth": 0,
              "ticks": ""
             }
            },
            "type": "scattercarpet"
           }
          ],
          "scattergeo": [
           {
            "marker": {
             "colorbar": {
              "outlinewidth": 0,
              "ticks": ""
             }
            },
            "type": "scattergeo"
           }
          ],
          "scattergl": [
           {
            "marker": {
             "colorbar": {
              "outlinewidth": 0,
              "ticks": ""
             }
            },
            "type": "scattergl"
           }
          ],
          "scattermapbox": [
           {
            "marker": {
             "colorbar": {
              "outlinewidth": 0,
              "ticks": ""
             }
            },
            "type": "scattermapbox"
           }
          ],
          "scatterpolar": [
           {
            "marker": {
             "colorbar": {
              "outlinewidth": 0,
              "ticks": ""
             }
            },
            "type": "scatterpolar"
           }
          ],
          "scatterpolargl": [
           {
            "marker": {
             "colorbar": {
              "outlinewidth": 0,
              "ticks": ""
             }
            },
            "type": "scatterpolargl"
           }
          ],
          "scatterternary": [
           {
            "marker": {
             "colorbar": {
              "outlinewidth": 0,
              "ticks": ""
             }
            },
            "type": "scatterternary"
           }
          ],
          "surface": [
           {
            "colorbar": {
             "outlinewidth": 0,
             "ticks": ""
            },
            "colorscale": [
             [
              0,
              "#0d0887"
             ],
             [
              0.1111111111111111,
              "#46039f"
             ],
             [
              0.2222222222222222,
              "#7201a8"
             ],
             [
              0.3333333333333333,
              "#9c179e"
             ],
             [
              0.4444444444444444,
              "#bd3786"
             ],
             [
              0.5555555555555556,
              "#d8576b"
             ],
             [
              0.6666666666666666,
              "#ed7953"
             ],
             [
              0.7777777777777778,
              "#fb9f3a"
             ],
             [
              0.8888888888888888,
              "#fdca26"
             ],
             [
              1,
              "#f0f921"
             ]
            ],
            "type": "surface"
           }
          ],
          "table": [
           {
            "cells": {
             "fill": {
              "color": "#EBF0F8"
             },
             "line": {
              "color": "white"
             }
            },
            "header": {
             "fill": {
              "color": "#C8D4E3"
             },
             "line": {
              "color": "white"
             }
            },
            "type": "table"
           }
          ]
         },
         "layout": {
          "annotationdefaults": {
           "arrowcolor": "#2a3f5f",
           "arrowhead": 0,
           "arrowwidth": 1
          },
          "autotypenumbers": "strict",
          "coloraxis": {
           "colorbar": {
            "outlinewidth": 0,
            "ticks": ""
           }
          },
          "colorscale": {
           "diverging": [
            [
             0,
             "#8e0152"
            ],
            [
             0.1,
             "#c51b7d"
            ],
            [
             0.2,
             "#de77ae"
            ],
            [
             0.3,
             "#f1b6da"
            ],
            [
             0.4,
             "#fde0ef"
            ],
            [
             0.5,
             "#f7f7f7"
            ],
            [
             0.6,
             "#e6f5d0"
            ],
            [
             0.7,
             "#b8e186"
            ],
            [
             0.8,
             "#7fbc41"
            ],
            [
             0.9,
             "#4d9221"
            ],
            [
             1,
             "#276419"
            ]
           ],
           "sequential": [
            [
             0,
             "#0d0887"
            ],
            [
             0.1111111111111111,
             "#46039f"
            ],
            [
             0.2222222222222222,
             "#7201a8"
            ],
            [
             0.3333333333333333,
             "#9c179e"
            ],
            [
             0.4444444444444444,
             "#bd3786"
            ],
            [
             0.5555555555555556,
             "#d8576b"
            ],
            [
             0.6666666666666666,
             "#ed7953"
            ],
            [
             0.7777777777777778,
             "#fb9f3a"
            ],
            [
             0.8888888888888888,
             "#fdca26"
            ],
            [
             1,
             "#f0f921"
            ]
           ],
           "sequentialminus": [
            [
             0,
             "#0d0887"
            ],
            [
             0.1111111111111111,
             "#46039f"
            ],
            [
             0.2222222222222222,
             "#7201a8"
            ],
            [
             0.3333333333333333,
             "#9c179e"
            ],
            [
             0.4444444444444444,
             "#bd3786"
            ],
            [
             0.5555555555555556,
             "#d8576b"
            ],
            [
             0.6666666666666666,
             "#ed7953"
            ],
            [
             0.7777777777777778,
             "#fb9f3a"
            ],
            [
             0.8888888888888888,
             "#fdca26"
            ],
            [
             1,
             "#f0f921"
            ]
           ]
          },
          "colorway": [
           "#636efa",
           "#EF553B",
           "#00cc96",
           "#ab63fa",
           "#FFA15A",
           "#19d3f3",
           "#FF6692",
           "#B6E880",
           "#FF97FF",
           "#FECB52"
          ],
          "font": {
           "color": "#2a3f5f"
          },
          "geo": {
           "bgcolor": "white",
           "lakecolor": "white",
           "landcolor": "#E5ECF6",
           "showlakes": true,
           "showland": true,
           "subunitcolor": "white"
          },
          "hoverlabel": {
           "align": "left"
          },
          "hovermode": "closest",
          "mapbox": {
           "style": "light"
          },
          "paper_bgcolor": "white",
          "plot_bgcolor": "#E5ECF6",
          "polar": {
           "angularaxis": {
            "gridcolor": "white",
            "linecolor": "white",
            "ticks": ""
           },
           "bgcolor": "#E5ECF6",
           "radialaxis": {
            "gridcolor": "white",
            "linecolor": "white",
            "ticks": ""
           }
          },
          "scene": {
           "xaxis": {
            "backgroundcolor": "#E5ECF6",
            "gridcolor": "white",
            "gridwidth": 2,
            "linecolor": "white",
            "showbackground": true,
            "ticks": "",
            "zerolinecolor": "white"
           },
           "yaxis": {
            "backgroundcolor": "#E5ECF6",
            "gridcolor": "white",
            "gridwidth": 2,
            "linecolor": "white",
            "showbackground": true,
            "ticks": "",
            "zerolinecolor": "white"
           },
           "zaxis": {
            "backgroundcolor": "#E5ECF6",
            "gridcolor": "white",
            "gridwidth": 2,
            "linecolor": "white",
            "showbackground": true,
            "ticks": "",
            "zerolinecolor": "white"
           }
          },
          "shapedefaults": {
           "line": {
            "color": "#2a3f5f"
           }
          },
          "ternary": {
           "aaxis": {
            "gridcolor": "white",
            "linecolor": "white",
            "ticks": ""
           },
           "baxis": {
            "gridcolor": "white",
            "linecolor": "white",
            "ticks": ""
           },
           "bgcolor": "#E5ECF6",
           "caxis": {
            "gridcolor": "white",
            "linecolor": "white",
            "ticks": ""
           }
          },
          "title": {
           "x": 0.05
          },
          "xaxis": {
           "automargin": true,
           "gridcolor": "white",
           "linecolor": "white",
           "ticks": "",
           "title": {
            "standoff": 15
           },
           "zerolinecolor": "white",
           "zerolinewidth": 2
          },
          "yaxis": {
           "automargin": true,
           "gridcolor": "white",
           "linecolor": "white",
           "ticks": "",
           "title": {
            "standoff": 15
           },
           "zerolinecolor": "white",
           "zerolinewidth": 2
          }
         }
        },
        "title": {
         "text": "Total Runs Scored in each Ground"
        },
        "xaxis": {
         "anchor": "y",
         "domain": [
          0,
          1
         ],
         "title": {
          "text": "Total Runs"
         }
        },
        "yaxis": {
         "anchor": "x",
         "categoryorder": "total ascending",
         "domain": [
          0,
          1
         ],
         "title": {
          "text": "Ground"
         },
         "type": "category"
        }
       }
      },
      "text/html": [
       "<div>                            <div id=\"58c74732-6d6c-49d6-9f61-ba0558cf7dbb\" class=\"plotly-graph-div\" style=\"height:525px; width:100%;\"></div>            <script type=\"text/javascript\">                require([\"plotly\"], function(Plotly) {                    window.PLOTLYENV=window.PLOTLYENV || {};                                    if (document.getElementById(\"58c74732-6d6c-49d6-9f61-ba0558cf7dbb\")) {                    Plotly.newPlot(                        \"58c74732-6d6c-49d6-9f61-ba0558cf7dbb\",                        [{\"alignmentgroup\":\"True\",\"hovertemplate\":\"color=AMI Stadium<br>Total Runs=%{x}<br>Ground=%{y}<extra></extra>\",\"legendgroup\":\"AMI Stadium\",\"marker\":{\"color\":\"#636efa\",\"pattern\":{\"shape\":\"\"},\"line\":{\"color\":\"black\",\"width\":2}},\"name\":\"AMI Stadium\",\"offsetgroup\":\"AMI Stadium\",\"orientation\":\"h\",\"showlegend\":true,\"textposition\":\"auto\",\"x\":[68.0],\"xaxis\":\"x\",\"y\":[\"AMI Stadium\"],\"yaxis\":\"y\",\"type\":\"bar\"},{\"alignmentgroup\":\"True\",\"hovertemplate\":\"color=Adelaide Oval<br>Total Runs=%{x}<br>Ground=%{y}<extra></extra>\",\"legendgroup\":\"Adelaide Oval\",\"marker\":{\"color\":\"#EF553B\",\"pattern\":{\"shape\":\"\"},\"line\":{\"color\":\"black\",\"width\":2}},\"name\":\"Adelaide Oval\",\"offsetgroup\":\"Adelaide Oval\",\"orientation\":\"h\",\"showlegend\":true,\"textposition\":\"auto\",\"x\":[262.0],\"xaxis\":\"x\",\"y\":[\"Adelaide Oval\"],\"yaxis\":\"y\",\"type\":\"bar\"},{\"alignmentgroup\":\"True\",\"hovertemplate\":\"color=Arbab Niaz Stadium<br>Total Runs=%{x}<br>Ground=%{y}<extra></extra>\",\"legendgroup\":\"Arbab Niaz Stadium\",\"marker\":{\"color\":\"#00cc96\",\"pattern\":{\"shape\":\"\"},\"line\":{\"color\":\"black\",\"width\":2}},\"name\":\"Arbab Niaz Stadium\",\"offsetgroup\":\"Arbab Niaz Stadium\",\"orientation\":\"h\",\"showlegend\":true,\"textposition\":\"auto\",\"x\":[68.0],\"xaxis\":\"x\",\"y\":[\"Arbab Niaz Stadium\"],\"yaxis\":\"y\",\"type\":\"bar\"},{\"alignmentgroup\":\"True\",\"hovertemplate\":\"color=Arun Jaitley Stadium<br>Total Runs=%{x}<br>Ground=%{y}<extra></extra>\",\"legendgroup\":\"Arun Jaitley Stadium\",\"marker\":{\"color\":\"#ab63fa\",\"pattern\":{\"shape\":\"\"},\"line\":{\"color\":\"black\",\"width\":2}},\"name\":\"Arun Jaitley Stadium\",\"offsetgroup\":\"Arun Jaitley Stadium\",\"orientation\":\"h\",\"showlegend\":true,\"textposition\":\"auto\",\"x\":[260.0],\"xaxis\":\"x\",\"y\":[\"Arun Jaitley Stadium\"],\"yaxis\":\"y\",\"type\":\"bar\"},{\"alignmentgroup\":\"True\",\"hovertemplate\":\"color=Bangabandhu National Stadium<br>Total Runs=%{x}<br>Ground=%{y}<extra></extra>\",\"legendgroup\":\"Bangabandhu National Stadium\",\"marker\":{\"color\":\"#FFA15A\",\"pattern\":{\"shape\":\"\"},\"line\":{\"color\":\"black\",\"width\":2}},\"name\":\"Bangabandhu National Stadium\",\"offsetgroup\":\"Bangabandhu National Stadium\",\"orientation\":\"h\",\"showlegend\":true,\"textposition\":\"auto\",\"x\":[19.0],\"xaxis\":\"x\",\"y\":[\"Bangabandhu National Stadium\"],\"yaxis\":\"y\",\"type\":\"bar\"},{\"alignmentgroup\":\"True\",\"hovertemplate\":\"color=Barabati Stadium<br>Total Runs=%{x}<br>Ground=%{y}<extra></extra>\",\"legendgroup\":\"Barabati Stadium\",\"marker\":{\"color\":\"#19d3f3\",\"pattern\":{\"shape\":\"\"},\"line\":{\"color\":\"black\",\"width\":2}},\"name\":\"Barabati Stadium\",\"offsetgroup\":\"Barabati Stadium\",\"orientation\":\"h\",\"showlegend\":true,\"textposition\":\"auto\",\"x\":[190.0],\"xaxis\":\"x\",\"y\":[\"Barabati Stadium\"],\"yaxis\":\"y\",\"type\":\"bar\"},{\"alignmentgroup\":\"True\",\"hovertemplate\":\"color=Barsapara Cricket Stadium<br>Total Runs=%{x}<br>Ground=%{y}<extra></extra>\",\"legendgroup\":\"Barsapara Cricket Stadium\",\"marker\":{\"color\":\"#FF6692\",\"pattern\":{\"shape\":\"\"},\"line\":{\"color\":\"black\",\"width\":2}},\"name\":\"Barsapara Cricket Stadium\",\"offsetgroup\":\"Barsapara Cricket Stadium\",\"orientation\":\"h\",\"showlegend\":true,\"textposition\":\"auto\",\"x\":[0.0],\"xaxis\":\"x\",\"y\":[\"Barsapara Cricket Stadium\"],\"yaxis\":\"y\",\"type\":\"bar\"},{\"alignmentgroup\":\"True\",\"hovertemplate\":\"color=Bay Oval<br>Total Runs=%{x}<br>Ground=%{y}<extra></extra>\",\"legendgroup\":\"Bay Oval\",\"marker\":{\"color\":\"#B6E880\",\"pattern\":{\"shape\":\"\"},\"line\":{\"color\":\"black\",\"width\":2}},\"name\":\"Bay Oval\",\"offsetgroup\":\"Bay Oval\",\"orientation\":\"h\",\"showlegend\":true,\"textposition\":\"auto\",\"x\":[48.0],\"xaxis\":\"x\",\"y\":[\"Bay Oval\"],\"yaxis\":\"y\",\"type\":\"bar\"},{\"alignmentgroup\":\"True\",\"hovertemplate\":\"color=Bellerive Oval<br>Total Runs=%{x}<br>Ground=%{y}<extra></extra>\",\"legendgroup\":\"Bellerive Oval\",\"marker\":{\"color\":\"#FF97FF\",\"pattern\":{\"shape\":\"\"},\"line\":{\"color\":\"black\",\"width\":2}},\"name\":\"Bellerive Oval\",\"offsetgroup\":\"Bellerive Oval\",\"orientation\":\"h\",\"showlegend\":true,\"textposition\":\"auto\",\"x\":[0.0],\"xaxis\":\"x\",\"y\":[\"Bellerive Oval\"],\"yaxis\":\"y\",\"type\":\"bar\"},{\"alignmentgroup\":\"True\",\"hovertemplate\":\"color=Brabourne Stadium<br>Total Runs=%{x}<br>Ground=%{y}<extra></extra>\",\"legendgroup\":\"Brabourne Stadium\",\"marker\":{\"color\":\"#FECB52\",\"pattern\":{\"shape\":\"\"},\"line\":{\"color\":\"black\",\"width\":2}},\"name\":\"Brabourne Stadium\",\"offsetgroup\":\"Brabourne Stadium\",\"orientation\":\"h\",\"showlegend\":true,\"textposition\":\"auto\",\"x\":[23.0],\"xaxis\":\"x\",\"y\":[\"Brabourne Stadium\"],\"yaxis\":\"y\",\"type\":\"bar\"},{\"alignmentgroup\":\"True\",\"hovertemplate\":\"color=Brisbane Cricket Ground<br>Total Runs=%{x}<br>Ground=%{y}<extra></extra>\",\"legendgroup\":\"Brisbane Cricket Ground\",\"marker\":{\"color\":\"#636efa\",\"pattern\":{\"shape\":\"\"},\"line\":{\"color\":\"black\",\"width\":2}},\"name\":\"Brisbane Cricket Ground\",\"offsetgroup\":\"Brisbane Cricket Ground\",\"orientation\":\"h\",\"showlegend\":true,\"textposition\":\"auto\",\"x\":[262.0],\"xaxis\":\"x\",\"y\":[\"Brisbane Cricket Ground\"],\"yaxis\":\"y\",\"type\":\"bar\"},{\"alignmentgroup\":\"True\",\"hovertemplate\":\"color=Captain Roop Singh Stadium<br>Total Runs=%{x}<br>Ground=%{y}<extra></extra>\",\"legendgroup\":\"Captain Roop Singh Stadium\",\"marker\":{\"color\":\"#EF553B\",\"pattern\":{\"shape\":\"\"},\"line\":{\"color\":\"black\",\"width\":2}},\"name\":\"Captain Roop Singh Stadium\",\"offsetgroup\":\"Captain Roop Singh Stadium\",\"orientation\":\"h\",\"showlegend\":true,\"textposition\":\"auto\",\"x\":[113.0],\"xaxis\":\"x\",\"y\":[\"Captain Roop Singh Stadium\"],\"yaxis\":\"y\",\"type\":\"bar\"},{\"alignmentgroup\":\"True\",\"hovertemplate\":\"color=Civil Service Cricket Club<br>Total Runs=%{x}<br>Ground=%{y}<extra></extra>\",\"legendgroup\":\"Civil Service Cricket Club\",\"marker\":{\"color\":\"#00cc96\",\"pattern\":{\"shape\":\"\"},\"line\":{\"color\":\"black\",\"width\":2}},\"name\":\"Civil Service Cricket Club\",\"offsetgroup\":\"Civil Service Cricket Club\",\"orientation\":\"h\",\"showlegend\":true,\"textposition\":\"auto\",\"x\":[14.0],\"xaxis\":\"x\",\"y\":[\"Civil Service Cricket Club\"],\"yaxis\":\"y\",\"type\":\"bar\"},{\"alignmentgroup\":\"True\",\"hovertemplate\":\"color=County Ground (Bristol)<br>Total Runs=%{x}<br>Ground=%{y}<extra></extra>\",\"legendgroup\":\"County Ground (Bristol)\",\"marker\":{\"color\":\"#ab63fa\",\"pattern\":{\"shape\":\"\"},\"line\":{\"color\":\"black\",\"width\":2}},\"name\":\"County Ground (Bristol)\",\"offsetgroup\":\"County Ground (Bristol)\",\"orientation\":\"h\",\"showlegend\":true,\"textposition\":\"auto\",\"x\":[21.0],\"xaxis\":\"x\",\"y\":[\"County Ground (Bristol)\"],\"yaxis\":\"y\",\"type\":\"bar\"},{\"alignmentgroup\":\"True\",\"hovertemplate\":\"color=Darren Sammy National Cricket Stadium<br>Total Runs=%{x}<br>Ground=%{y}<extra></extra>\",\"legendgroup\":\"Darren Sammy National Cricket Stadium\",\"marker\":{\"color\":\"#FFA15A\",\"pattern\":{\"shape\":\"\"},\"line\":{\"color\":\"black\",\"width\":2}},\"name\":\"Darren Sammy National Cricket Stadium\",\"offsetgroup\":\"Darren Sammy National Cricket Stadium\",\"orientation\":\"h\",\"showlegend\":true,\"textposition\":\"auto\",\"x\":[46.0],\"xaxis\":\"x\",\"y\":[\"Darren Sammy National Cricket Stadium\"],\"yaxis\":\"y\",\"type\":\"bar\"},{\"alignmentgroup\":\"True\",\"hovertemplate\":\"color=Dr YS Rajasekhara Reddy Cricket Stadium<br>Total Runs=%{x}<br>Ground=%{y}<extra></extra>\",\"legendgroup\":\"Dr YS Rajasekhara Reddy Cricket Stadium\",\"marker\":{\"color\":\"#19d3f3\",\"pattern\":{\"shape\":\"\"},\"line\":{\"color\":\"black\",\"width\":2}},\"name\":\"Dr YS Rajasekhara Reddy Cricket Stadium\",\"offsetgroup\":\"Dr YS Rajasekhara Reddy Cricket Stadium\",\"orientation\":\"h\",\"showlegend\":true,\"textposition\":\"auto\",\"x\":[260.0],\"xaxis\":\"x\",\"y\":[\"Dr YS Rajasekhara Reddy Cricket Stadium\"],\"yaxis\":\"y\",\"type\":\"bar\"},{\"alignmentgroup\":\"True\",\"hovertemplate\":\"color=Dubai International Cricket Stadium<br>Total Runs=%{x}<br>Ground=%{y}<extra></extra>\",\"legendgroup\":\"Dubai International Cricket Stadium\",\"marker\":{\"color\":\"#FF6692\",\"pattern\":{\"shape\":\"\"},\"line\":{\"color\":\"black\",\"width\":2}},\"name\":\"Dubai International Cricket Stadium\",\"offsetgroup\":\"Dubai International Cricket Stadium\",\"orientation\":\"h\",\"showlegend\":true,\"textposition\":\"auto\",\"x\":[77.0],\"xaxis\":\"x\",\"y\":[\"Dubai International Cricket Stadium\"],\"yaxis\":\"y\",\"type\":\"bar\"},{\"alignmentgroup\":\"True\",\"hovertemplate\":\"color=Eden Gardens<br>Total Runs=%{x}<br>Ground=%{y}<extra></extra>\",\"legendgroup\":\"Eden Gardens\",\"marker\":{\"color\":\"#B6E880\",\"pattern\":{\"shape\":\"\"},\"line\":{\"color\":\"black\",\"width\":2}},\"name\":\"Eden Gardens\",\"offsetgroup\":\"Eden Gardens\",\"orientation\":\"h\",\"showlegend\":true,\"textposition\":\"auto\",\"x\":[173.0],\"xaxis\":\"x\",\"y\":[\"Eden Gardens\"],\"yaxis\":\"y\",\"type\":\"bar\"},{\"alignmentgroup\":\"True\",\"hovertemplate\":\"color=Eden Park<br>Total Runs=%{x}<br>Ground=%{y}<extra></extra>\",\"legendgroup\":\"Eden Park\",\"marker\":{\"color\":\"#FF97FF\",\"pattern\":{\"shape\":\"\"},\"line\":{\"color\":\"black\",\"width\":2}},\"name\":\"Eden Park\",\"offsetgroup\":\"Eden Park\",\"orientation\":\"h\",\"showlegend\":true,\"textposition\":\"auto\",\"x\":[144.0],\"xaxis\":\"x\",\"y\":[\"Eden Park\"],\"yaxis\":\"y\",\"type\":\"bar\"},{\"alignmentgroup\":\"True\",\"hovertemplate\":\"color=Edgbaston<br>Total Runs=%{x}<br>Ground=%{y}<extra></extra>\",\"legendgroup\":\"Edgbaston\",\"marker\":{\"color\":\"#FECB52\",\"pattern\":{\"shape\":\"\"},\"line\":{\"color\":\"black\",\"width\":2}},\"name\":\"Edgbaston\",\"offsetgroup\":\"Edgbaston\",\"orientation\":\"h\",\"showlegend\":true,\"textposition\":\"auto\",\"x\":[90.0],\"xaxis\":\"x\",\"y\":[\"Edgbaston\"],\"yaxis\":\"y\",\"type\":\"bar\"},{\"alignmentgroup\":\"True\",\"hovertemplate\":\"color=Gaddafi Stadium<br>Total Runs=%{x}<br>Ground=%{y}<extra></extra>\",\"legendgroup\":\"Gaddafi Stadium\",\"marker\":{\"color\":\"#636efa\",\"pattern\":{\"shape\":\"\"},\"line\":{\"color\":\"black\",\"width\":2}},\"name\":\"Gaddafi Stadium\",\"offsetgroup\":\"Gaddafi Stadium\",\"orientation\":\"h\",\"showlegend\":true,\"textposition\":\"auto\",\"x\":[72.0],\"xaxis\":\"x\",\"y\":[\"Gaddafi Stadium\"],\"yaxis\":\"y\",\"type\":\"bar\"},{\"alignmentgroup\":\"True\",\"hovertemplate\":\"color=Green Park<br>Total Runs=%{x}<br>Ground=%{y}<extra></extra>\",\"legendgroup\":\"Green Park\",\"marker\":{\"color\":\"#EF553B\",\"pattern\":{\"shape\":\"\"},\"line\":{\"color\":\"black\",\"width\":2}},\"name\":\"Green Park\",\"offsetgroup\":\"Green Park\",\"orientation\":\"h\",\"showlegend\":true,\"textposition\":\"auto\",\"x\":[168.0],\"xaxis\":\"x\",\"y\":[\"Green Park\"],\"yaxis\":\"y\",\"type\":\"bar\"},{\"alignmentgroup\":\"True\",\"hovertemplate\":\"color=Greenfield International Stadium<br>Total Runs=%{x}<br>Ground=%{y}<extra></extra>\",\"legendgroup\":\"Greenfield International Stadium\",\"marker\":{\"color\":\"#00cc96\",\"pattern\":{\"shape\":\"\"},\"line\":{\"color\":\"black\",\"width\":2}},\"name\":\"Greenfield International Stadium\",\"offsetgroup\":\"Greenfield International Stadium\",\"orientation\":\"h\",\"showlegend\":true,\"textposition\":\"auto\",\"x\":[0.0],\"xaxis\":\"x\",\"y\":[\"Greenfield International Stadium\"],\"yaxis\":\"y\",\"type\":\"bar\"},{\"alignmentgroup\":\"True\",\"hovertemplate\":\"color=Harare Sports Club<br>Total Runs=%{x}<br>Ground=%{y}<extra></extra>\",\"legendgroup\":\"Harare Sports Club\",\"marker\":{\"color\":\"#ab63fa\",\"pattern\":{\"shape\":\"\"},\"line\":{\"color\":\"black\",\"width\":2}},\"name\":\"Harare Sports Club\",\"offsetgroup\":\"Harare Sports Club\",\"orientation\":\"h\",\"showlegend\":true,\"textposition\":\"auto\",\"x\":[171.0],\"xaxis\":\"x\",\"y\":[\"Harare Sports Club\"],\"yaxis\":\"y\",\"type\":\"bar\"},{\"alignmentgroup\":\"True\",\"hovertemplate\":\"color=Headingley<br>Total Runs=%{x}<br>Ground=%{y}<extra></extra>\",\"legendgroup\":\"Headingley\",\"marker\":{\"color\":\"#FFA15A\",\"pattern\":{\"shape\":\"\"},\"line\":{\"color\":\"black\",\"width\":2}},\"name\":\"Headingley\",\"offsetgroup\":\"Headingley\",\"orientation\":\"h\",\"showlegend\":true,\"textposition\":\"auto\",\"x\":[95.0],\"xaxis\":\"x\",\"y\":[\"Headingley\"],\"yaxis\":\"y\",\"type\":\"bar\"},{\"alignmentgroup\":\"True\",\"hovertemplate\":\"color=Himachal Pradesh Cricket Association Stadium<br>Total Runs=%{x}<br>Ground=%{y}<extra></extra>\",\"legendgroup\":\"Himachal Pradesh Cricket Association Stadium\",\"marker\":{\"color\":\"#19d3f3\",\"pattern\":{\"shape\":\"\"},\"line\":{\"color\":\"black\",\"width\":2}},\"name\":\"Himachal Pradesh Cricket Association Stadium\",\"offsetgroup\":\"Himachal Pradesh Cricket Association Stadium\",\"orientation\":\"h\",\"showlegend\":true,\"textposition\":\"auto\",\"x\":[107.0],\"xaxis\":\"x\",\"y\":[\"Himachal Pradesh Cricket Association Stadium\"],\"yaxis\":\"y\",\"type\":\"bar\"},{\"alignmentgroup\":\"True\",\"hovertemplate\":\"color=Holkar Cricket Stadium<br>Total Runs=%{x}<br>Ground=%{y}<extra></extra>\",\"legendgroup\":\"Holkar Cricket Stadium\",\"marker\":{\"color\":\"#FF6692\",\"pattern\":{\"shape\":\"\"},\"line\":{\"color\":\"black\",\"width\":2}},\"name\":\"Holkar Cricket Stadium\",\"offsetgroup\":\"Holkar Cricket Stadium\",\"orientation\":\"h\",\"showlegend\":true,\"textposition\":\"auto\",\"x\":[110.0],\"xaxis\":\"x\",\"y\":[\"Holkar Cricket Stadium\"],\"yaxis\":\"y\",\"type\":\"bar\"},{\"alignmentgroup\":\"True\",\"hovertemplate\":\"color=JSCA International Stadium Complex<br>Total Runs=%{x}<br>Ground=%{y}<extra></extra>\",\"legendgroup\":\"JSCA International Stadium Complex\",\"marker\":{\"color\":\"#B6E880\",\"pattern\":{\"shape\":\"\"},\"line\":{\"color\":\"black\",\"width\":2}},\"name\":\"JSCA International Stadium Complex\",\"offsetgroup\":\"JSCA International Stadium Complex\",\"orientation\":\"h\",\"showlegend\":true,\"textposition\":\"auto\",\"x\":[47.0],\"xaxis\":\"x\",\"y\":[\"JSCA International Stadium Complex\"],\"yaxis\":\"y\",\"type\":\"bar\"},{\"alignmentgroup\":\"True\",\"hovertemplate\":\"color=Keenan Stadium<br>Total Runs=%{x}<br>Ground=%{y}<extra></extra>\",\"legendgroup\":\"Keenan Stadium\",\"marker\":{\"color\":\"#FF97FF\",\"pattern\":{\"shape\":\"\"},\"line\":{\"color\":\"black\",\"width\":2}},\"name\":\"Keenan Stadium\",\"offsetgroup\":\"Keenan Stadium\",\"orientation\":\"h\",\"showlegend\":true,\"textposition\":\"auto\",\"x\":[124.0],\"xaxis\":\"x\",\"y\":[\"Keenan Stadium\"],\"yaxis\":\"y\",\"type\":\"bar\"},{\"alignmentgroup\":\"True\",\"hovertemplate\":\"color=Kennington Oval<br>Total Runs=%{x}<br>Ground=%{y}<extra></extra>\",\"legendgroup\":\"Kennington Oval\",\"marker\":{\"color\":\"#FECB52\",\"pattern\":{\"shape\":\"\"},\"line\":{\"color\":\"black\",\"width\":2}},\"name\":\"Kennington Oval\",\"offsetgroup\":\"Kennington Oval\",\"orientation\":\"h\",\"showlegend\":true,\"textposition\":\"auto\",\"x\":[198.0],\"xaxis\":\"x\",\"y\":[\"Kennington Oval\"],\"yaxis\":\"y\",\"type\":\"bar\"},{\"alignmentgroup\":\"True\",\"hovertemplate\":\"color=Kingsmead<br>Total Runs=%{x}<br>Ground=%{y}<extra></extra>\",\"legendgroup\":\"Kingsmead\",\"marker\":{\"color\":\"#636efa\",\"pattern\":{\"shape\":\"\"},\"line\":{\"color\":\"black\",\"width\":2}},\"name\":\"Kingsmead\",\"offsetgroup\":\"Kingsmead\",\"orientation\":\"h\",\"showlegend\":true,\"textposition\":\"auto\",\"x\":[62.0],\"xaxis\":\"x\",\"y\":[\"Kingsmead\"],\"yaxis\":\"y\",\"type\":\"bar\"},{\"alignmentgroup\":\"True\",\"hovertemplate\":\"color=Kinrara Academy Oval<br>Total Runs=%{x}<br>Ground=%{y}<extra></extra>\",\"legendgroup\":\"Kinrara Academy Oval\",\"marker\":{\"color\":\"#EF553B\",\"pattern\":{\"shape\":\"\"},\"line\":{\"color\":\"black\",\"width\":2}},\"name\":\"Kinrara Academy Oval\",\"offsetgroup\":\"Kinrara Academy Oval\",\"orientation\":\"h\",\"showlegend\":true,\"textposition\":\"auto\",\"x\":[43.0],\"xaxis\":\"x\",\"y\":[\"Kinrara Academy Oval\"],\"yaxis\":\"y\",\"type\":\"bar\"},{\"alignmentgroup\":\"True\",\"hovertemplate\":\"color=Lord's<br>Total Runs=%{x}<br>Ground=%{y}<extra></extra>\",\"legendgroup\":\"Lord's\",\"marker\":{\"color\":\"#00cc96\",\"pattern\":{\"shape\":\"\"},\"line\":{\"color\":\"black\",\"width\":2}},\"name\":\"Lord's\",\"offsetgroup\":\"Lord's\",\"orientation\":\"h\",\"showlegend\":true,\"textposition\":\"auto\",\"x\":[165.0],\"xaxis\":\"x\",\"y\":[\"Lord's\"],\"yaxis\":\"y\",\"type\":\"bar\"},{\"alignmentgroup\":\"True\",\"hovertemplate\":\"color=M Chinnaswamy Stadium<br>Total Runs=%{x}<br>Ground=%{y}<extra></extra>\",\"legendgroup\":\"M Chinnaswamy Stadium\",\"marker\":{\"color\":\"#ab63fa\",\"pattern\":{\"shape\":\"\"},\"line\":{\"color\":\"black\",\"width\":2}},\"name\":\"M Chinnaswamy Stadium\",\"offsetgroup\":\"M Chinnaswamy Stadium\",\"orientation\":\"h\",\"showlegend\":true,\"textposition\":\"auto\",\"x\":[151.0],\"xaxis\":\"x\",\"y\":[\"M Chinnaswamy Stadium\"],\"yaxis\":\"y\",\"type\":\"bar\"},{\"alignmentgroup\":\"True\",\"hovertemplate\":\"color=MA Aziz Stadium<br>Total Runs=%{x}<br>Ground=%{y}<extra></extra>\",\"legendgroup\":\"MA Aziz Stadium\",\"marker\":{\"color\":\"#FFA15A\",\"pattern\":{\"shape\":\"\"},\"line\":{\"color\":\"black\",\"width\":2}},\"name\":\"MA Aziz Stadium\",\"offsetgroup\":\"MA Aziz Stadium\",\"orientation\":\"h\",\"showlegend\":true,\"textposition\":\"auto\",\"x\":[0.0],\"xaxis\":\"x\",\"y\":[\"MA Aziz Stadium\"],\"yaxis\":\"y\",\"type\":\"bar\"},{\"alignmentgroup\":\"True\",\"hovertemplate\":\"color=MA Chidambaram Stadium<br>Total Runs=%{x}<br>Ground=%{y}<extra></extra>\",\"legendgroup\":\"MA Chidambaram Stadium\",\"marker\":{\"color\":\"#19d3f3\",\"pattern\":{\"shape\":\"\"},\"line\":{\"color\":\"black\",\"width\":2}},\"name\":\"MA Chidambaram Stadium\",\"offsetgroup\":\"MA Chidambaram Stadium\",\"orientation\":\"h\",\"showlegend\":true,\"textposition\":\"auto\",\"x\":[401.0],\"xaxis\":\"x\",\"y\":[\"MA Chidambaram Stadium\"],\"yaxis\":\"y\",\"type\":\"bar\"},{\"alignmentgroup\":\"True\",\"hovertemplate\":\"color=Madhavrao Scindia Cricket Ground<br>Total Runs=%{x}<br>Ground=%{y}<extra></extra>\",\"legendgroup\":\"Madhavrao Scindia Cricket Ground\",\"marker\":{\"color\":\"#FF6692\",\"pattern\":{\"shape\":\"\"},\"line\":{\"color\":\"black\",\"width\":2}},\"name\":\"Madhavrao Scindia Cricket Ground\",\"offsetgroup\":\"Madhavrao Scindia Cricket Ground\",\"orientation\":\"h\",\"showlegend\":true,\"textposition\":\"auto\",\"x\":[159.0],\"xaxis\":\"x\",\"y\":[\"Madhavrao Scindia Cricket Ground\"],\"yaxis\":\"y\",\"type\":\"bar\"},{\"alignmentgroup\":\"True\",\"hovertemplate\":\"color=Maharashtra Cricket Association Stadium<br>Total Runs=%{x}<br>Ground=%{y}<extra></extra>\",\"legendgroup\":\"Maharashtra Cricket Association Stadium\",\"marker\":{\"color\":\"#B6E880\",\"pattern\":{\"shape\":\"\"},\"line\":{\"color\":\"black\",\"width\":2}},\"name\":\"Maharashtra Cricket Association Stadium\",\"offsetgroup\":\"Maharashtra Cricket Association Stadium\",\"orientation\":\"h\",\"showlegend\":true,\"textposition\":\"auto\",\"x\":[50.0],\"xaxis\":\"x\",\"y\":[\"Maharashtra Cricket Association Stadium\"],\"yaxis\":\"y\",\"type\":\"bar\"},{\"alignmentgroup\":\"True\",\"hovertemplate\":\"color=Mahinda Rajapaksha International Cricket Stadium<br>Total Runs=%{x}<br>Ground=%{y}<extra></extra>\",\"legendgroup\":\"Mahinda Rajapaksha International Cricket Stadium\",\"marker\":{\"color\":\"#FF97FF\",\"pattern\":{\"shape\":\"\"},\"line\":{\"color\":\"black\",\"width\":2}},\"name\":\"Mahinda Rajapaksha International Cricket Stadium\",\"offsetgroup\":\"Mahinda Rajapaksha International Cricket Stadium\",\"orientation\":\"h\",\"showlegend\":true,\"textposition\":\"auto\",\"x\":[46.0],\"xaxis\":\"x\",\"y\":[\"Mahinda Rajapaksha International Cricket Stadium\"],\"yaxis\":\"y\",\"type\":\"bar\"},{\"alignmentgroup\":\"True\",\"hovertemplate\":\"color=Manuka Oval<br>Total Runs=%{x}<br>Ground=%{y}<extra></extra>\",\"legendgroup\":\"Manuka Oval\",\"marker\":{\"color\":\"#FECB52\",\"pattern\":{\"shape\":\"\"},\"line\":{\"color\":\"black\",\"width\":2}},\"name\":\"Manuka Oval\",\"offsetgroup\":\"Manuka Oval\",\"orientation\":\"h\",\"showlegend\":true,\"textposition\":\"auto\",\"x\":[31.0],\"xaxis\":\"x\",\"y\":[\"Manuka Oval\"],\"yaxis\":\"y\",\"type\":\"bar\"},{\"alignmentgroup\":\"True\",\"hovertemplate\":\"color=McLean Park<br>Total Runs=%{x}<br>Ground=%{y}<extra></extra>\",\"legendgroup\":\"McLean Park\",\"marker\":{\"color\":\"#636efa\",\"pattern\":{\"shape\":\"\"},\"line\":{\"color\":\"black\",\"width\":2}},\"name\":\"McLean Park\",\"offsetgroup\":\"McLean Park\",\"orientation\":\"h\",\"showlegend\":true,\"textposition\":\"auto\",\"x\":[124.0],\"xaxis\":\"x\",\"y\":[\"McLean Park\"],\"yaxis\":\"y\",\"type\":\"bar\"},{\"alignmentgroup\":\"True\",\"hovertemplate\":\"color=Melbourne Cricket Ground<br>Total Runs=%{x}<br>Ground=%{y}<extra></extra>\",\"legendgroup\":\"Melbourne Cricket Ground\",\"marker\":{\"color\":\"#EF553B\",\"pattern\":{\"shape\":\"\"},\"line\":{\"color\":\"black\",\"width\":2}},\"name\":\"Melbourne Cricket Ground\",\"offsetgroup\":\"Melbourne Cricket Ground\",\"orientation\":\"h\",\"showlegend\":true,\"textposition\":\"auto\",\"x\":[199.0],\"xaxis\":\"x\",\"y\":[\"Melbourne Cricket Ground\"],\"yaxis\":\"y\",\"type\":\"bar\"},{\"alignmentgroup\":\"True\",\"hovertemplate\":\"color=Multan Cricket Stadium<br>Total Runs=%{x}<br>Ground=%{y}<extra></extra>\",\"legendgroup\":\"Multan Cricket Stadium\",\"marker\":{\"color\":\"#00cc96\",\"pattern\":{\"shape\":\"\"},\"line\":{\"color\":\"black\",\"width\":2}},\"name\":\"Multan Cricket Stadium\",\"offsetgroup\":\"Multan Cricket Stadium\",\"orientation\":\"h\",\"showlegend\":true,\"textposition\":\"auto\",\"x\":[2.0],\"xaxis\":\"x\",\"y\":[\"Multan Cricket Stadium\"],\"yaxis\":\"y\",\"type\":\"bar\"},{\"alignmentgroup\":\"True\",\"hovertemplate\":\"color=Nahar Singh Stadium<br>Total Runs=%{x}<br>Ground=%{y}<extra></extra>\",\"legendgroup\":\"Nahar Singh Stadium\",\"marker\":{\"color\":\"#ab63fa\",\"pattern\":{\"shape\":\"\"},\"line\":{\"color\":\"black\",\"width\":2}},\"name\":\"Nahar Singh Stadium\",\"offsetgroup\":\"Nahar Singh Stadium\",\"orientation\":\"h\",\"showlegend\":true,\"textposition\":\"auto\",\"x\":[38.0],\"xaxis\":\"x\",\"y\":[\"Nahar Singh Stadium\"],\"yaxis\":\"y\",\"type\":\"bar\"},{\"alignmentgroup\":\"True\",\"hovertemplate\":\"color=National Stadium (Karachi)<br>Total Runs=%{x}<br>Ground=%{y}<extra></extra>\",\"legendgroup\":\"National Stadium (Karachi)\",\"marker\":{\"color\":\"#FFA15A\",\"pattern\":{\"shape\":\"\"},\"line\":{\"color\":\"black\",\"width\":2}},\"name\":\"National Stadium (Karachi)\",\"offsetgroup\":\"National Stadium (Karachi)\",\"orientation\":\"h\",\"showlegend\":true,\"textposition\":\"auto\",\"x\":[404.0],\"xaxis\":\"x\",\"y\":[\"National Stadium (Karachi)\"],\"yaxis\":\"y\",\"type\":\"bar\"},{\"alignmentgroup\":\"True\",\"hovertemplate\":\"color=Nehru Stadium (Guwahati)<br>Total Runs=%{x}<br>Ground=%{y}<extra></extra>\",\"legendgroup\":\"Nehru Stadium (Guwahati)\",\"marker\":{\"color\":\"#19d3f3\",\"pattern\":{\"shape\":\"\"},\"line\":{\"color\":\"black\",\"width\":2}},\"name\":\"Nehru Stadium (Guwahati)\",\"offsetgroup\":\"Nehru Stadium (Guwahati)\",\"orientation\":\"h\",\"showlegend\":true,\"textposition\":\"auto\",\"x\":[87.0],\"xaxis\":\"x\",\"y\":[\"Nehru Stadium (Guwahati)\"],\"yaxis\":\"y\",\"type\":\"bar\"},{\"alignmentgroup\":\"True\",\"hovertemplate\":\"color=Nehru Stadium (Kochi)<br>Total Runs=%{x}<br>Ground=%{y}<extra></extra>\",\"legendgroup\":\"Nehru Stadium (Kochi)\",\"marker\":{\"color\":\"#FF6692\",\"pattern\":{\"shape\":\"\"},\"line\":{\"color\":\"black\",\"width\":2}},\"name\":\"Nehru Stadium (Kochi)\",\"offsetgroup\":\"Nehru Stadium (Kochi)\",\"orientation\":\"h\",\"showlegend\":true,\"textposition\":\"auto\",\"x\":[164.0],\"xaxis\":\"x\",\"y\":[\"Nehru Stadium (Kochi)\"],\"yaxis\":\"y\",\"type\":\"bar\"},{\"alignmentgroup\":\"True\",\"hovertemplate\":\"color=Nehru Stadium (Margao)<br>Total Runs=%{x}<br>Ground=%{y}<extra></extra>\",\"legendgroup\":\"Nehru Stadium (Margao)\",\"marker\":{\"color\":\"#B6E880\",\"pattern\":{\"shape\":\"\"},\"line\":{\"color\":\"black\",\"width\":2}},\"name\":\"Nehru Stadium (Margao)\",\"offsetgroup\":\"Nehru Stadium (Margao)\",\"orientation\":\"h\",\"showlegend\":true,\"textposition\":\"auto\",\"x\":[80.0],\"xaxis\":\"x\",\"y\":[\"Nehru Stadium (Margao)\"],\"yaxis\":\"y\",\"type\":\"bar\"},{\"alignmentgroup\":\"True\",\"hovertemplate\":\"color=Nehru Stadium (Pune)<br>Total Runs=%{x}<br>Ground=%{y}<extra></extra>\",\"legendgroup\":\"Nehru Stadium (Pune)\",\"marker\":{\"color\":\"#FF97FF\",\"pattern\":{\"shape\":\"\"},\"line\":{\"color\":\"black\",\"width\":2}},\"name\":\"Nehru Stadium (Pune)\",\"offsetgroup\":\"Nehru Stadium (Pune)\",\"orientation\":\"h\",\"showlegend\":true,\"textposition\":\"auto\",\"x\":[45.0],\"xaxis\":\"x\",\"y\":[\"Nehru Stadium (Pune)\"],\"yaxis\":\"y\",\"type\":\"bar\"},{\"alignmentgroup\":\"True\",\"hovertemplate\":\"color=Newlands<br>Total Runs=%{x}<br>Ground=%{y}<extra></extra>\",\"legendgroup\":\"Newlands\",\"marker\":{\"color\":\"#FECB52\",\"pattern\":{\"shape\":\"\"},\"line\":{\"color\":\"black\",\"width\":2}},\"name\":\"Newlands\",\"offsetgroup\":\"Newlands\",\"orientation\":\"h\",\"showlegend\":true,\"textposition\":\"auto\",\"x\":[70.0],\"xaxis\":\"x\",\"y\":[\"Newlands\"],\"yaxis\":\"y\",\"type\":\"bar\"},{\"alignmentgroup\":\"True\",\"hovertemplate\":\"color=Old Trafford<br>Total Runs=%{x}<br>Ground=%{y}<extra></extra>\",\"legendgroup\":\"Old Trafford\",\"marker\":{\"color\":\"#636efa\",\"pattern\":{\"shape\":\"\"},\"line\":{\"color\":\"black\",\"width\":2}},\"name\":\"Old Trafford\",\"offsetgroup\":\"Old Trafford\",\"orientation\":\"h\",\"showlegend\":true,\"textposition\":\"auto\",\"x\":[120.0],\"xaxis\":\"x\",\"y\":[\"Old Trafford\"],\"yaxis\":\"y\",\"type\":\"bar\"},{\"alignmentgroup\":\"True\",\"hovertemplate\":\"color=Pallekele International Cricket Stadium<br>Total Runs=%{x}<br>Ground=%{y}<extra></extra>\",\"legendgroup\":\"Pallekele International Cricket Stadium\",\"marker\":{\"color\":\"#EF553B\",\"pattern\":{\"shape\":\"\"},\"line\":{\"color\":\"black\",\"width\":2}},\"name\":\"Pallekele International Cricket Stadium\",\"offsetgroup\":\"Pallekele International Cricket Stadium\",\"orientation\":\"h\",\"showlegend\":true,\"textposition\":\"auto\",\"x\":[170.0],\"xaxis\":\"x\",\"y\":[\"Pallekele International Cricket Stadium\"],\"yaxis\":\"y\",\"type\":\"bar\"},{\"alignmentgroup\":\"True\",\"hovertemplate\":\"color=Punjab Cricket Association IS Bindra Stadium<br>Total Runs=%{x}<br>Ground=%{y}<extra></extra>\",\"legendgroup\":\"Punjab Cricket Association IS Bindra Stadium\",\"marker\":{\"color\":\"#00cc96\",\"pattern\":{\"shape\":\"\"},\"line\":{\"color\":\"black\",\"width\":2}},\"name\":\"Punjab Cricket Association IS Bindra Stadium\",\"offsetgroup\":\"Punjab Cricket Association IS Bindra Stadium\",\"orientation\":\"h\",\"showlegend\":true,\"textposition\":\"auto\",\"x\":[363.0],\"xaxis\":\"x\",\"y\":[\"Punjab Cricket Association IS Bindra Stadium\"],\"yaxis\":\"y\",\"type\":\"bar\"},{\"alignmentgroup\":\"True\",\"hovertemplate\":\"color=Queen's Park Oval<br>Total Runs=%{x}<br>Ground=%{y}<extra></extra>\",\"legendgroup\":\"Queen's Park Oval\",\"marker\":{\"color\":\"#ab63fa\",\"pattern\":{\"shape\":\"\"},\"line\":{\"color\":\"black\",\"width\":2}},\"name\":\"Queen's Park Oval\",\"offsetgroup\":\"Queen's Park Oval\",\"orientation\":\"h\",\"showlegend\":true,\"textposition\":\"auto\",\"x\":[156.0],\"xaxis\":\"x\",\"y\":[\"Queen's Park Oval\"],\"yaxis\":\"y\",\"type\":\"bar\"},{\"alignmentgroup\":\"True\",\"hovertemplate\":\"color=Queens Sports Club<br>Total Runs=%{x}<br>Ground=%{y}<extra></extra>\",\"legendgroup\":\"Queens Sports Club\",\"marker\":{\"color\":\"#FFA15A\",\"pattern\":{\"shape\":\"\"},\"line\":{\"color\":\"black\",\"width\":2}},\"name\":\"Queens Sports Club\",\"offsetgroup\":\"Queens Sports Club\",\"orientation\":\"h\",\"showlegend\":true,\"textposition\":\"auto\",\"x\":[2.0],\"xaxis\":\"x\",\"y\":[\"Queens Sports Club\"],\"yaxis\":\"y\",\"type\":\"bar\"},{\"alignmentgroup\":\"True\",\"hovertemplate\":\"color=R Premadasa Stadium<br>Total Runs=%{x}<br>Ground=%{y}<extra></extra>\",\"legendgroup\":\"R Premadasa Stadium\",\"marker\":{\"color\":\"#19d3f3\",\"pattern\":{\"shape\":\"\"},\"line\":{\"color\":\"black\",\"width\":2}},\"name\":\"R Premadasa Stadium\",\"offsetgroup\":\"R Premadasa Stadium\",\"orientation\":\"h\",\"showlegend\":true,\"textposition\":\"auto\",\"x\":[568.0],\"xaxis\":\"x\",\"y\":[\"R Premadasa Stadium\"],\"yaxis\":\"y\",\"type\":\"bar\"},{\"alignmentgroup\":\"True\",\"hovertemplate\":\"color=Rajiv Gandhi International Stadium<br>Total Runs=%{x}<br>Ground=%{y}<extra></extra>\",\"legendgroup\":\"Rajiv Gandhi International Stadium\",\"marker\":{\"color\":\"#FF6692\",\"pattern\":{\"shape\":\"\"},\"line\":{\"color\":\"black\",\"width\":2}},\"name\":\"Rajiv Gandhi International Stadium\",\"offsetgroup\":\"Rajiv Gandhi International Stadium\",\"orientation\":\"h\",\"showlegend\":true,\"textposition\":\"auto\",\"x\":[202.0],\"xaxis\":\"x\",\"y\":[\"Rajiv Gandhi International Stadium\"],\"yaxis\":\"y\",\"type\":\"bar\"},{\"alignmentgroup\":\"True\",\"hovertemplate\":\"color=Rangiri Dambulla International Stadium<br>Total Runs=%{x}<br>Ground=%{y}<extra></extra>\",\"legendgroup\":\"Rangiri Dambulla International Stadium\",\"marker\":{\"color\":\"#B6E880\",\"pattern\":{\"shape\":\"\"},\"line\":{\"color\":\"black\",\"width\":2}},\"name\":\"Rangiri Dambulla International Stadium\",\"offsetgroup\":\"Rangiri Dambulla International Stadium\",\"orientation\":\"h\",\"showlegend\":true,\"textposition\":\"auto\",\"x\":[456.0],\"xaxis\":\"x\",\"y\":[\"Rangiri Dambulla International Stadium\"],\"yaxis\":\"y\",\"type\":\"bar\"},{\"alignmentgroup\":\"True\",\"hovertemplate\":\"color=Rawalpindi Cricket Stadium<br>Total Runs=%{x}<br>Ground=%{y}<extra></extra>\",\"legendgroup\":\"Rawalpindi Cricket Stadium\",\"marker\":{\"color\":\"#FF97FF\",\"pattern\":{\"shape\":\"\"},\"line\":{\"color\":\"black\",\"width\":2}},\"name\":\"Rawalpindi Cricket Stadium\",\"offsetgroup\":\"Rawalpindi Cricket Stadium\",\"orientation\":\"h\",\"showlegend\":true,\"textposition\":\"auto\",\"x\":[0.0],\"xaxis\":\"x\",\"y\":[\"Rawalpindi Cricket Stadium\"],\"yaxis\":\"y\",\"type\":\"bar\"},{\"alignmentgroup\":\"True\",\"hovertemplate\":\"color=Reliance Stadium<br>Total Runs=%{x}<br>Ground=%{y}<extra></extra>\",\"legendgroup\":\"Reliance Stadium\",\"marker\":{\"color\":\"#FECB52\",\"pattern\":{\"shape\":\"\"},\"line\":{\"color\":\"black\",\"width\":2}},\"name\":\"Reliance Stadium\",\"offsetgroup\":\"Reliance Stadium\",\"orientation\":\"h\",\"showlegend\":true,\"textposition\":\"auto\",\"x\":[158.0],\"xaxis\":\"x\",\"y\":[\"Reliance Stadium\"],\"yaxis\":\"y\",\"type\":\"bar\"},{\"alignmentgroup\":\"True\",\"hovertemplate\":\"color=Riverside Ground<br>Total Runs=%{x}<br>Ground=%{y}<extra></extra>\",\"legendgroup\":\"Riverside Ground\",\"marker\":{\"color\":\"#636efa\",\"pattern\":{\"shape\":\"\"},\"line\":{\"color\":\"black\",\"width\":2}},\"name\":\"Riverside Ground\",\"offsetgroup\":\"Riverside Ground\",\"orientation\":\"h\",\"showlegend\":true,\"textposition\":\"auto\",\"x\":[33.0],\"xaxis\":\"x\",\"y\":[\"Riverside Ground\"],\"yaxis\":\"y\",\"type\":\"bar\"},{\"alignmentgroup\":\"True\",\"hovertemplate\":\"color=Sabina Park<br>Total Runs=%{x}<br>Ground=%{y}<extra></extra>\",\"legendgroup\":\"Sabina Park\",\"marker\":{\"color\":\"#EF553B\",\"pattern\":{\"shape\":\"\"},\"line\":{\"color\":\"black\",\"width\":2}},\"name\":\"Sabina Park\",\"offsetgroup\":\"Sabina Park\",\"orientation\":\"h\",\"showlegend\":true,\"textposition\":\"auto\",\"x\":[183.0],\"xaxis\":\"x\",\"y\":[\"Sabina Park\"],\"yaxis\":\"y\",\"type\":\"bar\"},{\"alignmentgroup\":\"True\",\"hovertemplate\":\"color=Sardar Patel Stadium<br>Total Runs=%{x}<br>Ground=%{y}<extra></extra>\",\"legendgroup\":\"Sardar Patel Stadium\",\"marker\":{\"color\":\"#00cc96\",\"pattern\":{\"shape\":\"\"},\"line\":{\"color\":\"black\",\"width\":2}},\"name\":\"Sardar Patel Stadium\",\"offsetgroup\":\"Sardar Patel Stadium\",\"orientation\":\"h\",\"showlegend\":true,\"textposition\":\"auto\",\"x\":[114.0],\"xaxis\":\"x\",\"y\":[\"Sardar Patel Stadium\"],\"yaxis\":\"y\",\"type\":\"bar\"},{\"alignmentgroup\":\"True\",\"hovertemplate\":\"color=Saurashtra Cricket Association Stadium<br>Total Runs=%{x}<br>Ground=%{y}<extra></extra>\",\"legendgroup\":\"Saurashtra Cricket Association Stadium\",\"marker\":{\"color\":\"#ab63fa\",\"pattern\":{\"shape\":\"\"},\"line\":{\"color\":\"black\",\"width\":2}},\"name\":\"Saurashtra Cricket Association Stadium\",\"offsetgroup\":\"Saurashtra Cricket Association Stadium\",\"orientation\":\"h\",\"showlegend\":true,\"textposition\":\"auto\",\"x\":[79.0],\"xaxis\":\"x\",\"y\":[\"Saurashtra Cricket Association Stadium\"],\"yaxis\":\"y\",\"type\":\"bar\"},{\"alignmentgroup\":\"True\",\"hovertemplate\":\"color=Sawai Mansingh Stadium<br>Total Runs=%{x}<br>Ground=%{y}<extra></extra>\",\"legendgroup\":\"Sawai Mansingh Stadium\",\"marker\":{\"color\":\"#FFA15A\",\"pattern\":{\"shape\":\"\"},\"line\":{\"color\":\"black\",\"width\":2}},\"name\":\"Sawai Mansingh Stadium\",\"offsetgroup\":\"Sawai Mansingh Stadium\",\"orientation\":\"h\",\"showlegend\":true,\"textposition\":\"auto\",\"x\":[240.0],\"xaxis\":\"x\",\"y\":[\"Sawai Mansingh Stadium\"],\"yaxis\":\"y\",\"type\":\"bar\"},{\"alignmentgroup\":\"True\",\"hovertemplate\":\"color=Sector 16 Stadium<br>Total Runs=%{x}<br>Ground=%{y}<extra></extra>\",\"legendgroup\":\"Sector 16 Stadium\",\"marker\":{\"color\":\"#19d3f3\",\"pattern\":{\"shape\":\"\"},\"line\":{\"color\":\"black\",\"width\":2}},\"name\":\"Sector 16 Stadium\",\"offsetgroup\":\"Sector 16 Stadium\",\"orientation\":\"h\",\"showlegend\":true,\"textposition\":\"auto\",\"x\":[50.0],\"xaxis\":\"x\",\"y\":[\"Sector 16 Stadium\"],\"yaxis\":\"y\",\"type\":\"bar\"},{\"alignmentgroup\":\"True\",\"hovertemplate\":\"color=Seddon Park<br>Total Runs=%{x}<br>Ground=%{y}<extra></extra>\",\"legendgroup\":\"Seddon Park\",\"marker\":{\"color\":\"#FF6692\",\"pattern\":{\"shape\":\"\"},\"line\":{\"color\":\"black\",\"width\":2}},\"name\":\"Seddon Park\",\"offsetgroup\":\"Seddon Park\",\"orientation\":\"h\",\"showlegend\":true,\"textposition\":\"auto\",\"x\":[135.0],\"xaxis\":\"x\",\"y\":[\"Seddon Park\"],\"yaxis\":\"y\",\"type\":\"bar\"},{\"alignmentgroup\":\"True\",\"hovertemplate\":\"color=Sheikh Zayed Stadium<br>Total Runs=%{x}<br>Ground=%{y}<extra></extra>\",\"legendgroup\":\"Sheikh Zayed Stadium\",\"marker\":{\"color\":\"#B6E880\",\"pattern\":{\"shape\":\"\"},\"line\":{\"color\":\"black\",\"width\":2}},\"name\":\"Sheikh Zayed Stadium\",\"offsetgroup\":\"Sheikh Zayed Stadium\",\"orientation\":\"h\",\"showlegend\":true,\"textposition\":\"auto\",\"x\":[62.0],\"xaxis\":\"x\",\"y\":[\"Sheikh Zayed Stadium\"],\"yaxis\":\"y\",\"type\":\"bar\"},{\"alignmentgroup\":\"True\",\"hovertemplate\":\"color=Shere Bangla National Stadium<br>Total Runs=%{x}<br>Ground=%{y}<extra></extra>\",\"legendgroup\":\"Shere Bangla National Stadium\",\"marker\":{\"color\":\"#FF97FF\",\"pattern\":{\"shape\":\"\"},\"line\":{\"color\":\"black\",\"width\":2}},\"name\":\"Shere Bangla National Stadium\",\"offsetgroup\":\"Shere Bangla National Stadium\",\"orientation\":\"h\",\"showlegend\":true,\"textposition\":\"auto\",\"x\":[591.0],\"xaxis\":\"x\",\"y\":[\"Shere Bangla National Stadium\"],\"yaxis\":\"y\",\"type\":\"bar\"},{\"alignmentgroup\":\"True\",\"hovertemplate\":\"color=Sinhalese Sports Club Ground<br>Total Runs=%{x}<br>Ground=%{y}<extra></extra>\",\"legendgroup\":\"Sinhalese Sports Club Ground\",\"marker\":{\"color\":\"#FECB52\",\"pattern\":{\"shape\":\"\"},\"line\":{\"color\":\"black\",\"width\":2}},\"name\":\"Sinhalese Sports Club Ground\",\"offsetgroup\":\"Sinhalese Sports Club Ground\",\"orientation\":\"h\",\"showlegend\":true,\"textposition\":\"auto\",\"x\":[0.0],\"xaxis\":\"x\",\"y\":[\"Sinhalese Sports Club Ground\"],\"yaxis\":\"y\",\"type\":\"bar\"},{\"alignmentgroup\":\"True\",\"hovertemplate\":\"color=Sir Vivian Richards Stadium<br>Total Runs=%{x}<br>Ground=%{y}<extra></extra>\",\"legendgroup\":\"Sir Vivian Richards Stadium\",\"marker\":{\"color\":\"#636efa\",\"pattern\":{\"shape\":\"\"},\"line\":{\"color\":\"black\",\"width\":2}},\"name\":\"Sir Vivian Richards Stadium\",\"offsetgroup\":\"Sir Vivian Richards Stadium\",\"orientation\":\"h\",\"showlegend\":true,\"textposition\":\"auto\",\"x\":[132.0],\"xaxis\":\"x\",\"y\":[\"Sir Vivian Richards Stadium\"],\"yaxis\":\"y\",\"type\":\"bar\"},{\"alignmentgroup\":\"True\",\"hovertemplate\":\"color=Sophia Gardens<br>Total Runs=%{x}<br>Ground=%{y}<extra></extra>\",\"legendgroup\":\"Sophia Gardens\",\"marker\":{\"color\":\"#EF553B\",\"pattern\":{\"shape\":\"\"},\"line\":{\"color\":\"black\",\"width\":2}},\"name\":\"Sophia Gardens\",\"offsetgroup\":\"Sophia Gardens\",\"orientation\":\"h\",\"showlegend\":true,\"textposition\":\"auto\",\"x\":[129.0],\"xaxis\":\"x\",\"y\":[\"Sophia Gardens\"],\"yaxis\":\"y\",\"type\":\"bar\"},{\"alignmentgroup\":\"True\",\"hovertemplate\":\"color=St George's Park<br>Total Runs=%{x}<br>Ground=%{y}<extra></extra>\",\"legendgroup\":\"St George's Park\",\"marker\":{\"color\":\"#00cc96\",\"pattern\":{\"shape\":\"\"},\"line\":{\"color\":\"black\",\"width\":2}},\"name\":\"St George's Park\",\"offsetgroup\":\"St George's Park\",\"orientation\":\"h\",\"showlegend\":true,\"textposition\":\"auto\",\"x\":[41.0],\"xaxis\":\"x\",\"y\":[\"St George's Park\"],\"yaxis\":\"y\",\"type\":\"bar\"},{\"alignmentgroup\":\"True\",\"hovertemplate\":\"color=SuperSport Park<br>Total Runs=%{x}<br>Ground=%{y}<extra></extra>\",\"legendgroup\":\"SuperSport Park\",\"marker\":{\"color\":\"#ab63fa\",\"pattern\":{\"shape\":\"\"},\"line\":{\"color\":\"black\",\"width\":2}},\"name\":\"SuperSport Park\",\"offsetgroup\":\"SuperSport Park\",\"orientation\":\"h\",\"showlegend\":true,\"textposition\":\"auto\",\"x\":[52.0],\"xaxis\":\"x\",\"y\":[\"SuperSport Park\"],\"yaxis\":\"y\",\"type\":\"bar\"},{\"alignmentgroup\":\"True\",\"hovertemplate\":\"color=Sydney Cricket Ground<br>Total Runs=%{x}<br>Ground=%{y}<extra></extra>\",\"legendgroup\":\"Sydney Cricket Ground\",\"marker\":{\"color\":\"#FFA15A\",\"pattern\":{\"shape\":\"\"},\"line\":{\"color\":\"black\",\"width\":2}},\"name\":\"Sydney Cricket Ground\",\"offsetgroup\":\"Sydney Cricket Ground\",\"orientation\":\"h\",\"showlegend\":true,\"textposition\":\"auto\",\"x\":[215.0],\"xaxis\":\"x\",\"y\":[\"Sydney Cricket Ground\"],\"yaxis\":\"y\",\"type\":\"bar\"},{\"alignmentgroup\":\"True\",\"hovertemplate\":\"color=The Rose Bowl<br>Total Runs=%{x}<br>Ground=%{y}<extra></extra>\",\"legendgroup\":\"The Rose Bowl\",\"marker\":{\"color\":\"#19d3f3\",\"pattern\":{\"shape\":\"\"},\"line\":{\"color\":\"black\",\"width\":2}},\"name\":\"The Rose Bowl\",\"offsetgroup\":\"The Rose Bowl\",\"orientation\":\"h\",\"showlegend\":true,\"textposition\":\"auto\",\"x\":[87.0],\"xaxis\":\"x\",\"y\":[\"The Rose Bowl\"],\"yaxis\":\"y\",\"type\":\"bar\"},{\"alignmentgroup\":\"True\",\"hovertemplate\":\"color=Titwood<br>Total Runs=%{x}<br>Ground=%{y}<extra></extra>\",\"legendgroup\":\"Titwood\",\"marker\":{\"color\":\"#FF6692\",\"pattern\":{\"shape\":\"\"},\"line\":{\"color\":\"black\",\"width\":2}},\"name\":\"Titwood\",\"offsetgroup\":\"Titwood\",\"orientation\":\"h\",\"showlegend\":true,\"textposition\":\"auto\",\"x\":[0.0],\"xaxis\":\"x\",\"y\":[\"Titwood\"],\"yaxis\":\"y\",\"type\":\"bar\"},{\"alignmentgroup\":\"True\",\"hovertemplate\":\"color=Trent Bridge<br>Total Runs=%{x}<br>Ground=%{y}<extra></extra>\",\"legendgroup\":\"Trent Bridge\",\"marker\":{\"color\":\"#B6E880\",\"pattern\":{\"shape\":\"\"},\"line\":{\"color\":\"black\",\"width\":2}},\"name\":\"Trent Bridge\",\"offsetgroup\":\"Trent Bridge\",\"orientation\":\"h\",\"showlegend\":true,\"textposition\":\"auto\",\"x\":[0.0],\"xaxis\":\"x\",\"y\":[\"Trent Bridge\"],\"yaxis\":\"y\",\"type\":\"bar\"},{\"alignmentgroup\":\"True\",\"hovertemplate\":\"color=Vidarbha Cricket Association Ground<br>Total Runs=%{x}<br>Ground=%{y}<extra></extra>\",\"legendgroup\":\"Vidarbha Cricket Association Ground\",\"marker\":{\"color\":\"#FF97FF\",\"pattern\":{\"shape\":\"\"},\"line\":{\"color\":\"black\",\"width\":2}},\"name\":\"Vidarbha Cricket Association Ground\",\"offsetgroup\":\"Vidarbha Cricket Association Ground\",\"orientation\":\"h\",\"showlegend\":true,\"textposition\":\"auto\",\"x\":[126.0],\"xaxis\":\"x\",\"y\":[\"Vidarbha Cricket Association Ground\"],\"yaxis\":\"y\",\"type\":\"bar\"},{\"alignmentgroup\":\"True\",\"hovertemplate\":\"color=Vidarbha Cricket Association Stadium<br>Total Runs=%{x}<br>Ground=%{y}<extra></extra>\",\"legendgroup\":\"Vidarbha Cricket Association Stadium\",\"marker\":{\"color\":\"#FECB52\",\"pattern\":{\"shape\":\"\"},\"line\":{\"color\":\"black\",\"width\":2}},\"name\":\"Vidarbha Cricket Association Stadium\",\"offsetgroup\":\"Vidarbha Cricket Association Stadium\",\"orientation\":\"h\",\"showlegend\":true,\"textposition\":\"auto\",\"x\":[268.0],\"xaxis\":\"x\",\"y\":[\"Vidarbha Cricket Association Stadium\"],\"yaxis\":\"y\",\"type\":\"bar\"},{\"alignmentgroup\":\"True\",\"hovertemplate\":\"color=WACA Ground<br>Total Runs=%{x}<br>Ground=%{y}<extra></extra>\",\"legendgroup\":\"WACA Ground\",\"marker\":{\"color\":\"#636efa\",\"pattern\":{\"shape\":\"\"},\"line\":{\"color\":\"black\",\"width\":2}},\"name\":\"WACA Ground\",\"offsetgroup\":\"WACA Ground\",\"orientation\":\"h\",\"showlegend\":true,\"textposition\":\"auto\",\"x\":[84.0],\"xaxis\":\"x\",\"y\":[\"WACA Ground\"],\"yaxis\":\"y\",\"type\":\"bar\"},{\"alignmentgroup\":\"True\",\"hovertemplate\":\"color=Wanderers Stadium<br>Total Runs=%{x}<br>Ground=%{y}<extra></extra>\",\"legendgroup\":\"Wanderers Stadium\",\"marker\":{\"color\":\"#EF553B\",\"pattern\":{\"shape\":\"\"},\"line\":{\"color\":\"black\",\"width\":2}},\"name\":\"Wanderers Stadium\",\"offsetgroup\":\"Wanderers Stadium\",\"orientation\":\"h\",\"showlegend\":true,\"textposition\":\"auto\",\"x\":[145.0],\"xaxis\":\"x\",\"y\":[\"Wanderers Stadium\"],\"yaxis\":\"y\",\"type\":\"bar\"},{\"alignmentgroup\":\"True\",\"hovertemplate\":\"color=Wankhede Stadium<br>Total Runs=%{x}<br>Ground=%{y}<extra></extra>\",\"legendgroup\":\"Wankhede Stadium\",\"marker\":{\"color\":\"#00cc96\",\"pattern\":{\"shape\":\"\"},\"line\":{\"color\":\"black\",\"width\":2}},\"name\":\"Wankhede Stadium\",\"offsetgroup\":\"Wankhede Stadium\",\"orientation\":\"h\",\"showlegend\":true,\"textposition\":\"auto\",\"x\":[175.0],\"xaxis\":\"x\",\"y\":[\"Wankhede Stadium\"],\"yaxis\":\"y\",\"type\":\"bar\"},{\"alignmentgroup\":\"True\",\"hovertemplate\":\"color=Warner Park<br>Total Runs=%{x}<br>Ground=%{y}<extra></extra>\",\"legendgroup\":\"Warner Park\",\"marker\":{\"color\":\"#ab63fa\",\"pattern\":{\"shape\":\"\"},\"line\":{\"color\":\"black\",\"width\":2}},\"name\":\"Warner Park\",\"offsetgroup\":\"Warner Park\",\"orientation\":\"h\",\"showlegend\":true,\"textposition\":\"auto\",\"x\":[15.0],\"xaxis\":\"x\",\"y\":[\"Warner Park\"],\"yaxis\":\"y\",\"type\":\"bar\"},{\"alignmentgroup\":\"True\",\"hovertemplate\":\"color=Westpac Stadium<br>Total Runs=%{x}<br>Ground=%{y}<extra></extra>\",\"legendgroup\":\"Westpac Stadium\",\"marker\":{\"color\":\"#FFA15A\",\"pattern\":{\"shape\":\"\"},\"line\":{\"color\":\"black\",\"width\":2}},\"name\":\"Westpac Stadium\",\"offsetgroup\":\"Westpac Stadium\",\"orientation\":\"h\",\"showlegend\":true,\"textposition\":\"auto\",\"x\":[71.0],\"xaxis\":\"x\",\"y\":[\"Westpac Stadium\"],\"yaxis\":\"y\",\"type\":\"bar\"}],                        {\"template\":{\"data\":{\"bar\":[{\"error_x\":{\"color\":\"#2a3f5f\"},\"error_y\":{\"color\":\"#2a3f5f\"},\"marker\":{\"line\":{\"color\":\"#E5ECF6\",\"width\":0.5},\"pattern\":{\"fillmode\":\"overlay\",\"size\":10,\"solidity\":0.2}},\"type\":\"bar\"}],\"barpolar\":[{\"marker\":{\"line\":{\"color\":\"#E5ECF6\",\"width\":0.5},\"pattern\":{\"fillmode\":\"overlay\",\"size\":10,\"solidity\":0.2}},\"type\":\"barpolar\"}],\"carpet\":[{\"aaxis\":{\"endlinecolor\":\"#2a3f5f\",\"gridcolor\":\"white\",\"linecolor\":\"white\",\"minorgridcolor\":\"white\",\"startlinecolor\":\"#2a3f5f\"},\"baxis\":{\"endlinecolor\":\"#2a3f5f\",\"gridcolor\":\"white\",\"linecolor\":\"white\",\"minorgridcolor\":\"white\",\"startlinecolor\":\"#2a3f5f\"},\"type\":\"carpet\"}],\"choropleth\":[{\"colorbar\":{\"outlinewidth\":0,\"ticks\":\"\"},\"type\":\"choropleth\"}],\"contour\":[{\"colorbar\":{\"outlinewidth\":0,\"ticks\":\"\"},\"colorscale\":[[0.0,\"#0d0887\"],[0.1111111111111111,\"#46039f\"],[0.2222222222222222,\"#7201a8\"],[0.3333333333333333,\"#9c179e\"],[0.4444444444444444,\"#bd3786\"],[0.5555555555555556,\"#d8576b\"],[0.6666666666666666,\"#ed7953\"],[0.7777777777777778,\"#fb9f3a\"],[0.8888888888888888,\"#fdca26\"],[1.0,\"#f0f921\"]],\"type\":\"contour\"}],\"contourcarpet\":[{\"colorbar\":{\"outlinewidth\":0,\"ticks\":\"\"},\"type\":\"contourcarpet\"}],\"heatmap\":[{\"colorbar\":{\"outlinewidth\":0,\"ticks\":\"\"},\"colorscale\":[[0.0,\"#0d0887\"],[0.1111111111111111,\"#46039f\"],[0.2222222222222222,\"#7201a8\"],[0.3333333333333333,\"#9c179e\"],[0.4444444444444444,\"#bd3786\"],[0.5555555555555556,\"#d8576b\"],[0.6666666666666666,\"#ed7953\"],[0.7777777777777778,\"#fb9f3a\"],[0.8888888888888888,\"#fdca26\"],[1.0,\"#f0f921\"]],\"type\":\"heatmap\"}],\"heatmapgl\":[{\"colorbar\":{\"outlinewidth\":0,\"ticks\":\"\"},\"colorscale\":[[0.0,\"#0d0887\"],[0.1111111111111111,\"#46039f\"],[0.2222222222222222,\"#7201a8\"],[0.3333333333333333,\"#9c179e\"],[0.4444444444444444,\"#bd3786\"],[0.5555555555555556,\"#d8576b\"],[0.6666666666666666,\"#ed7953\"],[0.7777777777777778,\"#fb9f3a\"],[0.8888888888888888,\"#fdca26\"],[1.0,\"#f0f921\"]],\"type\":\"heatmapgl\"}],\"histogram\":[{\"marker\":{\"pattern\":{\"fillmode\":\"overlay\",\"size\":10,\"solidity\":0.2}},\"type\":\"histogram\"}],\"histogram2d\":[{\"colorbar\":{\"outlinewidth\":0,\"ticks\":\"\"},\"colorscale\":[[0.0,\"#0d0887\"],[0.1111111111111111,\"#46039f\"],[0.2222222222222222,\"#7201a8\"],[0.3333333333333333,\"#9c179e\"],[0.4444444444444444,\"#bd3786\"],[0.5555555555555556,\"#d8576b\"],[0.6666666666666666,\"#ed7953\"],[0.7777777777777778,\"#fb9f3a\"],[0.8888888888888888,\"#fdca26\"],[1.0,\"#f0f921\"]],\"type\":\"histogram2d\"}],\"histogram2dcontour\":[{\"colorbar\":{\"outlinewidth\":0,\"ticks\":\"\"},\"colorscale\":[[0.0,\"#0d0887\"],[0.1111111111111111,\"#46039f\"],[0.2222222222222222,\"#7201a8\"],[0.3333333333333333,\"#9c179e\"],[0.4444444444444444,\"#bd3786\"],[0.5555555555555556,\"#d8576b\"],[0.6666666666666666,\"#ed7953\"],[0.7777777777777778,\"#fb9f3a\"],[0.8888888888888888,\"#fdca26\"],[1.0,\"#f0f921\"]],\"type\":\"histogram2dcontour\"}],\"mesh3d\":[{\"colorbar\":{\"outlinewidth\":0,\"ticks\":\"\"},\"type\":\"mesh3d\"}],\"parcoords\":[{\"line\":{\"colorbar\":{\"outlinewidth\":0,\"ticks\":\"\"}},\"type\":\"parcoords\"}],\"pie\":[{\"automargin\":true,\"type\":\"pie\"}],\"scatter\":[{\"marker\":{\"colorbar\":{\"outlinewidth\":0,\"ticks\":\"\"}},\"type\":\"scatter\"}],\"scatter3d\":[{\"line\":{\"colorbar\":{\"outlinewidth\":0,\"ticks\":\"\"}},\"marker\":{\"colorbar\":{\"outlinewidth\":0,\"ticks\":\"\"}},\"type\":\"scatter3d\"}],\"scattercarpet\":[{\"marker\":{\"colorbar\":{\"outlinewidth\":0,\"ticks\":\"\"}},\"type\":\"scattercarpet\"}],\"scattergeo\":[{\"marker\":{\"colorbar\":{\"outlinewidth\":0,\"ticks\":\"\"}},\"type\":\"scattergeo\"}],\"scattergl\":[{\"marker\":{\"colorbar\":{\"outlinewidth\":0,\"ticks\":\"\"}},\"type\":\"scattergl\"}],\"scattermapbox\":[{\"marker\":{\"colorbar\":{\"outlinewidth\":0,\"ticks\":\"\"}},\"type\":\"scattermapbox\"}],\"scatterpolar\":[{\"marker\":{\"colorbar\":{\"outlinewidth\":0,\"ticks\":\"\"}},\"type\":\"scatterpolar\"}],\"scatterpolargl\":[{\"marker\":{\"colorbar\":{\"outlinewidth\":0,\"ticks\":\"\"}},\"type\":\"scatterpolargl\"}],\"scatterternary\":[{\"marker\":{\"colorbar\":{\"outlinewidth\":0,\"ticks\":\"\"}},\"type\":\"scatterternary\"}],\"surface\":[{\"colorbar\":{\"outlinewidth\":0,\"ticks\":\"\"},\"colorscale\":[[0.0,\"#0d0887\"],[0.1111111111111111,\"#46039f\"],[0.2222222222222222,\"#7201a8\"],[0.3333333333333333,\"#9c179e\"],[0.4444444444444444,\"#bd3786\"],[0.5555555555555556,\"#d8576b\"],[0.6666666666666666,\"#ed7953\"],[0.7777777777777778,\"#fb9f3a\"],[0.8888888888888888,\"#fdca26\"],[1.0,\"#f0f921\"]],\"type\":\"surface\"}],\"table\":[{\"cells\":{\"fill\":{\"color\":\"#EBF0F8\"},\"line\":{\"color\":\"white\"}},\"header\":{\"fill\":{\"color\":\"#C8D4E3\"},\"line\":{\"color\":\"white\"}},\"type\":\"table\"}]},\"layout\":{\"annotationdefaults\":{\"arrowcolor\":\"#2a3f5f\",\"arrowhead\":0,\"arrowwidth\":1},\"autotypenumbers\":\"strict\",\"coloraxis\":{\"colorbar\":{\"outlinewidth\":0,\"ticks\":\"\"}},\"colorscale\":{\"diverging\":[[0,\"#8e0152\"],[0.1,\"#c51b7d\"],[0.2,\"#de77ae\"],[0.3,\"#f1b6da\"],[0.4,\"#fde0ef\"],[0.5,\"#f7f7f7\"],[0.6,\"#e6f5d0\"],[0.7,\"#b8e186\"],[0.8,\"#7fbc41\"],[0.9,\"#4d9221\"],[1,\"#276419\"]],\"sequential\":[[0.0,\"#0d0887\"],[0.1111111111111111,\"#46039f\"],[0.2222222222222222,\"#7201a8\"],[0.3333333333333333,\"#9c179e\"],[0.4444444444444444,\"#bd3786\"],[0.5555555555555556,\"#d8576b\"],[0.6666666666666666,\"#ed7953\"],[0.7777777777777778,\"#fb9f3a\"],[0.8888888888888888,\"#fdca26\"],[1.0,\"#f0f921\"]],\"sequentialminus\":[[0.0,\"#0d0887\"],[0.1111111111111111,\"#46039f\"],[0.2222222222222222,\"#7201a8\"],[0.3333333333333333,\"#9c179e\"],[0.4444444444444444,\"#bd3786\"],[0.5555555555555556,\"#d8576b\"],[0.6666666666666666,\"#ed7953\"],[0.7777777777777778,\"#fb9f3a\"],[0.8888888888888888,\"#fdca26\"],[1.0,\"#f0f921\"]]},\"colorway\":[\"#636efa\",\"#EF553B\",\"#00cc96\",\"#ab63fa\",\"#FFA15A\",\"#19d3f3\",\"#FF6692\",\"#B6E880\",\"#FF97FF\",\"#FECB52\"],\"font\":{\"color\":\"#2a3f5f\"},\"geo\":{\"bgcolor\":\"white\",\"lakecolor\":\"white\",\"landcolor\":\"#E5ECF6\",\"showlakes\":true,\"showland\":true,\"subunitcolor\":\"white\"},\"hoverlabel\":{\"align\":\"left\"},\"hovermode\":\"closest\",\"mapbox\":{\"style\":\"light\"},\"paper_bgcolor\":\"white\",\"plot_bgcolor\":\"#E5ECF6\",\"polar\":{\"angularaxis\":{\"gridcolor\":\"white\",\"linecolor\":\"white\",\"ticks\":\"\"},\"bgcolor\":\"#E5ECF6\",\"radialaxis\":{\"gridcolor\":\"white\",\"linecolor\":\"white\",\"ticks\":\"\"}},\"scene\":{\"xaxis\":{\"backgroundcolor\":\"#E5ECF6\",\"gridcolor\":\"white\",\"gridwidth\":2,\"linecolor\":\"white\",\"showbackground\":true,\"ticks\":\"\",\"zerolinecolor\":\"white\"},\"yaxis\":{\"backgroundcolor\":\"#E5ECF6\",\"gridcolor\":\"white\",\"gridwidth\":2,\"linecolor\":\"white\",\"showbackground\":true,\"ticks\":\"\",\"zerolinecolor\":\"white\"},\"zaxis\":{\"backgroundcolor\":\"#E5ECF6\",\"gridcolor\":\"white\",\"gridwidth\":2,\"linecolor\":\"white\",\"showbackground\":true,\"ticks\":\"\",\"zerolinecolor\":\"white\"}},\"shapedefaults\":{\"line\":{\"color\":\"#2a3f5f\"}},\"ternary\":{\"aaxis\":{\"gridcolor\":\"white\",\"linecolor\":\"white\",\"ticks\":\"\"},\"baxis\":{\"gridcolor\":\"white\",\"linecolor\":\"white\",\"ticks\":\"\"},\"bgcolor\":\"#E5ECF6\",\"caxis\":{\"gridcolor\":\"white\",\"linecolor\":\"white\",\"ticks\":\"\"}},\"title\":{\"x\":0.05},\"xaxis\":{\"automargin\":true,\"gridcolor\":\"white\",\"linecolor\":\"white\",\"ticks\":\"\",\"title\":{\"standoff\":15},\"zerolinecolor\":\"white\",\"zerolinewidth\":2},\"yaxis\":{\"automargin\":true,\"gridcolor\":\"white\",\"linecolor\":\"white\",\"ticks\":\"\",\"title\":{\"standoff\":15},\"zerolinecolor\":\"white\",\"zerolinewidth\":2}}},\"xaxis\":{\"anchor\":\"y\",\"domain\":[0.0,1.0],\"title\":{\"text\":\"Total Runs\"}},\"yaxis\":{\"anchor\":\"x\",\"domain\":[0.0,1.0],\"title\":{\"text\":\"Ground\"},\"type\":\"category\",\"categoryorder\":\"total ascending\"},\"legend\":{\"title\":{\"text\":\"color\"},\"tracegroupgap\":0},\"title\":{\"text\":\"Total Runs Scored in each Ground\"},\"barmode\":\"relative\"},                        {\"responsive\": true}                    ).then(function(){\n",
       "                            \n",
       "var gd = document.getElementById('58c74732-6d6c-49d6-9f61-ba0558cf7dbb');\n",
       "var x = new MutationObserver(function (mutations, observer) {{\n",
       "        var display = window.getComputedStyle(gd).display;\n",
       "        if (!display || display === 'none') {{\n",
       "            console.log([gd, 'removed!']);\n",
       "            Plotly.purge(gd);\n",
       "            observer.disconnect();\n",
       "        }}\n",
       "}});\n",
       "\n",
       "// Listen for the removal of the full notebook cells\n",
       "var notebookContainer = gd.closest('#notebook-container');\n",
       "if (notebookContainer) {{\n",
       "    x.observe(notebookContainer, {childList: true});\n",
       "}}\n",
       "\n",
       "// Listen for the clearing of the current output cell\n",
       "var outputEl = gd.closest('.output');\n",
       "if (outputEl) {{\n",
       "    x.observe(outputEl, {childList: true});\n",
       "}}\n",
       "\n",
       "                        })                };                });            </script>        </div>"
      ]
     },
     "metadata": {},
     "output_type": "display_data"
    }
   ],
   "source": [
    "value = data.groupby('Ground')['Runs'].sum().values\n",
    "label = data.groupby('Ground')['Runs'].sum().index\n",
    "\n",
    "fig = px.bar(data_frame=df, y=label, x=value, title=\"Total Runs Scored in each Ground\",\n",
    "             labels={\"x\": \"Total Runs\", \"y\": \"Ground\"}, color=label)\n",
    "\n",
    "fig.update_traces(marker=dict(line=dict(color='black', width=2)))\n",
    "fig.update_yaxes(type='category', categoryorder='total ascending')\n",
    "\n",
    "fig.show()"
   ]
  },
  {
   "cell_type": "code",
   "execution_count": 86,
   "id": "2b6384e0",
   "metadata": {},
   "outputs": [
    {
     "data": {
      "image/png": "[encoded data removed]",
      "text/plain": [
       "<Figure size 720x432 with 1 Axes>"
      ]
     },
     "metadata": {
      "needs_background": "light"
     },
     "output_type": "display_data"
    }
   ],
   "source": [
    "value = data.groupby('Versus')['Runs'].mean().values\n",
    "label = data.groupby('Versus')['Runs'].sum().index\n",
    "\n",
    "plt.figure(figsize=(10, 6))\n",
    "sns.scatterplot(data=df, x=value, y=label, color='black')\n",
    "plt.xticks(rotation=90)\n",
    "plt.xlabel('Average')\n",
    "plt.ylabel('Team')\n",
    "plt.title('Average Score Against Each Team')\n",
    "plt.show()"
   ]
  },
  {
   "cell_type": "code",
   "execution_count": 93,
   "id": "5d6cc752",
   "metadata": {},
   "outputs": [
    {
     "data": {
      "application/vnd.plotly.v1+json": {
       "config": {
        "plotlyServerURL": "https://plot.ly"
       },
       "data": [
        {
         "alignmentgroup": "True",
         "hovertemplate": "color=ACA Africa XI<br>Strike Rate=%{x}<br>Team=%{y}<extra></extra>",
         "legendgroup": "ACA Africa XI",
         "marker": {
          "color": "#636efa",
          "line": {
           "color": "black",
           "width": 2
          },
          "pattern": {
           "shape": ""
          }
         },
         "name": "ACA Africa XI",
         "offsetgroup": "ACA Africa XI",
         "orientation": "h",
         "showlegend": true,
         "textposition": "auto",
         "type": "bar",
         "x": [
          93.38
         ],
         "xaxis": "x",
         "y": [
          "ACA Africa XI"
         ],
         "yaxis": "y"
        },
        {
         "alignmentgroup": "True",
         "hovertemplate": "color=Afghanistan<br>Strike Rate=%{x}<br>Team=%{y}<extra></extra>",
         "legendgroup": "Afghanistan",
         "marker": {
          "color": "#EF553B",
          "line": {
           "color": "black",
           "width": 2
          },
          "pattern": {
           "shape": ""
          }
         },
         "name": "Afghanistan",
         "offsetgroup": "Afghanistan",
         "orientation": "h",
         "showlegend": true,
         "textposition": "auto",
         "type": "bar",
         "x": [
          50.455
         ],
         "xaxis": "x",
         "y": [
          "Afghanistan"
         ],
         "yaxis": "y"
        },
        {
         "alignmentgroup": "True",
         "hovertemplate": "color=Australia<br>Strike Rate=%{x}<br>Team=%{y}<extra></extra>",
         "legendgroup": "Australia",
         "marker": {
          "color": "#00cc96",
          "line": {
           "color": "black",
           "width": 2
          },
          "pattern": {
           "shape": ""
          }
         },
         "name": "Australia",
         "offsetgroup": "Australia",
         "orientation": "h",
         "showlegend": true,
         "textposition": "auto",
         "type": "bar",
         "x": [
          82.43479166666667
         ],
         "xaxis": "x",
         "y": [
          "Australia"
         ],
         "yaxis": "y"
        },
        {
         "alignmentgroup": "True",
         "hovertemplate": "color=Bangladesh<br>Strike Rate=%{x}<br>Team=%{y}<extra></extra>",
         "legendgroup": "Bangladesh",
         "marker": {
          "color": "#ab63fa",
          "line": {
           "color": "black",
           "width": 2
          },
          "pattern": {
           "shape": ""
          }
         },
         "name": "Bangladesh",
         "offsetgroup": "Bangladesh",
         "orientation": "h",
         "showlegend": true,
         "textposition": "auto",
         "type": "bar",
         "x": [
          94.11882352941177
         ],
         "xaxis": "x",
         "y": [
          "Bangladesh"
         ],
         "yaxis": "y"
        },
        {
         "alignmentgroup": "True",
         "hovertemplate": "color=Bermuda<br>Strike Rate=%{x}<br>Team=%{y}<extra></extra>",
         "legendgroup": "Bermuda",
         "marker": {
          "color": "#FFA15A",
          "line": {
           "color": "black",
           "width": 2
          },
          "pattern": {
           "shape": ""
          }
         },
         "name": "Bermuda",
         "offsetgroup": "Bermuda",
         "orientation": "h",
         "showlegend": true,
         "textposition": "auto",
         "type": "bar",
         "x": [
          116
         ],
         "xaxis": "x",
         "y": [
          "Bermuda"
         ],
         "yaxis": "y"
        },
        {
         "alignmentgroup": "True",
         "hovertemplate": "color=England<br>Strike Rate=%{x}<br>Team=%{y}<extra></extra>",
         "legendgroup": "England",
         "marker": {
          "color": "#19d3f3",
          "line": {
           "color": "black",
           "width": 2
          },
          "pattern": {
           "shape": ""
          }
         },
         "name": "England",
         "offsetgroup": "England",
         "orientation": "h",
         "showlegend": true,
         "textposition": "auto",
         "type": "bar",
         "x": [
          92.65522727272727
         ],
         "xaxis": "x",
         "y": [
          "England"
         ],
         "yaxis": "y"
        },
        {
         "alignmentgroup": "True",
         "hovertemplate": "color=Hong Kong<br>Strike Rate=%{x}<br>Team=%{y}<extra></extra>",
         "legendgroup": "Hong Kong",
         "marker": {
          "color": "#FF6692",
          "line": {
           "color": "black",
           "width": 2
          },
          "pattern": {
           "shape": ""
          }
         },
         "name": "Hong Kong",
         "offsetgroup": "Hong Kong",
         "orientation": "h",
         "showlegend": true,
         "textposition": "auto",
         "type": "bar",
         "x": [
          56.77
         ],
         "xaxis": "x",
         "y": [
          "Hong Kong"
         ],
         "yaxis": "y"
        },
        {
         "alignmentgroup": "True",
         "hovertemplate": "color=Ireland<br>Strike Rate=%{x}<br>Team=%{y}<extra></extra>",
         "legendgroup": "Ireland",
         "marker": {
          "color": "#B6E880",
          "line": {
           "color": "black",
           "width": 2
          },
          "pattern": {
           "shape": ""
          }
         },
         "name": "Ireland",
         "offsetgroup": "Ireland",
         "orientation": "h",
         "showlegend": true,
         "textposition": "auto",
         "type": "bar",
         "x": [
          68
         ],
         "xaxis": "x",
         "y": [
          "Ireland"
         ],
         "yaxis": "y"
        },
        {
         "alignmentgroup": "True",
         "hovertemplate": "color=Netherlands<br>Strike Rate=%{x}<br>Team=%{y}<extra></extra>",
         "legendgroup": "Netherlands",
         "marker": {
          "color": "#FF97FF",
          "line": {
           "color": "black",
           "width": 2
          },
          "pattern": {
           "shape": ""
          }
         },
         "name": "Netherlands",
         "offsetgroup": "Netherlands",
         "orientation": "h",
         "showlegend": true,
         "textposition": "auto",
         "type": "bar",
         "x": [
          47.5
         ],
         "xaxis": "x",
         "y": [
          "Netherlands"
         ],
         "yaxis": "y"
        },
        {
         "alignmentgroup": "True",
         "hovertemplate": "color=New Zealand<br>Strike Rate=%{x}<br>Team=%{y}<extra></extra>",
         "legendgroup": "New Zealand",
         "marker": {
          "color": "#FECB52",
          "line": {
           "color": "black",
           "width": 2
          },
          "pattern": {
           "shape": ""
          }
         },
         "name": "New Zealand",
         "offsetgroup": "New Zealand",
         "orientation": "h",
         "showlegend": true,
         "textposition": "auto",
         "type": "bar",
         "x": [
          80.12884615384615
         ],
         "xaxis": "x",
         "y": [
          "New Zealand"
         ],
         "yaxis": "y"
        },
        {
         "alignmentgroup": "True",
         "hovertemplate": "color=Pakistan<br>Strike Rate=%{x}<br>Team=%{y}<extra></extra>",
         "legendgroup": "Pakistan",
         "marker": {
          "color": "#636efa",
          "line": {
           "color": "black",
           "width": 2
          },
          "pattern": {
           "shape": ""
          }
         },
         "name": "Pakistan",
         "offsetgroup": "Pakistan",
         "orientation": "h",
         "showlegend": true,
         "textposition": "auto",
         "type": "bar",
         "x": [
          91.31870967741936
         ],
         "xaxis": "x",
         "y": [
          "Pakistan"
         ],
         "yaxis": "y"
        },
        {
         "alignmentgroup": "True",
         "hovertemplate": "color=Scotland<br>Strike Rate=%{x}<br>Team=%{y}<extra></extra>",
         "legendgroup": "Scotland",
         "marker": {
          "color": "#EF553B",
          "line": {
           "color": "black",
           "width": 2
          },
          "pattern": {
           "shape": ""
          }
         },
         "name": "Scotland",
         "offsetgroup": "Scotland",
         "orientation": "h",
         "showlegend": true,
         "textposition": "auto",
         "type": "bar",
         "x": [
          null
         ],
         "xaxis": "x",
         "y": [
          "Scotland"
         ],
         "yaxis": "y"
        },
        {
         "alignmentgroup": "True",
         "hovertemplate": "color=South Africa<br>Strike Rate=%{x}<br>Team=%{y}<extra></extra>",
         "legendgroup": "South Africa",
         "marker": {
          "color": "#00cc96",
          "line": {
           "color": "black",
           "width": 2
          },
          "pattern": {
           "shape": ""
          }
         },
         "name": "South Africa",
         "offsetgroup": "South Africa",
         "orientation": "h",
         "showlegend": true,
         "textposition": "auto",
         "type": "bar",
         "x": [
          84.6703125
         ],
         "xaxis": "x",
         "y": [
          "South Africa"
         ],
         "yaxis": "y"
        },
        {
         "alignmentgroup": "True",
         "hovertemplate": "color=Sri Lanka<br>Strike Rate=%{x}<br>Team=%{y}<extra></extra>",
         "legendgroup": "Sri Lanka",
         "marker": {
          "color": "#ab63fa",
          "line": {
           "color": "black",
           "width": 2
          },
          "pattern": {
           "shape": ""
          }
         },
         "name": "Sri Lanka",
         "offsetgroup": "Sri Lanka",
         "orientation": "h",
         "showlegend": true,
         "textposition": "auto",
         "type": "bar",
         "x": [
          84.21094339622643
         ],
         "xaxis": "x",
         "y": [
          "Sri Lanka"
         ],
         "yaxis": "y"
        },
        {
         "alignmentgroup": "True",
         "hovertemplate": "color=United Arab Emirates<br>Strike Rate=%{x}<br>Team=%{y}<extra></extra>",
         "legendgroup": "United Arab Emirates",
         "marker": {
          "color": "#FFA15A",
          "line": {
           "color": "black",
           "width": 2
          },
          "pattern": {
           "shape": ""
          }
         },
         "name": "United Arab Emirates",
         "offsetgroup": "United Arab Emirates",
         "orientation": "h",
         "showlegend": true,
         "textposition": "auto",
         "type": "bar",
         "x": [
          null
         ],
         "xaxis": "x",
         "y": [
          "United Arab Emirates"
         ],
         "yaxis": "y"
        },
        {
         "alignmentgroup": "True",
         "hovertemplate": "color=West Indies<br>Strike Rate=%{x}<br>Team=%{y}<extra></extra>",
         "legendgroup": "West Indies",
         "marker": {
          "color": "#19d3f3",
          "line": {
           "color": "black",
           "width": 2
          },
          "pattern": {
           "shape": ""
          }
         },
         "name": "West Indies",
         "offsetgroup": "West Indies",
         "orientation": "h",
         "showlegend": true,
         "textposition": "auto",
         "type": "bar",
         "x": [
          100.99272727272728
         ],
         "xaxis": "x",
         "y": [
          "West Indies"
         ],
         "yaxis": "y"
        },
        {
         "alignmentgroup": "True",
         "hovertemplate": "color=Zimbabwe<br>Strike Rate=%{x}<br>Team=%{y}<extra></extra>",
         "legendgroup": "Zimbabwe",
         "marker": {
          "color": "#FF6692",
          "line": {
           "color": "black",
           "width": 2
          },
          "pattern": {
           "shape": ""
          }
         },
         "name": "Zimbabwe",
         "offsetgroup": "Zimbabwe",
         "orientation": "h",
         "showlegend": true,
         "textposition": "auto",
         "type": "bar",
         "x": [
          113.31
         ],
         "xaxis": "x",
         "y": [
          "Zimbabwe"
         ],
         "yaxis": "y"
        }
       ],
       "layout": {
        "barmode": "relative",
        "legend": {
         "title": {
          "text": "color"
         },
         "tracegroupgap": 0
        },
        "template": {
         "data": {
          "bar": [
           {
            "error_x": {
             "color": "#2a3f5f"
            },
            "error_y": {
             "color": "#2a3f5f"
            },
            "marker": {
             "line": {
              "color": "#E5ECF6",
              "width": 0.5
             },
             "pattern": {
              "fillmode": "overlay",
              "size": 10,
              "solidity": 0.2
             }
            },
            "type": "bar"
           }
          ],
          "barpolar": [
           {
            "marker": {
             "line": {
              "color": "#E5ECF6",
              "width": 0.5
             },
             "pattern": {
              "fillmode": "overlay",
              "size": 10,
              "solidity": 0.2
             }
            },
            "type": "barpolar"
           }
          ],
          "carpet": [
           {
            "aaxis": {
             "endlinecolor": "#2a3f5f",
             "gridcolor": "white",
             "linecolor": "white",
             "minorgridcolor": "white",
             "startlinecolor": "#2a3f5f"
            },
            "baxis": {
             "endlinecolor": "#2a3f5f",
             "gridcolor": "white",
             "linecolor": "white",
             "minorgridcolor": "white",
             "startlinecolor": "#2a3f5f"
            },
            "type": "carpet"
           }
          ],
          "choropleth": [
           {
            "colorbar": {
             "outlinewidth": 0,
             "ticks": ""
            },
            "type": "choropleth"
           }
          ],
          "contour": [
           {
            "colorbar": {
             "outlinewidth": 0,
             "ticks": ""
            },
            "colorscale": [
             [
              0,
              "#0d0887"
             ],
             [
              0.1111111111111111,
              "#46039f"
             ],
             [
              0.2222222222222222,
              "#7201a8"
             ],
             [
              0.3333333333333333,
              "#9c179e"
             ],
             [
              0.4444444444444444,
              "#bd3786"
             ],
             [
              0.5555555555555556,
              "#d8576b"
             ],
             [
              0.6666666666666666,
              "#ed7953"
             ],
             [
              0.7777777777777778,
              "#fb9f3a"
             ],
             [
              0.8888888888888888,
              "#fdca26"
             ],
             [
              1,
              "#f0f921"
             ]
            ],
            "type": "contour"
           }
          ],
          "contourcarpet": [
           {
            "colorbar": {
             "outlinewidth": 0,
             "ticks": ""
            },
            "type": "contourcarpet"
           }
          ],
          "heatmap": [
           {
            "colorbar": {
             "outlinewidth": 0,
             "ticks": ""
            },
            "colorscale": [
             [
              0,
              "#0d0887"
             ],
             [
              0.1111111111111111,
              "#46039f"
             ],
             [
              0.2222222222222222,
              "#7201a8"
             ],
             [
              0.3333333333333333,
              "#9c179e"
             ],
             [
              0.4444444444444444,
              "#bd3786"
             ],
             [
              0.5555555555555556,
              "#d8576b"
             ],
             [
              0.6666666666666666,
              "#ed7953"
             ],
             [
              0.7777777777777778,
              "#fb9f3a"
             ],
             [
              0.8888888888888888,
              "#fdca26"
             ],
             [
              1,
              "#f0f921"
             ]
            ],
            "type": "heatmap"
           }
          ],
          "heatmapgl": [
           {
            "colorbar": {
             "outlinewidth": 0,
             "ticks": ""
            },
            "colorscale": [
             [
              0,
              "#0d0887"
             ],
             [
              0.1111111111111111,
              "#46039f"
             ],
             [
              0.2222222222222222,
              "#7201a8"
             ],
             [
              0.3333333333333333,
              "#9c179e"
             ],
             [
              0.4444444444444444,
              "#bd3786"
             ],
             [
              0.5555555555555556,
              "#d8576b"
             ],
             [
              0.6666666666666666,
              "#ed7953"
             ],
             [
              0.7777777777777778,
              "#fb9f3a"
             ],
             [
              0.8888888888888888,
              "#fdca26"
             ],
             [
              1,
              "#f0f921"
             ]
            ],
            "type": "heatmapgl"
           }
          ],
          "histogram": [
           {
            "marker": {
             "pattern": {
              "fillmode": "overlay",
              "size": 10,
              "solidity": 0.2
             }
            },
            "type": "histogram"
           }
          ],
          "histogram2d": [
           {
            "colorbar": {
             "outlinewidth": 0,
             "ticks": ""
            },
            "colorscale": [
             [
              0,
              "#0d0887"
             ],
             [
              0.1111111111111111,
              "#46039f"
             ],
             [
              0.2222222222222222,
              "#7201a8"
             ],
             [
              0.3333333333333333,
              "#9c179e"
             ],
             [
              0.4444444444444444,
              "#bd3786"
             ],
             [
              0.5555555555555556,
              "#d8576b"
             ],
             [
              0.6666666666666666,
              "#ed7953"
             ],
             [
              0.7777777777777778,
              "#fb9f3a"
             ],
             [
              0.8888888888888888,
              "#fdca26"
             ],
             [
              1,
              "#f0f921"
             ]
            ],
            "type": "histogram2d"
           }
          ],
          "histogram2dcontour": [
           {
            "colorbar": {
             "outlinewidth": 0,
             "ticks": ""
            },
            "colorscale": [
             [
              0,
              "#0d0887"
             ],
             [
              0.1111111111111111,
              "#46039f"
             ],
             [
              0.2222222222222222,
              "#7201a8"
             ],
             [
              0.3333333333333333,
              "#9c179e"
             ],
             [
              0.4444444444444444,
              "#bd3786"
             ],
             [
              0.5555555555555556,
              "#d8576b"
             ],
             [
              0.6666666666666666,
              "#ed7953"
             ],
             [
              0.7777777777777778,
              "#fb9f3a"
             ],
             [
              0.8888888888888888,
              "#fdca26"
             ],
             [
              1,
              "#f0f921"
             ]
            ],
            "type": "histogram2dcontour"
           }
          ],
          "mesh3d": [
           {
            "colorbar": {
             "outlinewidth": 0,
             "ticks": ""
            },
            "type": "mesh3d"
           }
          ],
          "parcoords": [
           {
            "line": {
             "colorbar": {
              "outlinewidth": 0,
              "ticks": ""
             }
            },
            "type": "parcoords"
           }
          ],
          "pie": [
           {
            "automargin": true,
            "type": "pie"
           }
          ],
          "scatter": [
           {
            "marker": {
             "colorbar": {
              "outlinewidth": 0,
              "ticks": ""
             }
            },
            "type": "scatter"
           }
          ],
          "scatter3d": [
           {
            "line": {
             "colorbar": {
              "outlinewidth": 0,
              "ticks": ""
             }
            },
            "marker": {
             "colorbar": {
              "outlinewidth": 0,
              "ticks": ""
             }
            },
            "type": "scatter3d"
           }
          ],
          "scattercarpet": [
           {
            "marker": {
             "colorbar": {
              "outlinewidth": 0,
              "ticks": ""
             }
            },
            "type": "scattercarpet"
           }
          ],
          "scattergeo": [
           {
            "marker": {
             "colorbar": {
              "outlinewidth": 0,
              "ticks": ""
             }
            },
            "type": "scattergeo"
           }
          ],
          "scattergl": [
           {
            "marker": {
             "colorbar": {
              "outlinewidth": 0,
              "ticks": ""
             }
            },
            "type": "scattergl"
           }
          ],
          "scattermapbox": [
           {
            "marker": {
             "colorbar": {
              "outlinewidth": 0,
              "ticks": ""
             }
            },
            "type": "scattermapbox"
           }
          ],
          "scatterpolar": [
           {
            "marker": {
             "colorbar": {
              "outlinewidth": 0,
              "ticks": ""
             }
            },
            "type": "scatterpolar"
           }
          ],
          "scatterpolargl": [
           {
            "marker": {
             "colorbar": {
              "outlinewidth": 0,
              "ticks": ""
             }
            },
            "type": "scatterpolargl"
           }
          ],
          "scatterternary": [
           {
            "marker": {
             "colorbar": {
              "outlinewidth": 0,
              "ticks": ""
             }
            },
            "type": "scatterternary"
           }
          ],
          "surface": [
           {
            "colorbar": {
             "outlinewidth": 0,
             "ticks": ""
            },
            "colorscale": [
             [
              0,
              "#0d0887"
             ],
             [
              0.1111111111111111,
              "#46039f"
             ],
             [
              0.2222222222222222,
              "#7201a8"
             ],
             [
              0.3333333333333333,
              "#9c179e"
             ],
             [
              0.4444444444444444,
              "#bd3786"
             ],
             [
              0.5555555555555556,
              "#d8576b"
             ],
             [
              0.6666666666666666,
              "#ed7953"
             ],
             [
              0.7777777777777778,
              "#fb9f3a"
             ],
             [
              0.8888888888888888,
              "#fdca26"
             ],
             [
              1,
              "#f0f921"
             ]
            ],
            "type": "surface"
           }
          ],
          "table": [
           {
            "cells": {
             "fill": {
              "color": "#EBF0F8"
             },
             "line": {
              "color": "white"
             }
            },
            "header": {
             "fill": {
              "color": "#C8D4E3"
             },
             "line": {
              "color": "white"
             }
            },
            "type": "table"
           }
          ]
         },
         "layout": {
          "annotationdefaults": {
           "arrowcolor": "#2a3f5f",
           "arrowhead": 0,
           "arrowwidth": 1
          },
          "autotypenumbers": "strict",
          "coloraxis": {
           "colorbar": {
            "outlinewidth": 0,
            "ticks": ""
           }
          },
          "colorscale": {
           "diverging": [
            [
             0,
             "#8e0152"
            ],
            [
             0.1,
             "#c51b7d"
            ],
            [
             0.2,
             "#de77ae"
            ],
            [
             0.3,
             "#f1b6da"
            ],
            [
             0.4,
             "#fde0ef"
            ],
            [
             0.5,
             "#f7f7f7"
            ],
            [
             0.6,
             "#e6f5d0"
            ],
            [
             0.7,
             "#b8e186"
            ],
            [
             0.8,
             "#7fbc41"
            ],
            [
             0.9,
             "#4d9221"
            ],
            [
             1,
             "#276419"
            ]
           ],
           "sequential": [
            [
             0,
             "#0d0887"
            ],
            [
             0.1111111111111111,
             "#46039f"
            ],
            [
             0.2222222222222222,
             "#7201a8"
            ],
            [
             0.3333333333333333,
             "#9c179e"
            ],
            [
             0.4444444444444444,
             "#bd3786"
            ],
            [
             0.5555555555555556,
             "#d8576b"
            ],
            [
             0.6666666666666666,
             "#ed7953"
            ],
            [
             0.7777777777777778,
             "#fb9f3a"
            ],
            [
             0.8888888888888888,
             "#fdca26"
            ],
            [
             1,
             "#f0f921"
            ]
           ],
           "sequentialminus": [
            [
             0,
             "#0d0887"
            ],
            [
             0.1111111111111111,
             "#46039f"
            ],
            [
             0.2222222222222222,
             "#7201a8"
            ],
            [
             0.3333333333333333,
             "#9c179e"
            ],
            [
             0.4444444444444444,
             "#bd3786"
            ],
            [
             0.5555555555555556,
             "#d8576b"
            ],
            [
             0.6666666666666666,
             "#ed7953"
            ],
            [
             0.7777777777777778,
             "#fb9f3a"
            ],
            [
             0.8888888888888888,
             "#fdca26"
            ],
            [
             1,
             "#f0f921"
            ]
           ]
          },
          "colorway": [
           "#636efa",
           "#EF553B",
           "#00cc96",
           "#ab63fa",
           "#FFA15A",
           "#19d3f3",
           "#FF6692",
           "#B6E880",
           "#FF97FF",
           "#FECB52"
          ],
          "font": {
           "color": "#2a3f5f"
          },
          "geo": {
           "bgcolor": "white",
           "lakecolor": "white",
           "landcolor": "#E5ECF6",
           "showlakes": true,
           "showland": true,
           "subunitcolor": "white"
          },
          "hoverlabel": {
           "align": "left"
          },
          "hovermode": "closest",
          "mapbox": {
           "style": "light"
          },
          "paper_bgcolor": "white",
          "plot_bgcolor": "#E5ECF6",
          "polar": {
           "angularaxis": {
            "gridcolor": "white",
            "linecolor": "white",
            "ticks": ""
           },
           "bgcolor": "#E5ECF6",
           "radialaxis": {
            "gridcolor": "white",
            "linecolor": "white",
            "ticks": ""
           }
          },
          "scene": {
           "xaxis": {
            "backgroundcolor": "#E5ECF6",
            "gridcolor": "white",
            "gridwidth": 2,
            "linecolor": "white",
            "showbackground": true,
            "ticks": "",
            "zerolinecolor": "white"
           },
           "yaxis": {
            "backgroundcolor": "#E5ECF6",
            "gridcolor": "white",
            "gridwidth": 2,
            "linecolor": "white",
            "showbackground": true,
            "ticks": "",
            "zerolinecolor": "white"
           },
           "zaxis": {
            "backgroundcolor": "#E5ECF6",
            "gridcolor": "white",
            "gridwidth": 2,
            "linecolor": "white",
            "showbackground": true,
            "ticks": "",
            "zerolinecolor": "white"
           }
          },
          "shapedefaults": {
           "line": {
            "color": "#2a3f5f"
           }
          },
          "ternary": {
           "aaxis": {
            "gridcolor": "white",
            "linecolor": "white",
            "ticks": ""
           },
           "baxis": {
            "gridcolor": "white",
            "linecolor": "white",
            "ticks": ""
           },
           "bgcolor": "#E5ECF6",
           "caxis": {
            "gridcolor": "white",
            "linecolor": "white",
            "ticks": ""
           }
          },
          "title": {
           "x": 0.05
          },
          "xaxis": {
           "automargin": true,
           "gridcolor": "white",
           "linecolor": "white",
           "ticks": "",
           "title": {
            "standoff": 15
           },
           "zerolinecolor": "white",
           "zerolinewidth": 2
          },
          "yaxis": {
           "automargin": true,
           "gridcolor": "white",
           "linecolor": "white",
           "ticks": "",
           "title": {
            "standoff": 15
           },
           "zerolinecolor": "white",
           "zerolinewidth": 2
          }
         }
        },
        "title": {
         "text": "Strike Rate Against Each Team"
        },
        "xaxis": {
         "anchor": "y",
         "domain": [
          0,
          1
         ],
         "title": {
          "text": "Strike Rate"
         }
        },
        "yaxis": {
         "anchor": "x",
         "categoryorder": "total ascending",
         "domain": [
          0,
          1
         ],
         "title": {
          "text": "Team"
         },
         "type": "category"
        }
       }
      },
      "text/html": [
       "<div>                            <div id=\"dd41b15e-4857-4e0d-ad25-c784df575a8e\" class=\"plotly-graph-div\" style=\"height:525px; width:100%;\"></div>            <script type=\"text/javascript\">                require([\"plotly\"], function(Plotly) {                    window.PLOTLYENV=window.PLOTLYENV || {};                                    if (document.getElementById(\"dd41b15e-4857-4e0d-ad25-c784df575a8e\")) {                    Plotly.newPlot(                        \"dd41b15e-4857-4e0d-ad25-c784df575a8e\",                        [{\"alignmentgroup\":\"True\",\"hovertemplate\":\"color=ACA Africa XI<br>Strike Rate=%{x}<br>Team=%{y}<extra></extra>\",\"legendgroup\":\"ACA Africa XI\",\"marker\":{\"color\":\"#636efa\",\"pattern\":{\"shape\":\"\"},\"line\":{\"color\":\"black\",\"width\":2}},\"name\":\"ACA Africa XI\",\"offsetgroup\":\"ACA Africa XI\",\"orientation\":\"h\",\"showlegend\":true,\"textposition\":\"auto\",\"x\":[93.38],\"xaxis\":\"x\",\"y\":[\"ACA Africa XI\"],\"yaxis\":\"y\",\"type\":\"bar\"},{\"alignmentgroup\":\"True\",\"hovertemplate\":\"color=Afghanistan<br>Strike Rate=%{x}<br>Team=%{y}<extra></extra>\",\"legendgroup\":\"Afghanistan\",\"marker\":{\"color\":\"#EF553B\",\"pattern\":{\"shape\":\"\"},\"line\":{\"color\":\"black\",\"width\":2}},\"name\":\"Afghanistan\",\"offsetgroup\":\"Afghanistan\",\"orientation\":\"h\",\"showlegend\":true,\"textposition\":\"auto\",\"x\":[50.455],\"xaxis\":\"x\",\"y\":[\"Afghanistan\"],\"yaxis\":\"y\",\"type\":\"bar\"},{\"alignmentgroup\":\"True\",\"hovertemplate\":\"color=Australia<br>Strike Rate=%{x}<br>Team=%{y}<extra></extra>\",\"legendgroup\":\"Australia\",\"marker\":{\"color\":\"#00cc96\",\"pattern\":{\"shape\":\"\"},\"line\":{\"color\":\"black\",\"width\":2}},\"name\":\"Australia\",\"offsetgroup\":\"Australia\",\"orientation\":\"h\",\"showlegend\":true,\"textposition\":\"auto\",\"x\":[82.43479166666667],\"xaxis\":\"x\",\"y\":[\"Australia\"],\"yaxis\":\"y\",\"type\":\"bar\"},{\"alignmentgroup\":\"True\",\"hovertemplate\":\"color=Bangladesh<br>Strike Rate=%{x}<br>Team=%{y}<extra></extra>\",\"legendgroup\":\"Bangladesh\",\"marker\":{\"color\":\"#ab63fa\",\"pattern\":{\"shape\":\"\"},\"line\":{\"color\":\"black\",\"width\":2}},\"name\":\"Bangladesh\",\"offsetgroup\":\"Bangladesh\",\"orientation\":\"h\",\"showlegend\":true,\"textposition\":\"auto\",\"x\":[94.11882352941177],\"xaxis\":\"x\",\"y\":[\"Bangladesh\"],\"yaxis\":\"y\",\"type\":\"bar\"},{\"alignmentgroup\":\"True\",\"hovertemplate\":\"color=Bermuda<br>Strike Rate=%{x}<br>Team=%{y}<extra></extra>\",\"legendgroup\":\"Bermuda\",\"marker\":{\"color\":\"#FFA15A\",\"pattern\":{\"shape\":\"\"},\"line\":{\"color\":\"black\",\"width\":2}},\"name\":\"Bermuda\",\"offsetgroup\":\"Bermuda\",\"orientation\":\"h\",\"showlegend\":true,\"textposition\":\"auto\",\"x\":[116.0],\"xaxis\":\"x\",\"y\":[\"Bermuda\"],\"yaxis\":\"y\",\"type\":\"bar\"},{\"alignmentgroup\":\"True\",\"hovertemplate\":\"color=England<br>Strike Rate=%{x}<br>Team=%{y}<extra></extra>\",\"legendgroup\":\"England\",\"marker\":{\"color\":\"#19d3f3\",\"pattern\":{\"shape\":\"\"},\"line\":{\"color\":\"black\",\"width\":2}},\"name\":\"England\",\"offsetgroup\":\"England\",\"orientation\":\"h\",\"showlegend\":true,\"textposition\":\"auto\",\"x\":[92.65522727272727],\"xaxis\":\"x\",\"y\":[\"England\"],\"yaxis\":\"y\",\"type\":\"bar\"},{\"alignmentgroup\":\"True\",\"hovertemplate\":\"color=Hong Kong<br>Strike Rate=%{x}<br>Team=%{y}<extra></extra>\",\"legendgroup\":\"Hong Kong\",\"marker\":{\"color\":\"#FF6692\",\"pattern\":{\"shape\":\"\"},\"line\":{\"color\":\"black\",\"width\":2}},\"name\":\"Hong Kong\",\"offsetgroup\":\"Hong Kong\",\"orientation\":\"h\",\"showlegend\":true,\"textposition\":\"auto\",\"x\":[56.77],\"xaxis\":\"x\",\"y\":[\"Hong Kong\"],\"yaxis\":\"y\",\"type\":\"bar\"},{\"alignmentgroup\":\"True\",\"hovertemplate\":\"color=Ireland<br>Strike Rate=%{x}<br>Team=%{y}<extra></extra>\",\"legendgroup\":\"Ireland\",\"marker\":{\"color\":\"#B6E880\",\"pattern\":{\"shape\":\"\"},\"line\":{\"color\":\"black\",\"width\":2}},\"name\":\"Ireland\",\"offsetgroup\":\"Ireland\",\"orientation\":\"h\",\"showlegend\":true,\"textposition\":\"auto\",\"x\":[68.0],\"xaxis\":\"x\",\"y\":[\"Ireland\"],\"yaxis\":\"y\",\"type\":\"bar\"},{\"alignmentgroup\":\"True\",\"hovertemplate\":\"color=Netherlands<br>Strike Rate=%{x}<br>Team=%{y}<extra></extra>\",\"legendgroup\":\"Netherlands\",\"marker\":{\"color\":\"#FF97FF\",\"pattern\":{\"shape\":\"\"},\"line\":{\"color\":\"black\",\"width\":2}},\"name\":\"Netherlands\",\"offsetgroup\":\"Netherlands\",\"orientation\":\"h\",\"showlegend\":true,\"textposition\":\"auto\",\"x\":[47.5],\"xaxis\":\"x\",\"y\":[\"Netherlands\"],\"yaxis\":\"y\",\"type\":\"bar\"},{\"alignmentgroup\":\"True\",\"hovertemplate\":\"color=New Zealand<br>Strike Rate=%{x}<br>Team=%{y}<extra></extra>\",\"legendgroup\":\"New Zealand\",\"marker\":{\"color\":\"#FECB52\",\"pattern\":{\"shape\":\"\"},\"line\":{\"color\":\"black\",\"width\":2}},\"name\":\"New Zealand\",\"offsetgroup\":\"New Zealand\",\"orientation\":\"h\",\"showlegend\":true,\"textposition\":\"auto\",\"x\":[80.12884615384615],\"xaxis\":\"x\",\"y\":[\"New Zealand\"],\"yaxis\":\"y\",\"type\":\"bar\"},{\"alignmentgroup\":\"True\",\"hovertemplate\":\"color=Pakistan<br>Strike Rate=%{x}<br>Team=%{y}<extra></extra>\",\"legendgroup\":\"Pakistan\",\"marker\":{\"color\":\"#636efa\",\"pattern\":{\"shape\":\"\"},\"line\":{\"color\":\"black\",\"width\":2}},\"name\":\"Pakistan\",\"offsetgroup\":\"Pakistan\",\"orientation\":\"h\",\"showlegend\":true,\"textposition\":\"auto\",\"x\":[91.31870967741936],\"xaxis\":\"x\",\"y\":[\"Pakistan\"],\"yaxis\":\"y\",\"type\":\"bar\"},{\"alignmentgroup\":\"True\",\"hovertemplate\":\"color=Scotland<br>Strike Rate=%{x}<br>Team=%{y}<extra></extra>\",\"legendgroup\":\"Scotland\",\"marker\":{\"color\":\"#EF553B\",\"pattern\":{\"shape\":\"\"},\"line\":{\"color\":\"black\",\"width\":2}},\"name\":\"Scotland\",\"offsetgroup\":\"Scotland\",\"orientation\":\"h\",\"showlegend\":true,\"textposition\":\"auto\",\"x\":[null],\"xaxis\":\"x\",\"y\":[\"Scotland\"],\"yaxis\":\"y\",\"type\":\"bar\"},{\"alignmentgroup\":\"True\",\"hovertemplate\":\"color=South Africa<br>Strike Rate=%{x}<br>Team=%{y}<extra></extra>\",\"legendgroup\":\"South Africa\",\"marker\":{\"color\":\"#00cc96\",\"pattern\":{\"shape\":\"\"},\"line\":{\"color\":\"black\",\"width\":2}},\"name\":\"South Africa\",\"offsetgroup\":\"South Africa\",\"orientation\":\"h\",\"showlegend\":true,\"textposition\":\"auto\",\"x\":[84.6703125],\"xaxis\":\"x\",\"y\":[\"South Africa\"],\"yaxis\":\"y\",\"type\":\"bar\"},{\"alignmentgroup\":\"True\",\"hovertemplate\":\"color=Sri Lanka<br>Strike Rate=%{x}<br>Team=%{y}<extra></extra>\",\"legendgroup\":\"Sri Lanka\",\"marker\":{\"color\":\"#ab63fa\",\"pattern\":{\"shape\":\"\"},\"line\":{\"color\":\"black\",\"width\":2}},\"name\":\"Sri Lanka\",\"offsetgroup\":\"Sri Lanka\",\"orientation\":\"h\",\"showlegend\":true,\"textposition\":\"auto\",\"x\":[84.21094339622643],\"xaxis\":\"x\",\"y\":[\"Sri Lanka\"],\"yaxis\":\"y\",\"type\":\"bar\"},{\"alignmentgroup\":\"True\",\"hovertemplate\":\"color=United Arab Emirates<br>Strike Rate=%{x}<br>Team=%{y}<extra></extra>\",\"legendgroup\":\"United Arab Emirates\",\"marker\":{\"color\":\"#FFA15A\",\"pattern\":{\"shape\":\"\"},\"line\":{\"color\":\"black\",\"width\":2}},\"name\":\"United Arab Emirates\",\"offsetgroup\":\"United Arab Emirates\",\"orientation\":\"h\",\"showlegend\":true,\"textposition\":\"auto\",\"x\":[null],\"xaxis\":\"x\",\"y\":[\"United Arab Emirates\"],\"yaxis\":\"y\",\"type\":\"bar\"},{\"alignmentgroup\":\"True\",\"hovertemplate\":\"color=West Indies<br>Strike Rate=%{x}<br>Team=%{y}<extra></extra>\",\"legendgroup\":\"West Indies\",\"marker\":{\"color\":\"#19d3f3\",\"pattern\":{\"shape\":\"\"},\"line\":{\"color\":\"black\",\"width\":2}},\"name\":\"West Indies\",\"offsetgroup\":\"West Indies\",\"orientation\":\"h\",\"showlegend\":true,\"textposition\":\"auto\",\"x\":[100.99272727272728],\"xaxis\":\"x\",\"y\":[\"West Indies\"],\"yaxis\":\"y\",\"type\":\"bar\"},{\"alignmentgroup\":\"True\",\"hovertemplate\":\"color=Zimbabwe<br>Strike Rate=%{x}<br>Team=%{y}<extra></extra>\",\"legendgroup\":\"Zimbabwe\",\"marker\":{\"color\":\"#FF6692\",\"pattern\":{\"shape\":\"\"},\"line\":{\"color\":\"black\",\"width\":2}},\"name\":\"Zimbabwe\",\"offsetgroup\":\"Zimbabwe\",\"orientation\":\"h\",\"showlegend\":true,\"textposition\":\"auto\",\"x\":[113.31],\"xaxis\":\"x\",\"y\":[\"Zimbabwe\"],\"yaxis\":\"y\",\"type\":\"bar\"}],                        {\"template\":{\"data\":{\"bar\":[{\"error_x\":{\"color\":\"#2a3f5f\"},\"error_y\":{\"color\":\"#2a3f5f\"},\"marker\":{\"line\":{\"color\":\"#E5ECF6\",\"width\":0.5},\"pattern\":{\"fillmode\":\"overlay\",\"size\":10,\"solidity\":0.2}},\"type\":\"bar\"}],\"barpolar\":[{\"marker\":{\"line\":{\"color\":\"#E5ECF6\",\"width\":0.5},\"pattern\":{\"fillmode\":\"overlay\",\"size\":10,\"solidity\":0.2}},\"type\":\"barpolar\"}],\"carpet\":[{\"aaxis\":{\"endlinecolor\":\"#2a3f5f\",\"gridcolor\":\"white\",\"linecolor\":\"white\",\"minorgridcolor\":\"white\",\"startlinecolor\":\"#2a3f5f\"},\"baxis\":{\"endlinecolor\":\"#2a3f5f\",\"gridcolor\":\"white\",\"linecolor\":\"white\",\"minorgridcolor\":\"white\",\"startlinecolor\":\"#2a3f5f\"},\"type\":\"carpet\"}],\"choropleth\":[{\"colorbar\":{\"outlinewidth\":0,\"ticks\":\"\"},\"type\":\"choropleth\"}],\"contour\":[{\"colorbar\":{\"outlinewidth\":0,\"ticks\":\"\"},\"colorscale\":[[0.0,\"#0d0887\"],[0.1111111111111111,\"#46039f\"],[0.2222222222222222,\"#7201a8\"],[0.3333333333333333,\"#9c179e\"],[0.4444444444444444,\"#bd3786\"],[0.5555555555555556,\"#d8576b\"],[0.6666666666666666,\"#ed7953\"],[0.7777777777777778,\"#fb9f3a\"],[0.8888888888888888,\"#fdca26\"],[1.0,\"#f0f921\"]],\"type\":\"contour\"}],\"contourcarpet\":[{\"colorbar\":{\"outlinewidth\":0,\"ticks\":\"\"},\"type\":\"contourcarpet\"}],\"heatmap\":[{\"colorbar\":{\"outlinewidth\":0,\"ticks\":\"\"},\"colorscale\":[[0.0,\"#0d0887\"],[0.1111111111111111,\"#46039f\"],[0.2222222222222222,\"#7201a8\"],[0.3333333333333333,\"#9c179e\"],[0.4444444444444444,\"#bd3786\"],[0.5555555555555556,\"#d8576b\"],[0.6666666666666666,\"#ed7953\"],[0.7777777777777778,\"#fb9f3a\"],[0.8888888888888888,\"#fdca26\"],[1.0,\"#f0f921\"]],\"type\":\"heatmap\"}],\"heatmapgl\":[{\"colorbar\":{\"outlinewidth\":0,\"ticks\":\"\"},\"colorscale\":[[0.0,\"#0d0887\"],[0.1111111111111111,\"#46039f\"],[0.2222222222222222,\"#7201a8\"],[0.3333333333333333,\"#9c179e\"],[0.4444444444444444,\"#bd3786\"],[0.5555555555555556,\"#d8576b\"],[0.6666666666666666,\"#ed7953\"],[0.7777777777777778,\"#fb9f3a\"],[0.8888888888888888,\"#fdca26\"],[1.0,\"#f0f921\"]],\"type\":\"heatmapgl\"}],\"histogram\":[{\"marker\":{\"pattern\":{\"fillmode\":\"overlay\",\"size\":10,\"solidity\":0.2}},\"type\":\"histogram\"}],\"histogram2d\":[{\"colorbar\":{\"outlinewidth\":0,\"ticks\":\"\"},\"colorscale\":[[0.0,\"#0d0887\"],[0.1111111111111111,\"#46039f\"],[0.2222222222222222,\"#7201a8\"],[0.3333333333333333,\"#9c179e\"],[0.4444444444444444,\"#bd3786\"],[0.5555555555555556,\"#d8576b\"],[0.6666666666666666,\"#ed7953\"],[0.7777777777777778,\"#fb9f3a\"],[0.8888888888888888,\"#fdca26\"],[1.0,\"#f0f921\"]],\"type\":\"histogram2d\"}],\"histogram2dcontour\":[{\"colorbar\":{\"outlinewidth\":0,\"ticks\":\"\"},\"colorscale\":[[0.0,\"#0d0887\"],[0.1111111111111111,\"#46039f\"],[0.2222222222222222,\"#7201a8\"],[0.3333333333333333,\"#9c179e\"],[0.4444444444444444,\"#bd3786\"],[0.5555555555555556,\"#d8576b\"],[0.6666666666666666,\"#ed7953\"],[0.7777777777777778,\"#fb9f3a\"],[0.8888888888888888,\"#fdca26\"],[1.0,\"#f0f921\"]],\"type\":\"histogram2dcontour\"}],\"mesh3d\":[{\"colorbar\":{\"outlinewidth\":0,\"ticks\":\"\"},\"type\":\"mesh3d\"}],\"parcoords\":[{\"line\":{\"colorbar\":{\"outlinewidth\":0,\"ticks\":\"\"}},\"type\":\"parcoords\"}],\"pie\":[{\"automargin\":true,\"type\":\"pie\"}],\"scatter\":[{\"marker\":{\"colorbar\":{\"outlinewidth\":0,\"ticks\":\"\"}},\"type\":\"scatter\"}],\"scatter3d\":[{\"line\":{\"colorbar\":{\"outlinewidth\":0,\"ticks\":\"\"}},\"marker\":{\"colorbar\":{\"outlinewidth\":0,\"ticks\":\"\"}},\"type\":\"scatter3d\"}],\"scattercarpet\":[{\"marker\":{\"colorbar\":{\"outlinewidth\":0,\"ticks\":\"\"}},\"type\":\"scattercarpet\"}],\"scattergeo\":[{\"marker\":{\"colorbar\":{\"outlinewidth\":0,\"ticks\":\"\"}},\"type\":\"scattergeo\"}],\"scattergl\":[{\"marker\":{\"colorbar\":{\"outlinewidth\":0,\"ticks\":\"\"}},\"type\":\"scattergl\"}],\"scattermapbox\":[{\"marker\":{\"colorbar\":{\"outlinewidth\":0,\"ticks\":\"\"}},\"type\":\"scattermapbox\"}],\"scatterpolar\":[{\"marker\":{\"colorbar\":{\"outlinewidth\":0,\"ticks\":\"\"}},\"type\":\"scatterpolar\"}],\"scatterpolargl\":[{\"marker\":{\"colorbar\":{\"outlinewidth\":0,\"ticks\":\"\"}},\"type\":\"scatterpolargl\"}],\"scatterternary\":[{\"marker\":{\"colorbar\":{\"outlinewidth\":0,\"ticks\":\"\"}},\"type\":\"scatterternary\"}],\"surface\":[{\"colorbar\":{\"outlinewidth\":0,\"ticks\":\"\"},\"colorscale\":[[0.0,\"#0d0887\"],[0.1111111111111111,\"#46039f\"],[0.2222222222222222,\"#7201a8\"],[0.3333333333333333,\"#9c179e\"],[0.4444444444444444,\"#bd3786\"],[0.5555555555555556,\"#d8576b\"],[0.6666666666666666,\"#ed7953\"],[0.7777777777777778,\"#fb9f3a\"],[0.8888888888888888,\"#fdca26\"],[1.0,\"#f0f921\"]],\"type\":\"surface\"}],\"table\":[{\"cells\":{\"fill\":{\"color\":\"#EBF0F8\"},\"line\":{\"color\":\"white\"}},\"header\":{\"fill\":{\"color\":\"#C8D4E3\"},\"line\":{\"color\":\"white\"}},\"type\":\"table\"}]},\"layout\":{\"annotationdefaults\":{\"arrowcolor\":\"#2a3f5f\",\"arrowhead\":0,\"arrowwidth\":1},\"autotypenumbers\":\"strict\",\"coloraxis\":{\"colorbar\":{\"outlinewidth\":0,\"ticks\":\"\"}},\"colorscale\":{\"diverging\":[[0,\"#8e0152\"],[0.1,\"#c51b7d\"],[0.2,\"#de77ae\"],[0.3,\"#f1b6da\"],[0.4,\"#fde0ef\"],[0.5,\"#f7f7f7\"],[0.6,\"#e6f5d0\"],[0.7,\"#b8e186\"],[0.8,\"#7fbc41\"],[0.9,\"#4d9221\"],[1,\"#276419\"]],\"sequential\":[[0.0,\"#0d0887\"],[0.1111111111111111,\"#46039f\"],[0.2222222222222222,\"#7201a8\"],[0.3333333333333333,\"#9c179e\"],[0.4444444444444444,\"#bd3786\"],[0.5555555555555556,\"#d8576b\"],[0.6666666666666666,\"#ed7953\"],[0.7777777777777778,\"#fb9f3a\"],[0.8888888888888888,\"#fdca26\"],[1.0,\"#f0f921\"]],\"sequentialminus\":[[0.0,\"#0d0887\"],[0.1111111111111111,\"#46039f\"],[0.2222222222222222,\"#7201a8\"],[0.3333333333333333,\"#9c179e\"],[0.4444444444444444,\"#bd3786\"],[0.5555555555555556,\"#d8576b\"],[0.6666666666666666,\"#ed7953\"],[0.7777777777777778,\"#fb9f3a\"],[0.8888888888888888,\"#fdca26\"],[1.0,\"#f0f921\"]]},\"colorway\":[\"#636efa\",\"#EF553B\",\"#00cc96\",\"#ab63fa\",\"#FFA15A\",\"#19d3f3\",\"#FF6692\",\"#B6E880\",\"#FF97FF\",\"#FECB52\"],\"font\":{\"color\":\"#2a3f5f\"},\"geo\":{\"bgcolor\":\"white\",\"lakecolor\":\"white\",\"landcolor\":\"#E5ECF6\",\"showlakes\":true,\"showland\":true,\"subunitcolor\":\"white\"},\"hoverlabel\":{\"align\":\"left\"},\"hovermode\":\"closest\",\"mapbox\":{\"style\":\"light\"},\"paper_bgcolor\":\"white\",\"plot_bgcolor\":\"#E5ECF6\",\"polar\":{\"angularaxis\":{\"gridcolor\":\"white\",\"linecolor\":\"white\",\"ticks\":\"\"},\"bgcolor\":\"#E5ECF6\",\"radialaxis\":{\"gridcolor\":\"white\",\"linecolor\":\"white\",\"ticks\":\"\"}},\"scene\":{\"xaxis\":{\"backgroundcolor\":\"#E5ECF6\",\"gridcolor\":\"white\",\"gridwidth\":2,\"linecolor\":\"white\",\"showbackground\":true,\"ticks\":\"\",\"zerolinecolor\":\"white\"},\"yaxis\":{\"backgroundcolor\":\"#E5ECF6\",\"gridcolor\":\"white\",\"gridwidth\":2,\"linecolor\":\"white\",\"showbackground\":true,\"ticks\":\"\",\"zerolinecolor\":\"white\"},\"zaxis\":{\"backgroundcolor\":\"#E5ECF6\",\"gridcolor\":\"white\",\"gridwidth\":2,\"linecolor\":\"white\",\"showbackground\":true,\"ticks\":\"\",\"zerolinecolor\":\"white\"}},\"shapedefaults\":{\"line\":{\"color\":\"#2a3f5f\"}},\"ternary\":{\"aaxis\":{\"gridcolor\":\"white\",\"linecolor\":\"white\",\"ticks\":\"\"},\"baxis\":{\"gridcolor\":\"white\",\"linecolor\":\"white\",\"ticks\":\"\"},\"bgcolor\":\"#E5ECF6\",\"caxis\":{\"gridcolor\":\"white\",\"linecolor\":\"white\",\"ticks\":\"\"}},\"title\":{\"x\":0.05},\"xaxis\":{\"automargin\":true,\"gridcolor\":\"white\",\"linecolor\":\"white\",\"ticks\":\"\",\"title\":{\"standoff\":15},\"zerolinecolor\":\"white\",\"zerolinewidth\":2},\"yaxis\":{\"automargin\":true,\"gridcolor\":\"white\",\"linecolor\":\"white\",\"ticks\":\"\",\"title\":{\"standoff\":15},\"zerolinecolor\":\"white\",\"zerolinewidth\":2}}},\"xaxis\":{\"anchor\":\"y\",\"domain\":[0.0,1.0],\"title\":{\"text\":\"Strike Rate\"}},\"yaxis\":{\"anchor\":\"x\",\"domain\":[0.0,1.0],\"title\":{\"text\":\"Team\"},\"type\":\"category\",\"categoryorder\":\"total ascending\"},\"legend\":{\"title\":{\"text\":\"color\"},\"tracegroupgap\":0},\"title\":{\"text\":\"Strike Rate Against Each Team\"},\"barmode\":\"relative\"},                        {\"responsive\": true}                    ).then(function(){\n",
       "                            \n",
       "var gd = document.getElementById('dd41b15e-4857-4e0d-ad25-c784df575a8e');\n",
       "var x = new MutationObserver(function (mutations, observer) {{\n",
       "        var display = window.getComputedStyle(gd).display;\n",
       "        if (!display || display === 'none') {{\n",
       "            console.log([gd, 'removed!']);\n",
       "            Plotly.purge(gd);\n",
       "            observer.disconnect();\n",
       "        }}\n",
       "}});\n",
       "\n",
       "// Listen for the removal of the full notebook cells\n",
       "var notebookContainer = gd.closest('#notebook-container');\n",
       "if (notebookContainer) {{\n",
       "    x.observe(notebookContainer, {childList: true});\n",
       "}}\n",
       "\n",
       "// Listen for the clearing of the current output cell\n",
       "var outputEl = gd.closest('.output');\n",
       "if (outputEl) {{\n",
       "    x.observe(outputEl, {childList: true});\n",
       "}}\n",
       "\n",
       "                        })                };                });            </script>        </div>"
      ]
     },
     "metadata": {},
     "output_type": "display_data"
    }
   ],
   "source": [
    "\n",
    "data['S/R'] = pd.to_numeric(data['S/R'], errors='coerce')\n",
    "value = data.groupby('Versus')['S/R'].mean().values\n",
    "label = data.groupby('Versus')['S/R'].sum().index\n",
    "fig = px.bar(data_frame=df, y=label, x=value, title=\"Strike Rate Against Each Team\",\n",
    "             labels={\"x\": \"Strike Rate\", \"y\": \"Team\"}, color=label)\n",
    "\n",
    "fig.update_traces(marker=dict(line=dict(color='black', width=2)))\n",
    "fig.update_yaxes(type='category', categoryorder='total ascending')\n",
    "\n",
    "fig.show()"
   ]
  },
  {
   "cell_type": "code",
   "execution_count": 112,
   "id": "1f272b7a",
   "metadata": {},
   "outputs": [
    {
     "data": {
      "image/png": "[encoded data removed]",
      "text/plain": [
       "<Figure size 432x288 with 1 Axes>"
      ]
     },
     "metadata": {
      "needs_background": "light"
     },
     "output_type": "display_data"
    }
   ],
   "source": [
    "dk=pd.read_csv('ms_dhoni.csv')\n",
    "dismissals = dk[~dk['How Dismissed'].isin(['did not bat', 'not out'])]['How Dismissed'].value_counts()\n",
    "\n",
    "\n",
    "# Plot the bar graph\n",
    "dismissals.plot(kind='bar')\n",
    "\n",
    "# Add labels and title\n",
    "plt.xlabel('Dismissal Type')\n",
    "plt.ylabel('Frequency')\n",
    "plt.title('Dismissal Type of Dhoni')\n",
    "\n",
    "# Display the plot\n",
    "plt.show()\n",
    "\n",
    "\n",
    "\n",
    "\n",
    "\n",
    "\n"
   ]
  },
  {
   "cell_type": "code",
   "execution_count": 152,
   "id": "b05f51e3",
   "metadata": {},
   "outputs": [
    {
     "name": "stdout",
     "output_type": "stream",
     "text": [
      "Perera          6\n",
      "Anderson        6\n",
      "Brett Lee       5\n",
      "Shoaib Malik    4\n",
      "Bresnan         4\n",
      "               ..\n",
      "Watson          1\n",
      "Ireland         1\n",
      "Ryder           1\n",
      "Mills           1\n",
      "Rashid Khan     1\n",
      "Name: Bowler, Length: 118, dtype: int64\n"
     ]
    },
    {
     "data": {
      "image/png": "[encoded data removed]",
      "text/plain": [
       "<Figure size 2160x2016 with 1 Axes>"
      ]
     },
     "metadata": {
      "needs_background": "light"
     },
     "output_type": "display_data"
    }
   ],
   "source": [
    "dismissals = dk[~dk['Bowler'].isin(['did not bat', 'not out', 'run out'])]['Bowler'].value_counts()\n",
    "print(dismissals)\n",
    "dismissals = dismissals[dismissals > 1]\n",
    "plt.figure(figsize=(30, 28))\n",
    "dismissals.plot(kind='barh')\n",
    "\n",
    "plt.xlabel('Frequency')\n",
    "plt.ylabel('Bowler')\n",
    "plt.title('Dismissal Frequency of Dhoni by Bowler')\n",
    "\n",
    "plt.show()\n"
   ]
  },
  {
   "cell_type": "code",
   "execution_count": null,
   "id": "12033d8b",
   "metadata": {},
   "outputs": [],
   "source": []
  }
 ],
 "metadata": {
  "kernelspec": {
   "display_name": "Python 3 (ipykernel)",
   "language": "python",
   "name": "python3"
  },
  "language_info": {
   "codemirror_mode": {
    "name": "ipython",
    "version": 3
   },
   "file_extension": ".py",
   "mimetype": "text/x-python",
   "name": "python",
   "nbconvert_exporter": "python",
   "pygments_lexer": "ipython3",
   "version": "3.9.12"
  }
 },
 "nbformat": 4,
 "nbformat_minor": 5
}
